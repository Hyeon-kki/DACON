{
 "cells": [
  {
   "cell_type": "code",
   "execution_count": 1,
   "metadata": {},
   "outputs": [],
   "source": [
    "import pandas as pd\n",
    "\n",
    "def feature_summary(df):\n",
    "    temp = 'Dataframe Size'\n",
    "    print(f'----------------------------{temp:^16}----------------------------')\n",
    "    print(f'num: {len(df)}')\n",
    "\n",
    "    temp = 'Dtype Size'\n",
    "    type_idx = df.dtypes.value_counts().index\n",
    "    type_num = df.dtypes.value_counts().values\n",
    "    print(f'----------------------------{temp:^16}----------------------------')\n",
    "    for type, num in (zip(type_idx, type_num)):\n",
    "        print(f'Type {type} : {num}')\n",
    "    feature_summary = pd.DataFrame(df.dtypes, columns=[\"Data Type\"]) # dtype\n",
    "    feature_summary.reset_index(inplace=True)\n",
    "    feature_summary.rename(columns={'index': 'Feature Name'}, inplace=True) \n",
    "    feature_summary['Nunique'] = df.nunique().values \n",
    "    feature_summary['NullValue'] = df.isnull().sum().values\n",
    "    feature_summary['NullValue Ratio'] = (df.isnull().sum().values / len(df))*100\n",
    "    feature_summary['value_1'] = df.loc[0].values\n",
    "    feature_summary['value_2'] = df.loc[1].values\n",
    "    feature_summary['value_3'] = df.loc[2].values\n",
    "    return feature_summary\n"
   ]
  },
  {
   "cell_type": "code",
   "execution_count": 2,
   "metadata": {},
   "outputs": [],
   "source": [
    "df = pd.read_csv('/home/workspace/DACON/Click_predict/data/train.csv')"
   ]
  },
  {
   "cell_type": "code",
   "execution_count": 1,
   "metadata": {},
   "outputs": [],
   "source": [
    "# 09 07 16 39 25 20 02 \n",
    "# 분석해보기 (고유값 수에 따라서 분류 실험 진행해보기)"
   ]
  },
  {
   "cell_type": "code",
   "execution_count": null,
   "metadata": {},
   "outputs": [],
   "source": []
  }
 ],
 "metadata": {
  "kernelspec": {
   "display_name": "code_sim",
   "language": "python",
   "name": "python3"
  },
  "language_info": {
   "codemirror_mode": {
    "name": "ipython",
    "version": 3
   },
   "file_extension": ".py",
   "mimetype": "text/x-python",
   "name": "python",
   "nbconvert_exporter": "python",
   "pygments_lexer": "ipython3",
   "version": "3.9.18"
  }
 },
 "nbformat": 4,
 "nbformat_minor": 2
}
