{
 "cells": [
  {
   "cell_type": "code",
   "execution_count": 3,
   "metadata": {},
   "outputs": [],
   "source": [
    "import numpy as np\n",
    "import polars as pl\n",
    "import pandas as pd\n",
    "import matplotlib.pyplot as plt\n",
    "import seaborn as sns\n",
    "import sys\n",
    "sys.path.append(\"..\")\n",
    "from utils import *\n",
    "import warnings\n",
    "warnings.filterwarnings(\"ignore\")\n",
    "import os\n",
    "import psutil\n",
    "\n",
    "pd.options.display.max_columns=1000\n",
    "pd.options.display.max_rows=1000\n",
    "\n",
    "import lightgbm as lgb\n",
    "import matplotlib.pyplot as plt\n",
    "import seaborn as sns\n",
    "from sklearn.model_selection import train_test_split\n",
    "from sklearn.metrics import roc_auc_score \n",
    "from catboost import CatBoostClassifier, Pool"
   ]
  },
  {
   "cell_type": "code",
   "execution_count": 4,
   "metadata": {},
   "outputs": [
    {
     "ename": "KeyboardInterrupt",
     "evalue": "",
     "output_type": "error",
     "traceback": [
      "\u001b[0;31m---------------------------------------------------------------------------\u001b[0m",
      "\u001b[0;31mKeyboardInterrupt\u001b[0m                         Traceback (most recent call last)",
      "Cell \u001b[0;32mIn[4], line 2\u001b[0m\n\u001b[1;32m      1\u001b[0m \u001b[38;5;124;03m''' Data Load '''\u001b[39;00m\n\u001b[0;32m----> 2\u001b[0m train \u001b[38;5;241m=\u001b[39m \u001b[43mpl\u001b[49m\u001b[38;5;241;43m.\u001b[39;49m\u001b[43mread_csv\u001b[49m\u001b[43m(\u001b[49m\u001b[38;5;124;43m'\u001b[39;49m\u001b[38;5;124;43m/home/workspace/DACON/Click_predict/data/train.csv\u001b[39;49m\u001b[38;5;124;43m'\u001b[39;49m\u001b[43m)\u001b[49m\n\u001b[1;32m      3\u001b[0m test \u001b[38;5;241m=\u001b[39m pl\u001b[38;5;241m.\u001b[39mread_csv(\u001b[38;5;124m'\u001b[39m\u001b[38;5;124m/home/workspace/DACON/Click_predict/data/test.csv\u001b[39m\u001b[38;5;124m'\u001b[39m)\n\u001b[1;32m      4\u001b[0m train, test \u001b[38;5;241m=\u001b[39m to_pandas(train, test)\n",
      "File \u001b[0;32m~/anaconda3/envs/code_sim/lib/python3.9/site-packages/polars/_utils/deprecation.py:134\u001b[0m, in \u001b[0;36mdeprecate_renamed_parameter.<locals>.decorate.<locals>.wrapper\u001b[0;34m(*args, **kwargs)\u001b[0m\n\u001b[1;32m    129\u001b[0m \u001b[38;5;129m@wraps\u001b[39m(function)\n\u001b[1;32m    130\u001b[0m \u001b[38;5;28;01mdef\u001b[39;00m \u001b[38;5;21mwrapper\u001b[39m(\u001b[38;5;241m*\u001b[39margs: P\u001b[38;5;241m.\u001b[39margs, \u001b[38;5;241m*\u001b[39m\u001b[38;5;241m*\u001b[39mkwargs: P\u001b[38;5;241m.\u001b[39mkwargs) \u001b[38;5;241m-\u001b[39m\u001b[38;5;241m>\u001b[39m T:\n\u001b[1;32m    131\u001b[0m     _rename_keyword_argument(\n\u001b[1;32m    132\u001b[0m         old_name, new_name, kwargs, function\u001b[38;5;241m.\u001b[39m\u001b[38;5;18m__name__\u001b[39m, version\n\u001b[1;32m    133\u001b[0m     )\n\u001b[0;32m--> 134\u001b[0m     \u001b[38;5;28;01mreturn\u001b[39;00m \u001b[43mfunction\u001b[49m\u001b[43m(\u001b[49m\u001b[38;5;241;43m*\u001b[39;49m\u001b[43margs\u001b[49m\u001b[43m,\u001b[49m\u001b[43m \u001b[49m\u001b[38;5;241;43m*\u001b[39;49m\u001b[38;5;241;43m*\u001b[39;49m\u001b[43mkwargs\u001b[49m\u001b[43m)\u001b[49m\n",
      "File \u001b[0;32m~/anaconda3/envs/code_sim/lib/python3.9/site-packages/polars/_utils/deprecation.py:134\u001b[0m, in \u001b[0;36mdeprecate_renamed_parameter.<locals>.decorate.<locals>.wrapper\u001b[0;34m(*args, **kwargs)\u001b[0m\n\u001b[1;32m    129\u001b[0m \u001b[38;5;129m@wraps\u001b[39m(function)\n\u001b[1;32m    130\u001b[0m \u001b[38;5;28;01mdef\u001b[39;00m \u001b[38;5;21mwrapper\u001b[39m(\u001b[38;5;241m*\u001b[39margs: P\u001b[38;5;241m.\u001b[39margs, \u001b[38;5;241m*\u001b[39m\u001b[38;5;241m*\u001b[39mkwargs: P\u001b[38;5;241m.\u001b[39mkwargs) \u001b[38;5;241m-\u001b[39m\u001b[38;5;241m>\u001b[39m T:\n\u001b[1;32m    131\u001b[0m     _rename_keyword_argument(\n\u001b[1;32m    132\u001b[0m         old_name, new_name, kwargs, function\u001b[38;5;241m.\u001b[39m\u001b[38;5;18m__name__\u001b[39m, version\n\u001b[1;32m    133\u001b[0m     )\n\u001b[0;32m--> 134\u001b[0m     \u001b[38;5;28;01mreturn\u001b[39;00m \u001b[43mfunction\u001b[49m\u001b[43m(\u001b[49m\u001b[38;5;241;43m*\u001b[39;49m\u001b[43margs\u001b[49m\u001b[43m,\u001b[49m\u001b[43m \u001b[49m\u001b[38;5;241;43m*\u001b[39;49m\u001b[38;5;241;43m*\u001b[39;49m\u001b[43mkwargs\u001b[49m\u001b[43m)\u001b[49m\n",
      "File \u001b[0;32m~/anaconda3/envs/code_sim/lib/python3.9/site-packages/polars/_utils/deprecation.py:134\u001b[0m, in \u001b[0;36mdeprecate_renamed_parameter.<locals>.decorate.<locals>.wrapper\u001b[0;34m(*args, **kwargs)\u001b[0m\n\u001b[1;32m    129\u001b[0m \u001b[38;5;129m@wraps\u001b[39m(function)\n\u001b[1;32m    130\u001b[0m \u001b[38;5;28;01mdef\u001b[39;00m \u001b[38;5;21mwrapper\u001b[39m(\u001b[38;5;241m*\u001b[39margs: P\u001b[38;5;241m.\u001b[39margs, \u001b[38;5;241m*\u001b[39m\u001b[38;5;241m*\u001b[39mkwargs: P\u001b[38;5;241m.\u001b[39mkwargs) \u001b[38;5;241m-\u001b[39m\u001b[38;5;241m>\u001b[39m T:\n\u001b[1;32m    131\u001b[0m     _rename_keyword_argument(\n\u001b[1;32m    132\u001b[0m         old_name, new_name, kwargs, function\u001b[38;5;241m.\u001b[39m\u001b[38;5;18m__name__\u001b[39m, version\n\u001b[1;32m    133\u001b[0m     )\n\u001b[0;32m--> 134\u001b[0m     \u001b[38;5;28;01mreturn\u001b[39;00m \u001b[43mfunction\u001b[49m\u001b[43m(\u001b[49m\u001b[38;5;241;43m*\u001b[39;49m\u001b[43margs\u001b[49m\u001b[43m,\u001b[49m\u001b[43m \u001b[49m\u001b[38;5;241;43m*\u001b[39;49m\u001b[38;5;241;43m*\u001b[39;49m\u001b[43mkwargs\u001b[49m\u001b[43m)\u001b[49m\n",
      "File \u001b[0;32m~/anaconda3/envs/code_sim/lib/python3.9/site-packages/polars/io/csv/functions.py:419\u001b[0m, in \u001b[0;36mread_csv\u001b[0;34m(source, has_header, columns, new_columns, separator, comment_prefix, quote_char, skip_rows, dtypes, schema, null_values, missing_utf8_is_empty_string, ignore_errors, try_parse_dates, n_threads, infer_schema_length, batch_size, n_rows, encoding, low_memory, rechunk, use_pyarrow, storage_options, skip_rows_after_header, row_index_name, row_index_offset, sample_size, eol_char, raise_if_empty, truncate_ragged_lines, decimal_comma, glob)\u001b[0m\n\u001b[1;32m    407\u001b[0m         dtypes \u001b[38;5;241m=\u001b[39m {\n\u001b[1;32m    408\u001b[0m             new_to_current\u001b[38;5;241m.\u001b[39mget(column_name, column_name): column_dtype\n\u001b[1;32m    409\u001b[0m             \u001b[38;5;28;01mfor\u001b[39;00m column_name, column_dtype \u001b[38;5;129;01min\u001b[39;00m dtypes\u001b[38;5;241m.\u001b[39mitems()\n\u001b[1;32m    410\u001b[0m         }\n\u001b[1;32m    412\u001b[0m \u001b[38;5;28;01mwith\u001b[39;00m prepare_file_arg(\n\u001b[1;32m    413\u001b[0m     source,\n\u001b[1;32m    414\u001b[0m     encoding\u001b[38;5;241m=\u001b[39mencoding,\n\u001b[0;32m   (...)\u001b[0m\n\u001b[1;32m    417\u001b[0m     storage_options\u001b[38;5;241m=\u001b[39mstorage_options,\n\u001b[1;32m    418\u001b[0m ) \u001b[38;5;28;01mas\u001b[39;00m data:\n\u001b[0;32m--> 419\u001b[0m     df \u001b[38;5;241m=\u001b[39m \u001b[43m_read_csv_impl\u001b[49m\u001b[43m(\u001b[49m\n\u001b[1;32m    420\u001b[0m \u001b[43m        \u001b[49m\u001b[43mdata\u001b[49m\u001b[43m,\u001b[49m\n\u001b[1;32m    421\u001b[0m \u001b[43m        \u001b[49m\u001b[43mhas_header\u001b[49m\u001b[38;5;241;43m=\u001b[39;49m\u001b[43mhas_header\u001b[49m\u001b[43m,\u001b[49m\n\u001b[1;32m    422\u001b[0m \u001b[43m        \u001b[49m\u001b[43mcolumns\u001b[49m\u001b[38;5;241;43m=\u001b[39;49m\u001b[43mcolumns\u001b[49m\u001b[43m \u001b[49m\u001b[38;5;28;43;01mif\u001b[39;49;00m\u001b[43m \u001b[49m\u001b[43mcolumns\u001b[49m\u001b[43m \u001b[49m\u001b[38;5;28;43;01melse\u001b[39;49;00m\u001b[43m \u001b[49m\u001b[43mprojection\u001b[49m\u001b[43m,\u001b[49m\n\u001b[1;32m    423\u001b[0m \u001b[43m        \u001b[49m\u001b[43mseparator\u001b[49m\u001b[38;5;241;43m=\u001b[39;49m\u001b[43mseparator\u001b[49m\u001b[43m,\u001b[49m\n\u001b[1;32m    424\u001b[0m \u001b[43m        \u001b[49m\u001b[43mcomment_prefix\u001b[49m\u001b[38;5;241;43m=\u001b[39;49m\u001b[43mcomment_prefix\u001b[49m\u001b[43m,\u001b[49m\n\u001b[1;32m    425\u001b[0m \u001b[43m        \u001b[49m\u001b[43mquote_char\u001b[49m\u001b[38;5;241;43m=\u001b[39;49m\u001b[43mquote_char\u001b[49m\u001b[43m,\u001b[49m\n\u001b[1;32m    426\u001b[0m \u001b[43m        \u001b[49m\u001b[43mskip_rows\u001b[49m\u001b[38;5;241;43m=\u001b[39;49m\u001b[43mskip_rows\u001b[49m\u001b[43m,\u001b[49m\n\u001b[1;32m    427\u001b[0m \u001b[43m        \u001b[49m\u001b[43mdtypes\u001b[49m\u001b[38;5;241;43m=\u001b[39;49m\u001b[43mdtypes\u001b[49m\u001b[43m,\u001b[49m\n\u001b[1;32m    428\u001b[0m \u001b[43m        \u001b[49m\u001b[43mschema\u001b[49m\u001b[38;5;241;43m=\u001b[39;49m\u001b[43mschema\u001b[49m\u001b[43m,\u001b[49m\n\u001b[1;32m    429\u001b[0m \u001b[43m        \u001b[49m\u001b[43mnull_values\u001b[49m\u001b[38;5;241;43m=\u001b[39;49m\u001b[43mnull_values\u001b[49m\u001b[43m,\u001b[49m\n\u001b[1;32m    430\u001b[0m \u001b[43m        \u001b[49m\u001b[43mmissing_utf8_is_empty_string\u001b[49m\u001b[38;5;241;43m=\u001b[39;49m\u001b[43mmissing_utf8_is_empty_string\u001b[49m\u001b[43m,\u001b[49m\n\u001b[1;32m    431\u001b[0m \u001b[43m        \u001b[49m\u001b[43mignore_errors\u001b[49m\u001b[38;5;241;43m=\u001b[39;49m\u001b[43mignore_errors\u001b[49m\u001b[43m,\u001b[49m\n\u001b[1;32m    432\u001b[0m \u001b[43m        \u001b[49m\u001b[43mtry_parse_dates\u001b[49m\u001b[38;5;241;43m=\u001b[39;49m\u001b[43mtry_parse_dates\u001b[49m\u001b[43m,\u001b[49m\n\u001b[1;32m    433\u001b[0m \u001b[43m        \u001b[49m\u001b[43mn_threads\u001b[49m\u001b[38;5;241;43m=\u001b[39;49m\u001b[43mn_threads\u001b[49m\u001b[43m,\u001b[49m\n\u001b[1;32m    434\u001b[0m \u001b[43m        \u001b[49m\u001b[43minfer_schema_length\u001b[49m\u001b[38;5;241;43m=\u001b[39;49m\u001b[43minfer_schema_length\u001b[49m\u001b[43m,\u001b[49m\n\u001b[1;32m    435\u001b[0m \u001b[43m        \u001b[49m\u001b[43mbatch_size\u001b[49m\u001b[38;5;241;43m=\u001b[39;49m\u001b[43mbatch_size\u001b[49m\u001b[43m,\u001b[49m\n\u001b[1;32m    436\u001b[0m \u001b[43m        \u001b[49m\u001b[43mn_rows\u001b[49m\u001b[38;5;241;43m=\u001b[39;49m\u001b[43mn_rows\u001b[49m\u001b[43m,\u001b[49m\n\u001b[1;32m    437\u001b[0m \u001b[43m        \u001b[49m\u001b[43mencoding\u001b[49m\u001b[38;5;241;43m=\u001b[39;49m\u001b[43mencoding\u001b[49m\u001b[43m \u001b[49m\u001b[38;5;28;43;01mif\u001b[39;49;00m\u001b[43m \u001b[49m\u001b[43mencoding\u001b[49m\u001b[43m \u001b[49m\u001b[38;5;241;43m==\u001b[39;49m\u001b[43m \u001b[49m\u001b[38;5;124;43m\"\u001b[39;49m\u001b[38;5;124;43mutf8-lossy\u001b[39;49m\u001b[38;5;124;43m\"\u001b[39;49m\u001b[43m \u001b[49m\u001b[38;5;28;43;01melse\u001b[39;49;00m\u001b[43m \u001b[49m\u001b[38;5;124;43m\"\u001b[39;49m\u001b[38;5;124;43mutf8\u001b[39;49m\u001b[38;5;124;43m\"\u001b[39;49m\u001b[43m,\u001b[49m\n\u001b[1;32m    438\u001b[0m \u001b[43m        \u001b[49m\u001b[43mlow_memory\u001b[49m\u001b[38;5;241;43m=\u001b[39;49m\u001b[43mlow_memory\u001b[49m\u001b[43m,\u001b[49m\n\u001b[1;32m    439\u001b[0m \u001b[43m        \u001b[49m\u001b[43mrechunk\u001b[49m\u001b[38;5;241;43m=\u001b[39;49m\u001b[43mrechunk\u001b[49m\u001b[43m,\u001b[49m\n\u001b[1;32m    440\u001b[0m \u001b[43m        \u001b[49m\u001b[43mskip_rows_after_header\u001b[49m\u001b[38;5;241;43m=\u001b[39;49m\u001b[43mskip_rows_after_header\u001b[49m\u001b[43m,\u001b[49m\n\u001b[1;32m    441\u001b[0m \u001b[43m        \u001b[49m\u001b[43mrow_index_name\u001b[49m\u001b[38;5;241;43m=\u001b[39;49m\u001b[43mrow_index_name\u001b[49m\u001b[43m,\u001b[49m\n\u001b[1;32m    442\u001b[0m \u001b[43m        \u001b[49m\u001b[43mrow_index_offset\u001b[49m\u001b[38;5;241;43m=\u001b[39;49m\u001b[43mrow_index_offset\u001b[49m\u001b[43m,\u001b[49m\n\u001b[1;32m    443\u001b[0m \u001b[43m        \u001b[49m\u001b[43msample_size\u001b[49m\u001b[38;5;241;43m=\u001b[39;49m\u001b[43msample_size\u001b[49m\u001b[43m,\u001b[49m\n\u001b[1;32m    444\u001b[0m \u001b[43m        \u001b[49m\u001b[43meol_char\u001b[49m\u001b[38;5;241;43m=\u001b[39;49m\u001b[43meol_char\u001b[49m\u001b[43m,\u001b[49m\n\u001b[1;32m    445\u001b[0m \u001b[43m        \u001b[49m\u001b[43mraise_if_empty\u001b[49m\u001b[38;5;241;43m=\u001b[39;49m\u001b[43mraise_if_empty\u001b[49m\u001b[43m,\u001b[49m\n\u001b[1;32m    446\u001b[0m \u001b[43m        \u001b[49m\u001b[43mtruncate_ragged_lines\u001b[49m\u001b[38;5;241;43m=\u001b[39;49m\u001b[43mtruncate_ragged_lines\u001b[49m\u001b[43m,\u001b[49m\n\u001b[1;32m    447\u001b[0m \u001b[43m        \u001b[49m\u001b[43mdecimal_comma\u001b[49m\u001b[38;5;241;43m=\u001b[39;49m\u001b[43mdecimal_comma\u001b[49m\u001b[43m,\u001b[49m\n\u001b[1;32m    448\u001b[0m \u001b[43m        \u001b[49m\u001b[43mglob\u001b[49m\u001b[38;5;241;43m=\u001b[39;49m\u001b[43mglob\u001b[49m\u001b[43m,\u001b[49m\n\u001b[1;32m    449\u001b[0m \u001b[43m    \u001b[49m\u001b[43m)\u001b[49m\n\u001b[1;32m    451\u001b[0m \u001b[38;5;28;01mif\u001b[39;00m new_columns:\n\u001b[1;32m    452\u001b[0m     \u001b[38;5;28;01mreturn\u001b[39;00m _update_columns(df, new_columns)\n",
      "File \u001b[0;32m~/anaconda3/envs/code_sim/lib/python3.9/site-packages/polars/io/csv/functions.py:565\u001b[0m, in \u001b[0;36m_read_csv_impl\u001b[0;34m(source, has_header, columns, separator, comment_prefix, quote_char, skip_rows, dtypes, schema, null_values, missing_utf8_is_empty_string, ignore_errors, try_parse_dates, n_threads, infer_schema_length, batch_size, n_rows, encoding, low_memory, rechunk, skip_rows_after_header, row_index_name, row_index_offset, sample_size, eol_char, raise_if_empty, truncate_ragged_lines, decimal_comma, glob)\u001b[0m\n\u001b[1;32m    561\u001b[0m         \u001b[38;5;28;01mraise\u001b[39;00m \u001b[38;5;167;01mValueError\u001b[39;00m(msg)\n\u001b[1;32m    563\u001b[0m projection, columns \u001b[38;5;241m=\u001b[39m parse_columns_arg(columns)\n\u001b[0;32m--> 565\u001b[0m pydf \u001b[38;5;241m=\u001b[39m \u001b[43mPyDataFrame\u001b[49m\u001b[38;5;241;43m.\u001b[39;49m\u001b[43mread_csv\u001b[49m\u001b[43m(\u001b[49m\n\u001b[1;32m    566\u001b[0m \u001b[43m    \u001b[49m\u001b[43msource\u001b[49m\u001b[43m,\u001b[49m\n\u001b[1;32m    567\u001b[0m \u001b[43m    \u001b[49m\u001b[43minfer_schema_length\u001b[49m\u001b[43m,\u001b[49m\n\u001b[1;32m    568\u001b[0m \u001b[43m    \u001b[49m\u001b[43mbatch_size\u001b[49m\u001b[43m,\u001b[49m\n\u001b[1;32m    569\u001b[0m \u001b[43m    \u001b[49m\u001b[43mhas_header\u001b[49m\u001b[43m,\u001b[49m\n\u001b[1;32m    570\u001b[0m \u001b[43m    \u001b[49m\u001b[43mignore_errors\u001b[49m\u001b[43m,\u001b[49m\n\u001b[1;32m    571\u001b[0m \u001b[43m    \u001b[49m\u001b[43mn_rows\u001b[49m\u001b[43m,\u001b[49m\n\u001b[1;32m    572\u001b[0m \u001b[43m    \u001b[49m\u001b[43mskip_rows\u001b[49m\u001b[43m,\u001b[49m\n\u001b[1;32m    573\u001b[0m \u001b[43m    \u001b[49m\u001b[43mprojection\u001b[49m\u001b[43m,\u001b[49m\n\u001b[1;32m    574\u001b[0m \u001b[43m    \u001b[49m\u001b[43mseparator\u001b[49m\u001b[43m,\u001b[49m\n\u001b[1;32m    575\u001b[0m \u001b[43m    \u001b[49m\u001b[43mrechunk\u001b[49m\u001b[43m,\u001b[49m\n\u001b[1;32m    576\u001b[0m \u001b[43m    \u001b[49m\u001b[43mcolumns\u001b[49m\u001b[43m,\u001b[49m\n\u001b[1;32m    577\u001b[0m \u001b[43m    \u001b[49m\u001b[43mencoding\u001b[49m\u001b[43m,\u001b[49m\n\u001b[1;32m    578\u001b[0m \u001b[43m    \u001b[49m\u001b[43mn_threads\u001b[49m\u001b[43m,\u001b[49m\n\u001b[1;32m    579\u001b[0m \u001b[43m    \u001b[49m\u001b[43mpath\u001b[49m\u001b[43m,\u001b[49m\n\u001b[1;32m    580\u001b[0m \u001b[43m    \u001b[49m\u001b[43mdtype_list\u001b[49m\u001b[43m,\u001b[49m\n\u001b[1;32m    581\u001b[0m \u001b[43m    \u001b[49m\u001b[43mdtype_slice\u001b[49m\u001b[43m,\u001b[49m\n\u001b[1;32m    582\u001b[0m \u001b[43m    \u001b[49m\u001b[43mlow_memory\u001b[49m\u001b[43m,\u001b[49m\n\u001b[1;32m    583\u001b[0m \u001b[43m    \u001b[49m\u001b[43mcomment_prefix\u001b[49m\u001b[43m,\u001b[49m\n\u001b[1;32m    584\u001b[0m \u001b[43m    \u001b[49m\u001b[43mquote_char\u001b[49m\u001b[43m,\u001b[49m\n\u001b[1;32m    585\u001b[0m \u001b[43m    \u001b[49m\u001b[43mprocessed_null_values\u001b[49m\u001b[43m,\u001b[49m\n\u001b[1;32m    586\u001b[0m \u001b[43m    \u001b[49m\u001b[43mmissing_utf8_is_empty_string\u001b[49m\u001b[43m,\u001b[49m\n\u001b[1;32m    587\u001b[0m \u001b[43m    \u001b[49m\u001b[43mtry_parse_dates\u001b[49m\u001b[43m,\u001b[49m\n\u001b[1;32m    588\u001b[0m \u001b[43m    \u001b[49m\u001b[43mskip_rows_after_header\u001b[49m\u001b[43m,\u001b[49m\n\u001b[1;32m    589\u001b[0m \u001b[43m    \u001b[49m\u001b[43mparse_row_index_args\u001b[49m\u001b[43m(\u001b[49m\u001b[43mrow_index_name\u001b[49m\u001b[43m,\u001b[49m\u001b[43m \u001b[49m\u001b[43mrow_index_offset\u001b[49m\u001b[43m)\u001b[49m\u001b[43m,\u001b[49m\n\u001b[1;32m    590\u001b[0m \u001b[43m    \u001b[49m\u001b[43msample_size\u001b[49m\u001b[38;5;241;43m=\u001b[39;49m\u001b[43msample_size\u001b[49m\u001b[43m,\u001b[49m\n\u001b[1;32m    591\u001b[0m \u001b[43m    \u001b[49m\u001b[43meol_char\u001b[49m\u001b[38;5;241;43m=\u001b[39;49m\u001b[43meol_char\u001b[49m\u001b[43m,\u001b[49m\n\u001b[1;32m    592\u001b[0m \u001b[43m    \u001b[49m\u001b[43mraise_if_empty\u001b[49m\u001b[38;5;241;43m=\u001b[39;49m\u001b[43mraise_if_empty\u001b[49m\u001b[43m,\u001b[49m\n\u001b[1;32m    593\u001b[0m \u001b[43m    \u001b[49m\u001b[43mtruncate_ragged_lines\u001b[49m\u001b[38;5;241;43m=\u001b[39;49m\u001b[43mtruncate_ragged_lines\u001b[49m\u001b[43m,\u001b[49m\n\u001b[1;32m    594\u001b[0m \u001b[43m    \u001b[49m\u001b[43mdecimal_comma\u001b[49m\u001b[38;5;241;43m=\u001b[39;49m\u001b[43mdecimal_comma\u001b[49m\u001b[43m,\u001b[49m\n\u001b[1;32m    595\u001b[0m \u001b[43m    \u001b[49m\u001b[43mschema\u001b[49m\u001b[38;5;241;43m=\u001b[39;49m\u001b[43mschema\u001b[49m\u001b[43m,\u001b[49m\n\u001b[1;32m    596\u001b[0m \u001b[43m\u001b[49m\u001b[43m)\u001b[49m\n\u001b[1;32m    597\u001b[0m \u001b[38;5;28;01mreturn\u001b[39;00m wrap_df(pydf)\n",
      "\u001b[0;31mKeyboardInterrupt\u001b[0m: "
     ]
    }
   ],
   "source": [
    "''' Data Load '''\n",
    "train = pl.read_csv('/home/workspace/DACON/Click_predict/data/train.csv')\n",
    "test = pl.read_csv('/home/workspace/DACON/Click_predict/data/test.csv')\n",
    "train, test = to_pandas(train, test)\n",
    "# train, test = load_data()\n",
    "# train = sampling('/home/workspace/DACON/Click_predict/data/train.csv')\n",
    "# test = pd.read_csv('/home/workspace/DACON/Click_predict/data/test.csv')\n",
    "\n",
    "''' Memory Optimization '''\n",
    "# train = reduce_mem_usage(train)\n",
    "# test = reduce_mem_usage(test)\n",
    "# print(\"k\")\n",
    "\n",
    "''' Preprocessing '''\n",
    "train = preprocessing(train)\n",
    "test = preprocessing(test, is_test = True)\n"
   ]
  },
  {
   "cell_type": "code",
   "execution_count": null,
   "metadata": {},
   "outputs": [],
   "source": [
    "''' Train / Vaild Split'''\n",
    "X_train = train.drop(columns = [\"Click\"]) \n",
    "y_train = train[\"Click\"]\n",
    "X_train, X_valid, y_train, y_valid = train_test_split(X_train, y_train, test_size=0.2, stratify=y_train, random_state=42)\n",
    "category_cols = list(X_train.select_dtypes(include=['category']).columns)"
   ]
  },
  {
   "cell_type": "code",
   "execution_count": null,
   "metadata": {},
   "outputs": [],
   "source": []
  },
  {
   "cell_type": "code",
   "execution_count": null,
   "metadata": {},
   "outputs": [
    {
     "data": {
      "text/plain": [
       "<catboost.core.CatBoostClassifier at 0x7f4b881bd880>"
      ]
     },
     "execution_count": 3,
     "metadata": {},
     "output_type": "execute_result"
    }
   ],
   "source": [
    "catb = CatBoostClassifier()\n",
    "catb.load_model('/home/workspace/DACON/Click_predict/Model/best_model3.cb')"
   ]
  },
  {
   "cell_type": "code",
   "execution_count": null,
   "metadata": {},
   "outputs": [],
   "source": [
    "catb.feature_importances_"
   ]
  },
  {
   "cell_type": "code",
   "execution_count": null,
   "metadata": {},
   "outputs": [
    {
     "name": "stdout",
     "output_type": "stream",
     "text": [
      "0.7745402543496831\n"
     ]
    }
   ],
   "source": [
    "# 전처리 전에 best: 0.7682916 (100)\n",
    "# 전처리 후에 best: 0.7684399 (100)\n",
    "y_pred = catb.predict_proba(X_valid)[:,1]\n",
    "# ROC AUC 평가\n",
    "score = roc_auc_score(y_valid, y_pred)\n",
    "print(score)"
   ]
  },
  {
   "cell_type": "code",
   "execution_count": null,
   "metadata": {},
   "outputs": [],
   "source": [
    "pred = catb.predict_proba(test)"
   ]
  },
  {
   "cell_type": "code",
   "execution_count": null,
   "metadata": {},
   "outputs": [
    {
     "ename": "OSError",
     "evalue": "Cannot save file into a non-existent directory: '/home/sgh/yes/envs/DACON'",
     "output_type": "error",
     "traceback": [
      "\u001b[0;31m---------------------------------------------------------------------------\u001b[0m",
      "\u001b[0;31mOSError\u001b[0m                                   Traceback (most recent call last)",
      "Cell \u001b[0;32mIn[8], line 3\u001b[0m\n\u001b[1;32m      1\u001b[0m sample_submission \u001b[38;5;241m=\u001b[39m pd\u001b[38;5;241m.\u001b[39mread_csv(\u001b[38;5;124m'\u001b[39m\u001b[38;5;124m/home/workspace/DACON/Click_predict/data/sample_submission.csv\u001b[39m\u001b[38;5;124m'\u001b[39m)\n\u001b[1;32m      2\u001b[0m sample_submission[\u001b[38;5;124m'\u001b[39m\u001b[38;5;124mClick\u001b[39m\u001b[38;5;124m'\u001b[39m] \u001b[38;5;241m=\u001b[39m pred\n\u001b[0;32m----> 3\u001b[0m \u001b[43msample_submission\u001b[49m\u001b[38;5;241;43m.\u001b[39;49m\u001b[43mto_csv\u001b[49m\u001b[43m(\u001b[49m\u001b[38;5;124;43m'\u001b[39;49m\u001b[38;5;124;43m/home/sgh/yes/envs/DACON/click_ratio(catb2).csv\u001b[39;49m\u001b[38;5;124;43m'\u001b[39;49m\u001b[43m,\u001b[49m\u001b[43mindex\u001b[49m\u001b[38;5;241;43m=\u001b[39;49m\u001b[38;5;28;43;01mFalse\u001b[39;49;00m\u001b[43m)\u001b[49m\n",
      "File \u001b[0;32m~/anaconda3/envs/code_sim/lib/python3.9/site-packages/pandas/util/_decorators.py:333\u001b[0m, in \u001b[0;36mdeprecate_nonkeyword_arguments.<locals>.decorate.<locals>.wrapper\u001b[0;34m(*args, **kwargs)\u001b[0m\n\u001b[1;32m    327\u001b[0m \u001b[38;5;28;01mif\u001b[39;00m \u001b[38;5;28mlen\u001b[39m(args) \u001b[38;5;241m>\u001b[39m num_allow_args:\n\u001b[1;32m    328\u001b[0m     warnings\u001b[38;5;241m.\u001b[39mwarn(\n\u001b[1;32m    329\u001b[0m         msg\u001b[38;5;241m.\u001b[39mformat(arguments\u001b[38;5;241m=\u001b[39m_format_argument_list(allow_args)),\n\u001b[1;32m    330\u001b[0m         \u001b[38;5;167;01mFutureWarning\u001b[39;00m,\n\u001b[1;32m    331\u001b[0m         stacklevel\u001b[38;5;241m=\u001b[39mfind_stack_level(),\n\u001b[1;32m    332\u001b[0m     )\n\u001b[0;32m--> 333\u001b[0m \u001b[38;5;28;01mreturn\u001b[39;00m \u001b[43mfunc\u001b[49m\u001b[43m(\u001b[49m\u001b[38;5;241;43m*\u001b[39;49m\u001b[43margs\u001b[49m\u001b[43m,\u001b[49m\u001b[43m \u001b[49m\u001b[38;5;241;43m*\u001b[39;49m\u001b[38;5;241;43m*\u001b[39;49m\u001b[43mkwargs\u001b[49m\u001b[43m)\u001b[49m\n",
      "File \u001b[0;32m~/anaconda3/envs/code_sim/lib/python3.9/site-packages/pandas/core/generic.py:3964\u001b[0m, in \u001b[0;36mNDFrame.to_csv\u001b[0;34m(self, path_or_buf, sep, na_rep, float_format, columns, header, index, index_label, mode, encoding, compression, quoting, quotechar, lineterminator, chunksize, date_format, doublequote, escapechar, decimal, errors, storage_options)\u001b[0m\n\u001b[1;32m   3953\u001b[0m df \u001b[38;5;241m=\u001b[39m \u001b[38;5;28mself\u001b[39m \u001b[38;5;28;01mif\u001b[39;00m \u001b[38;5;28misinstance\u001b[39m(\u001b[38;5;28mself\u001b[39m, ABCDataFrame) \u001b[38;5;28;01melse\u001b[39;00m \u001b[38;5;28mself\u001b[39m\u001b[38;5;241m.\u001b[39mto_frame()\n\u001b[1;32m   3955\u001b[0m formatter \u001b[38;5;241m=\u001b[39m DataFrameFormatter(\n\u001b[1;32m   3956\u001b[0m     frame\u001b[38;5;241m=\u001b[39mdf,\n\u001b[1;32m   3957\u001b[0m     header\u001b[38;5;241m=\u001b[39mheader,\n\u001b[0;32m   (...)\u001b[0m\n\u001b[1;32m   3961\u001b[0m     decimal\u001b[38;5;241m=\u001b[39mdecimal,\n\u001b[1;32m   3962\u001b[0m )\n\u001b[0;32m-> 3964\u001b[0m \u001b[38;5;28;01mreturn\u001b[39;00m \u001b[43mDataFrameRenderer\u001b[49m\u001b[43m(\u001b[49m\u001b[43mformatter\u001b[49m\u001b[43m)\u001b[49m\u001b[38;5;241;43m.\u001b[39;49m\u001b[43mto_csv\u001b[49m\u001b[43m(\u001b[49m\n\u001b[1;32m   3965\u001b[0m \u001b[43m    \u001b[49m\u001b[43mpath_or_buf\u001b[49m\u001b[43m,\u001b[49m\n\u001b[1;32m   3966\u001b[0m \u001b[43m    \u001b[49m\u001b[43mlineterminator\u001b[49m\u001b[38;5;241;43m=\u001b[39;49m\u001b[43mlineterminator\u001b[49m\u001b[43m,\u001b[49m\n\u001b[1;32m   3967\u001b[0m \u001b[43m    \u001b[49m\u001b[43msep\u001b[49m\u001b[38;5;241;43m=\u001b[39;49m\u001b[43msep\u001b[49m\u001b[43m,\u001b[49m\n\u001b[1;32m   3968\u001b[0m \u001b[43m    \u001b[49m\u001b[43mencoding\u001b[49m\u001b[38;5;241;43m=\u001b[39;49m\u001b[43mencoding\u001b[49m\u001b[43m,\u001b[49m\n\u001b[1;32m   3969\u001b[0m \u001b[43m    \u001b[49m\u001b[43merrors\u001b[49m\u001b[38;5;241;43m=\u001b[39;49m\u001b[43merrors\u001b[49m\u001b[43m,\u001b[49m\n\u001b[1;32m   3970\u001b[0m \u001b[43m    \u001b[49m\u001b[43mcompression\u001b[49m\u001b[38;5;241;43m=\u001b[39;49m\u001b[43mcompression\u001b[49m\u001b[43m,\u001b[49m\n\u001b[1;32m   3971\u001b[0m \u001b[43m    \u001b[49m\u001b[43mquoting\u001b[49m\u001b[38;5;241;43m=\u001b[39;49m\u001b[43mquoting\u001b[49m\u001b[43m,\u001b[49m\n\u001b[1;32m   3972\u001b[0m \u001b[43m    \u001b[49m\u001b[43mcolumns\u001b[49m\u001b[38;5;241;43m=\u001b[39;49m\u001b[43mcolumns\u001b[49m\u001b[43m,\u001b[49m\n\u001b[1;32m   3973\u001b[0m \u001b[43m    \u001b[49m\u001b[43mindex_label\u001b[49m\u001b[38;5;241;43m=\u001b[39;49m\u001b[43mindex_label\u001b[49m\u001b[43m,\u001b[49m\n\u001b[1;32m   3974\u001b[0m \u001b[43m    \u001b[49m\u001b[43mmode\u001b[49m\u001b[38;5;241;43m=\u001b[39;49m\u001b[43mmode\u001b[49m\u001b[43m,\u001b[49m\n\u001b[1;32m   3975\u001b[0m \u001b[43m    \u001b[49m\u001b[43mchunksize\u001b[49m\u001b[38;5;241;43m=\u001b[39;49m\u001b[43mchunksize\u001b[49m\u001b[43m,\u001b[49m\n\u001b[1;32m   3976\u001b[0m \u001b[43m    \u001b[49m\u001b[43mquotechar\u001b[49m\u001b[38;5;241;43m=\u001b[39;49m\u001b[43mquotechar\u001b[49m\u001b[43m,\u001b[49m\n\u001b[1;32m   3977\u001b[0m \u001b[43m    \u001b[49m\u001b[43mdate_format\u001b[49m\u001b[38;5;241;43m=\u001b[39;49m\u001b[43mdate_format\u001b[49m\u001b[43m,\u001b[49m\n\u001b[1;32m   3978\u001b[0m \u001b[43m    \u001b[49m\u001b[43mdoublequote\u001b[49m\u001b[38;5;241;43m=\u001b[39;49m\u001b[43mdoublequote\u001b[49m\u001b[43m,\u001b[49m\n\u001b[1;32m   3979\u001b[0m \u001b[43m    \u001b[49m\u001b[43mescapechar\u001b[49m\u001b[38;5;241;43m=\u001b[39;49m\u001b[43mescapechar\u001b[49m\u001b[43m,\u001b[49m\n\u001b[1;32m   3980\u001b[0m \u001b[43m    \u001b[49m\u001b[43mstorage_options\u001b[49m\u001b[38;5;241;43m=\u001b[39;49m\u001b[43mstorage_options\u001b[49m\u001b[43m,\u001b[49m\n\u001b[1;32m   3981\u001b[0m \u001b[43m\u001b[49m\u001b[43m)\u001b[49m\n",
      "File \u001b[0;32m~/anaconda3/envs/code_sim/lib/python3.9/site-packages/pandas/io/formats/format.py:1014\u001b[0m, in \u001b[0;36mDataFrameRenderer.to_csv\u001b[0;34m(self, path_or_buf, encoding, sep, columns, index_label, mode, compression, quoting, quotechar, lineterminator, chunksize, date_format, doublequote, escapechar, errors, storage_options)\u001b[0m\n\u001b[1;32m    993\u001b[0m     created_buffer \u001b[38;5;241m=\u001b[39m \u001b[38;5;28;01mFalse\u001b[39;00m\n\u001b[1;32m    995\u001b[0m csv_formatter \u001b[38;5;241m=\u001b[39m CSVFormatter(\n\u001b[1;32m    996\u001b[0m     path_or_buf\u001b[38;5;241m=\u001b[39mpath_or_buf,\n\u001b[1;32m    997\u001b[0m     lineterminator\u001b[38;5;241m=\u001b[39mlineterminator,\n\u001b[0;32m   (...)\u001b[0m\n\u001b[1;32m   1012\u001b[0m     formatter\u001b[38;5;241m=\u001b[39m\u001b[38;5;28mself\u001b[39m\u001b[38;5;241m.\u001b[39mfmt,\n\u001b[1;32m   1013\u001b[0m )\n\u001b[0;32m-> 1014\u001b[0m \u001b[43mcsv_formatter\u001b[49m\u001b[38;5;241;43m.\u001b[39;49m\u001b[43msave\u001b[49m\u001b[43m(\u001b[49m\u001b[43m)\u001b[49m\n\u001b[1;32m   1016\u001b[0m \u001b[38;5;28;01mif\u001b[39;00m created_buffer:\n\u001b[1;32m   1017\u001b[0m     \u001b[38;5;28;01massert\u001b[39;00m \u001b[38;5;28misinstance\u001b[39m(path_or_buf, StringIO)\n",
      "File \u001b[0;32m~/anaconda3/envs/code_sim/lib/python3.9/site-packages/pandas/io/formats/csvs.py:251\u001b[0m, in \u001b[0;36mCSVFormatter.save\u001b[0;34m(self)\u001b[0m\n\u001b[1;32m    247\u001b[0m \u001b[38;5;250m\u001b[39m\u001b[38;5;124;03m\"\"\"\u001b[39;00m\n\u001b[1;32m    248\u001b[0m \u001b[38;5;124;03mCreate the writer & save.\u001b[39;00m\n\u001b[1;32m    249\u001b[0m \u001b[38;5;124;03m\"\"\"\u001b[39;00m\n\u001b[1;32m    250\u001b[0m \u001b[38;5;66;03m# apply compression and byte/text conversion\u001b[39;00m\n\u001b[0;32m--> 251\u001b[0m \u001b[38;5;28;01mwith\u001b[39;00m \u001b[43mget_handle\u001b[49m\u001b[43m(\u001b[49m\n\u001b[1;32m    252\u001b[0m \u001b[43m    \u001b[49m\u001b[38;5;28;43mself\u001b[39;49m\u001b[38;5;241;43m.\u001b[39;49m\u001b[43mfilepath_or_buffer\u001b[49m\u001b[43m,\u001b[49m\n\u001b[1;32m    253\u001b[0m \u001b[43m    \u001b[49m\u001b[38;5;28;43mself\u001b[39;49m\u001b[38;5;241;43m.\u001b[39;49m\u001b[43mmode\u001b[49m\u001b[43m,\u001b[49m\n\u001b[1;32m    254\u001b[0m \u001b[43m    \u001b[49m\u001b[43mencoding\u001b[49m\u001b[38;5;241;43m=\u001b[39;49m\u001b[38;5;28;43mself\u001b[39;49m\u001b[38;5;241;43m.\u001b[39;49m\u001b[43mencoding\u001b[49m\u001b[43m,\u001b[49m\n\u001b[1;32m    255\u001b[0m \u001b[43m    \u001b[49m\u001b[43merrors\u001b[49m\u001b[38;5;241;43m=\u001b[39;49m\u001b[38;5;28;43mself\u001b[39;49m\u001b[38;5;241;43m.\u001b[39;49m\u001b[43merrors\u001b[49m\u001b[43m,\u001b[49m\n\u001b[1;32m    256\u001b[0m \u001b[43m    \u001b[49m\u001b[43mcompression\u001b[49m\u001b[38;5;241;43m=\u001b[39;49m\u001b[38;5;28;43mself\u001b[39;49m\u001b[38;5;241;43m.\u001b[39;49m\u001b[43mcompression\u001b[49m\u001b[43m,\u001b[49m\n\u001b[1;32m    257\u001b[0m \u001b[43m    \u001b[49m\u001b[43mstorage_options\u001b[49m\u001b[38;5;241;43m=\u001b[39;49m\u001b[38;5;28;43mself\u001b[39;49m\u001b[38;5;241;43m.\u001b[39;49m\u001b[43mstorage_options\u001b[49m\u001b[43m,\u001b[49m\n\u001b[1;32m    258\u001b[0m \u001b[43m\u001b[49m\u001b[43m)\u001b[49m \u001b[38;5;28;01mas\u001b[39;00m handles:\n\u001b[1;32m    259\u001b[0m     \u001b[38;5;66;03m# Note: self.encoding is irrelevant here\u001b[39;00m\n\u001b[1;32m    260\u001b[0m     \u001b[38;5;28mself\u001b[39m\u001b[38;5;241m.\u001b[39mwriter \u001b[38;5;241m=\u001b[39m csvlib\u001b[38;5;241m.\u001b[39mwriter(\n\u001b[1;32m    261\u001b[0m         handles\u001b[38;5;241m.\u001b[39mhandle,\n\u001b[1;32m    262\u001b[0m         lineterminator\u001b[38;5;241m=\u001b[39m\u001b[38;5;28mself\u001b[39m\u001b[38;5;241m.\u001b[39mlineterminator,\n\u001b[0;32m   (...)\u001b[0m\n\u001b[1;32m    267\u001b[0m         quotechar\u001b[38;5;241m=\u001b[39m\u001b[38;5;28mself\u001b[39m\u001b[38;5;241m.\u001b[39mquotechar,\n\u001b[1;32m    268\u001b[0m     )\n\u001b[1;32m    270\u001b[0m     \u001b[38;5;28mself\u001b[39m\u001b[38;5;241m.\u001b[39m_save()\n",
      "File \u001b[0;32m~/anaconda3/envs/code_sim/lib/python3.9/site-packages/pandas/io/common.py:749\u001b[0m, in \u001b[0;36mget_handle\u001b[0;34m(path_or_buf, mode, encoding, compression, memory_map, is_text, errors, storage_options)\u001b[0m\n\u001b[1;32m    747\u001b[0m \u001b[38;5;66;03m# Only for write methods\u001b[39;00m\n\u001b[1;32m    748\u001b[0m \u001b[38;5;28;01mif\u001b[39;00m \u001b[38;5;124m\"\u001b[39m\u001b[38;5;124mr\u001b[39m\u001b[38;5;124m\"\u001b[39m \u001b[38;5;129;01mnot\u001b[39;00m \u001b[38;5;129;01min\u001b[39;00m mode \u001b[38;5;129;01mand\u001b[39;00m is_path:\n\u001b[0;32m--> 749\u001b[0m     \u001b[43mcheck_parent_directory\u001b[49m\u001b[43m(\u001b[49m\u001b[38;5;28;43mstr\u001b[39;49m\u001b[43m(\u001b[49m\u001b[43mhandle\u001b[49m\u001b[43m)\u001b[49m\u001b[43m)\u001b[49m\n\u001b[1;32m    751\u001b[0m \u001b[38;5;28;01mif\u001b[39;00m compression:\n\u001b[1;32m    752\u001b[0m     \u001b[38;5;28;01mif\u001b[39;00m compression \u001b[38;5;241m!=\u001b[39m \u001b[38;5;124m\"\u001b[39m\u001b[38;5;124mzstd\u001b[39m\u001b[38;5;124m\"\u001b[39m:\n\u001b[1;32m    753\u001b[0m         \u001b[38;5;66;03m# compression libraries do not like an explicit text-mode\u001b[39;00m\n",
      "File \u001b[0;32m~/anaconda3/envs/code_sim/lib/python3.9/site-packages/pandas/io/common.py:616\u001b[0m, in \u001b[0;36mcheck_parent_directory\u001b[0;34m(path)\u001b[0m\n\u001b[1;32m    614\u001b[0m parent \u001b[38;5;241m=\u001b[39m Path(path)\u001b[38;5;241m.\u001b[39mparent\n\u001b[1;32m    615\u001b[0m \u001b[38;5;28;01mif\u001b[39;00m \u001b[38;5;129;01mnot\u001b[39;00m parent\u001b[38;5;241m.\u001b[39mis_dir():\n\u001b[0;32m--> 616\u001b[0m     \u001b[38;5;28;01mraise\u001b[39;00m \u001b[38;5;167;01mOSError\u001b[39;00m(\u001b[38;5;124mrf\u001b[39m\u001b[38;5;124m\"\u001b[39m\u001b[38;5;124mCannot save file into a non-existent directory: \u001b[39m\u001b[38;5;124m'\u001b[39m\u001b[38;5;132;01m{\u001b[39;00mparent\u001b[38;5;132;01m}\u001b[39;00m\u001b[38;5;124m'\u001b[39m\u001b[38;5;124m\"\u001b[39m)\n",
      "\u001b[0;31mOSError\u001b[0m: Cannot save file into a non-existent directory: '/home/sgh/yes/envs/DACON'"
     ]
    }
   ],
   "source": [
    "sample_submission = pd.read_csv('/home/workspace/DACON/Click_predict/data/sample_submission.csv')\n",
    "sample_submission['Click'] = pred\n",
    "sample_submission.to_csv('click_ratio(catb2).csv',index=False)"
   ]
  },
  {
   "cell_type": "code",
   "execution_count": null,
   "metadata": {},
   "outputs": [
    {
     "name": "stdout",
     "output_type": "stream",
     "text": [
      "Available Memory: 40.082908630371094 GB\n"
     ]
    }
   ],
   "source": [
    "# 시스템 메모리 정보 가져오기\n",
    "mem = psutil.virtual_memory()\n",
    "\n",
    "# 남은 램 용량 확인\n",
    "available_memory = mem.available / (1024 ** 3)  # GB 단위로 변환\n",
    "print(\"Available Memory:\", available_memory, \"GB\")"
   ]
  },
  {
   "cell_type": "markdown",
   "metadata": {},
   "source": [
    "# Models"
   ]
  },
  {
   "cell_type": "markdown",
   "metadata": {},
   "source": [
    "## Catboost"
   ]
  },
  {
   "cell_type": "code",
   "execution_count": null,
   "metadata": {},
   "outputs": [
    {
     "name": "stderr",
     "output_type": "stream",
     "text": [
      "Default metric period is 5 because AUC is/are not implemented for GPU\n"
     ]
    },
    {
     "name": "stdout",
     "output_type": "stream",
     "text": [
      "0:\ttest: 0.7243258\tbest: 0.7243258 (0)\ttotal: 2.91s\tremaining: 9m 40s\n",
      "1:\ttotal: 6.15s\tremaining: 10m 9s\n",
      "2:\ttotal: 9.14s\tremaining: 10m\n",
      "3:\ttotal: 12.7s\tremaining: 10m 24s\n",
      "4:\ttotal: 15.9s\tremaining: 10m 21s\n",
      "5:\ttest: 0.7363940\tbest: 0.7363940 (5)\ttotal: 19.2s\tremaining: 10m 21s\n",
      "6:\ttotal: 22.2s\tremaining: 10m 12s\n",
      "7:\ttotal: 25.9s\tremaining: 10m 22s\n",
      "8:\ttotal: 29.2s\tremaining: 10m 20s\n",
      "9:\ttotal: 32.9s\tremaining: 10m 24s\n",
      "10:\ttest: 0.7396747\tbest: 0.7396747 (10)\ttotal: 36.4s\tremaining: 10m 25s\n",
      "11:\ttotal: 39.8s\tremaining: 10m 23s\n",
      "12:\ttotal: 43.1s\tremaining: 10m 19s\n",
      "13:\ttotal: 46.2s\tremaining: 10m 14s\n",
      "14:\ttotal: 48.9s\tremaining: 10m 3s\n",
      "15:\ttest: 0.7426370\tbest: 0.7426370 (15)\ttotal: 52.1s\tremaining: 9m 58s\n",
      "16:\ttotal: 55.4s\tremaining: 9m 56s\n",
      "17:\ttotal: 58.7s\tremaining: 9m 53s\n",
      "18:\ttotal: 1m 1s\tremaining: 9m 47s\n",
      "19:\ttotal: 1m 4s\tremaining: 9m 41s\n",
      "20:\ttest: 0.7459271\tbest: 0.7459271 (20)\ttotal: 1m 8s\tremaining: 9m 41s\n",
      "21:\ttotal: 1m 11s\tremaining: 9m 35s\n",
      "22:\ttotal: 1m 14s\tremaining: 9m 32s\n",
      "23:\ttotal: 1m 16s\tremaining: 9m 24s\n",
      "24:\ttotal: 1m 19s\tremaining: 9m 17s\n",
      "25:\ttest: 0.7480699\tbest: 0.7480699 (25)\ttotal: 1m 22s\tremaining: 9m 10s\n",
      "26:\ttotal: 1m 25s\tremaining: 9m 5s\n",
      "27:\ttotal: 1m 27s\tremaining: 8m 58s\n",
      "28:\ttotal: 1m 30s\tremaining: 8m 54s\n",
      "29:\ttotal: 1m 33s\tremaining: 8m 51s\n",
      "30:\ttest: 0.7500642\tbest: 0.7500642 (30)\ttotal: 1m 36s\tremaining: 8m 45s\n",
      "31:\ttotal: 1m 38s\tremaining: 8m 38s\n",
      "32:\ttotal: 1m 41s\tremaining: 8m 35s\n",
      "33:\ttotal: 1m 46s\tremaining: 8m 37s\n",
      "34:\ttotal: 1m 49s\tremaining: 8m 34s\n",
      "35:\ttest: 0.7517836\tbest: 0.7517836 (35)\ttotal: 1m 51s\tremaining: 8m 28s\n",
      "36:\ttotal: 1m 54s\tremaining: 8m 23s\n",
      "37:\ttotal: 1m 56s\tremaining: 8m 18s\n",
      "38:\ttotal: 1m 59s\tremaining: 8m 15s\n",
      "39:\ttotal: 2m 2s\tremaining: 8m 9s\n",
      "40:\ttest: 0.7532369\tbest: 0.7532369 (40)\ttotal: 2m 4s\tremaining: 8m 3s\n",
      "41:\ttotal: 2m 7s\tremaining: 8m\n",
      "42:\ttotal: 2m 10s\tremaining: 7m 55s\n",
      "43:\ttotal: 2m 13s\tremaining: 7m 51s\n",
      "44:\ttotal: 2m 15s\tremaining: 7m 47s\n",
      "45:\ttest: 0.7545579\tbest: 0.7545579 (45)\ttotal: 2m 18s\tremaining: 7m 42s\n",
      "46:\ttotal: 2m 21s\tremaining: 7m 40s\n",
      "47:\ttotal: 2m 24s\tremaining: 7m 38s\n",
      "48:\ttotal: 2m 27s\tremaining: 7m 34s\n",
      "49:\ttotal: 2m 31s\tremaining: 7m 33s\n",
      "50:\ttest: 0.7557292\tbest: 0.7557292 (50)\ttotal: 2m 33s\tremaining: 7m 28s\n",
      "51:\ttotal: 2m 36s\tremaining: 7m 24s\n",
      "52:\ttotal: 2m 38s\tremaining: 7m 20s\n",
      "53:\ttotal: 2m 41s\tremaining: 7m 17s\n",
      "54:\ttotal: 2m 44s\tremaining: 7m 14s\n",
      "55:\ttest: 0.7567191\tbest: 0.7567191 (55)\ttotal: 2m 47s\tremaining: 7m 10s\n",
      "56:\ttotal: 2m 49s\tremaining: 7m 6s\n",
      "57:\ttotal: 2m 52s\tremaining: 7m 3s\n",
      "58:\ttotal: 2m 55s\tremaining: 6m 59s\n",
      "59:\ttotal: 2m 58s\tremaining: 6m 56s\n",
      "60:\ttest: 0.7577019\tbest: 0.7577019 (60)\ttotal: 3m\tremaining: 6m 51s\n",
      "61:\ttotal: 3m 3s\tremaining: 6m 48s\n",
      "62:\ttotal: 3m 5s\tremaining: 6m 42s\n",
      "63:\ttotal: 3m 7s\tremaining: 6m 39s\n",
      "64:\ttotal: 3m 10s\tremaining: 6m 36s\n",
      "65:\ttest: 0.7585539\tbest: 0.7585539 (65)\ttotal: 3m 13s\tremaining: 6m 32s\n",
      "66:\ttotal: 3m 15s\tremaining: 6m 28s\n",
      "67:\ttotal: 3m 18s\tremaining: 6m 25s\n",
      "68:\ttotal: 3m 22s\tremaining: 6m 24s\n",
      "69:\ttotal: 3m 25s\tremaining: 6m 21s\n",
      "70:\ttest: 0.7595228\tbest: 0.7595228 (70)\ttotal: 3m 28s\tremaining: 6m 19s\n",
      "71:\ttotal: 3m 30s\tremaining: 6m 15s\n",
      "72:\ttotal: 3m 33s\tremaining: 6m 11s\n",
      "73:\ttotal: 3m 37s\tremaining: 6m 9s\n",
      "74:\ttotal: 3m 39s\tremaining: 6m 6s\n",
      "75:\ttest: 0.7603686\tbest: 0.7603686 (75)\ttotal: 3m 42s\tremaining: 6m 3s\n",
      "76:\ttotal: 3m 44s\tremaining: 5m 58s\n",
      "77:\ttotal: 3m 47s\tremaining: 5m 55s\n",
      "78:\ttotal: 3m 49s\tremaining: 5m 51s\n",
      "79:\ttotal: 3m 51s\tremaining: 5m 47s\n",
      "80:\ttest: 0.7612492\tbest: 0.7612492 (80)\ttotal: 3m 55s\tremaining: 5m 46s\n",
      "81:\ttotal: 3m 57s\tremaining: 5m 42s\n",
      "82:\ttotal: 4m 1s\tremaining: 5m 39s\n",
      "83:\ttotal: 4m 4s\tremaining: 5m 36s\n",
      "84:\ttotal: 4m 6s\tremaining: 5m 33s\n",
      "85:\ttest: 0.7618991\tbest: 0.7618991 (85)\ttotal: 4m 9s\tremaining: 5m 30s\n",
      "86:\ttotal: 4m 12s\tremaining: 5m 27s\n",
      "87:\ttotal: 4m 14s\tremaining: 5m 24s\n",
      "88:\ttotal: 4m 17s\tremaining: 5m 20s\n",
      "89:\ttotal: 4m 19s\tremaining: 5m 17s\n",
      "90:\ttest: 0.7627124\tbest: 0.7627124 (90)\ttotal: 4m 21s\tremaining: 5m 13s\n",
      "91:\ttotal: 4m 25s\tremaining: 5m 11s\n",
      "92:\ttotal: 4m 29s\tremaining: 5m 9s\n",
      "93:\ttotal: 4m 31s\tremaining: 5m 6s\n",
      "94:\ttotal: 4m 34s\tremaining: 5m 3s\n",
      "95:\ttest: 0.7631728\tbest: 0.7631728 (95)\ttotal: 4m 37s\tremaining: 5m\n",
      "96:\ttotal: 4m 40s\tremaining: 4m 57s\n",
      "97:\ttotal: 4m 42s\tremaining: 4m 54s\n",
      "98:\ttotal: 4m 46s\tremaining: 4m 52s\n",
      "99:\ttotal: 4m 48s\tremaining: 4m 48s\n",
      "100:\ttest: 0.7636714\tbest: 0.7636714 (100)\ttotal: 4m 50s\tremaining: 4m 44s\n",
      "101:\ttotal: 4m 52s\tremaining: 4m 41s\n",
      "102:\ttotal: 4m 54s\tremaining: 4m 37s\n",
      "103:\ttotal: 4m 57s\tremaining: 4m 34s\n",
      "104:\ttotal: 4m 59s\tremaining: 4m 31s\n",
      "105:\ttest: 0.7641848\tbest: 0.7641848 (105)\ttotal: 5m 2s\tremaining: 4m 28s\n",
      "106:\ttotal: 5m 4s\tremaining: 4m 25s\n",
      "107:\ttotal: 5m 8s\tremaining: 4m 23s\n",
      "108:\ttotal: 5m 13s\tremaining: 4m 21s\n",
      "109:\ttotal: 5m 16s\tremaining: 4m 19s\n",
      "110:\ttest: 0.7645369\tbest: 0.7645369 (110)\ttotal: 5m 19s\tremaining: 4m 15s\n",
      "111:\ttotal: 5m 21s\tremaining: 4m 12s\n",
      "112:\ttotal: 5m 23s\tremaining: 4m 9s\n",
      "113:\ttotal: 5m 27s\tremaining: 4m 6s\n",
      "114:\ttotal: 5m 29s\tremaining: 4m 3s\n",
      "115:\ttest: 0.7650784\tbest: 0.7650784 (115)\ttotal: 5m 31s\tremaining: 4m\n",
      "116:\ttotal: 5m 33s\tremaining: 3m 56s\n",
      "117:\ttotal: 5m 36s\tremaining: 3m 53s\n",
      "118:\ttotal: 5m 39s\tremaining: 3m 50s\n",
      "119:\ttotal: 5m 42s\tremaining: 3m 48s\n",
      "120:\ttest: 0.7654918\tbest: 0.7654918 (120)\ttotal: 5m 46s\tremaining: 3m 46s\n",
      "121:\ttotal: 5m 49s\tremaining: 3m 43s\n",
      "122:\ttotal: 5m 52s\tremaining: 3m 40s\n",
      "123:\ttotal: 5m 54s\tremaining: 3m 37s\n",
      "124:\ttotal: 5m 57s\tremaining: 3m 34s\n",
      "125:\ttest: 0.7658239\tbest: 0.7658239 (125)\ttotal: 5m 59s\tremaining: 3m 31s\n",
      "126:\ttotal: 6m 1s\tremaining: 3m 27s\n",
      "127:\ttotal: 6m 3s\tremaining: 3m 24s\n",
      "128:\ttotal: 6m 7s\tremaining: 3m 22s\n",
      "129:\ttotal: 6m 11s\tremaining: 3m 19s\n",
      "130:\ttest: 0.7661230\tbest: 0.7661230 (130)\ttotal: 6m 13s\tremaining: 3m 16s\n",
      "131:\ttotal: 6m 16s\tremaining: 3m 14s\n",
      "132:\ttotal: 6m 20s\tremaining: 3m 11s\n",
      "133:\ttotal: 6m 23s\tremaining: 3m 8s\n",
      "134:\ttotal: 6m 26s\tremaining: 3m 6s\n",
      "135:\ttest: 0.7665135\tbest: 0.7665135 (135)\ttotal: 6m 29s\tremaining: 3m 3s\n",
      "136:\ttotal: 6m 31s\tremaining: 3m\n",
      "137:\ttotal: 6m 35s\tremaining: 2m 57s\n",
      "138:\ttotal: 6m 37s\tremaining: 2m 54s\n",
      "139:\ttotal: 6m 39s\tremaining: 2m 51s\n",
      "140:\ttest: 0.7668561\tbest: 0.7668561 (140)\ttotal: 6m 41s\tremaining: 2m 48s\n",
      "141:\ttotal: 6m 45s\tremaining: 2m 45s\n",
      "142:\ttotal: 6m 49s\tremaining: 2m 43s\n",
      "143:\ttotal: 6m 51s\tremaining: 2m 40s\n",
      "144:\ttotal: 6m 54s\tremaining: 2m 37s\n",
      "145:\ttest: 0.7671989\tbest: 0.7671989 (145)\ttotal: 6m 55s\tremaining: 2m 33s\n",
      "146:\ttotal: 6m 59s\tremaining: 2m 31s\n",
      "147:\ttotal: 7m 2s\tremaining: 2m 28s\n",
      "148:\ttotal: 7m 4s\tremaining: 2m 25s\n",
      "149:\ttotal: 7m 6s\tremaining: 2m 22s\n",
      "150:\ttest: 0.7674565\tbest: 0.7674565 (150)\ttotal: 7m 10s\tremaining: 2m 19s\n",
      "151:\ttotal: 7m 13s\tremaining: 2m 16s\n",
      "152:\ttotal: 7m 16s\tremaining: 2m 14s\n",
      "153:\ttotal: 7m 18s\tremaining: 2m 11s\n",
      "154:\ttotal: 7m 20s\tremaining: 2m 7s\n",
      "155:\ttest: 0.7677459\tbest: 0.7677459 (155)\ttotal: 7m 22s\tremaining: 2m 4s\n",
      "156:\ttotal: 7m 25s\tremaining: 2m 2s\n",
      "157:\ttotal: 7m 27s\tremaining: 1m 58s\n",
      "158:\ttotal: 7m 29s\tremaining: 1m 55s\n",
      "159:\ttotal: 7m 32s\tremaining: 1m 53s\n",
      "160:\ttest: 0.7679981\tbest: 0.7679981 (160)\ttotal: 7m 34s\tremaining: 1m 50s\n",
      "161:\ttotal: 7m 36s\tremaining: 1m 47s\n",
      "162:\ttotal: 7m 39s\tremaining: 1m 44s\n",
      "163:\ttotal: 7m 42s\tremaining: 1m 41s\n",
      "164:\ttotal: 7m 46s\tremaining: 1m 39s\n",
      "165:\ttest: 0.7683114\tbest: 0.7683114 (165)\ttotal: 7m 49s\tremaining: 1m 36s\n",
      "166:\ttotal: 7m 51s\tremaining: 1m 33s\n",
      "167:\ttotal: 7m 54s\tremaining: 1m 30s\n",
      "168:\ttotal: 7m 56s\tremaining: 1m 27s\n",
      "169:\ttotal: 7m 59s\tremaining: 1m 24s\n",
      "170:\ttest: 0.7686252\tbest: 0.7686252 (170)\ttotal: 8m 2s\tremaining: 1m 21s\n",
      "171:\ttotal: 8m 6s\tremaining: 1m 19s\n",
      "172:\ttotal: 8m 8s\tremaining: 1m 16s\n",
      "173:\ttotal: 8m 10s\tremaining: 1m 13s\n",
      "174:\ttotal: 8m 12s\tremaining: 1m 10s\n",
      "175:\ttest: 0.7689788\tbest: 0.7689788 (175)\ttotal: 8m 14s\tremaining: 1m 7s\n",
      "176:\ttotal: 8m 17s\tremaining: 1m 4s\n",
      "177:\ttotal: 8m 20s\tremaining: 1m 1s\n",
      "178:\ttotal: 8m 22s\tremaining: 59s\n",
      "179:\ttotal: 8m 26s\tremaining: 56.3s\n",
      "180:\ttest: 0.7692343\tbest: 0.7692343 (180)\ttotal: 8m 30s\tremaining: 53.5s\n",
      "181:\ttotal: 8m 32s\tremaining: 50.7s\n",
      "182:\ttotal: 8m 36s\tremaining: 47.9s\n",
      "183:\ttotal: 8m 38s\tremaining: 45.1s\n",
      "184:\ttotal: 8m 40s\tremaining: 42.2s\n",
      "185:\ttest: 0.7695360\tbest: 0.7695360 (185)\ttotal: 8m 42s\tremaining: 39.3s\n",
      "186:\ttotal: 8m 44s\tremaining: 36.5s\n",
      "187:\ttotal: 8m 46s\tremaining: 33.6s\n",
      "188:\ttotal: 8m 50s\tremaining: 30.9s\n",
      "189:\ttotal: 8m 52s\tremaining: 28s\n",
      "190:\ttest: 0.7697804\tbest: 0.7697804 (190)\ttotal: 8m 54s\tremaining: 25.2s\n",
      "191:\ttotal: 8m 57s\tremaining: 22.4s\n",
      "192:\ttotal: 9m 1s\tremaining: 19.6s\n",
      "193:\ttotal: 9m 3s\tremaining: 16.8s\n",
      "194:\ttotal: 9m 5s\tremaining: 14s\n",
      "195:\ttest: 0.7700246\tbest: 0.7700246 (195)\ttotal: 9m 7s\tremaining: 11.2s\n",
      "196:\ttotal: 9m 9s\tremaining: 8.37s\n",
      "197:\ttotal: 9m 13s\tremaining: 5.59s\n",
      "198:\ttotal: 9m 16s\tremaining: 2.79s\n",
      "199:\ttest: 0.7701896\tbest: 0.7701896 (199)\ttotal: 9m 18s\tremaining: 0us\n",
      "bestTest = 0.7701895833\n",
      "bestIteration = 199\n"
     ]
    },
    {
     "data": {
      "text/plain": [
       "<catboost.core.CatBoostClassifier at 0x7f3714dbf340>"
      ]
     },
     "execution_count": 47,
     "metadata": {},
     "output_type": "execute_result"
    }
   ],
   "source": [
    "from catboost import CatBoostClassifier, Pool\n",
    "\n",
    "train_pool = Pool(X_train1, y_train1 ,cat_features = categorical_feat1)\n",
    "val_pool = Pool(X_test1, y_test1, cat_features = categorical_feat1)\n",
    "\n",
    "\n",
    "catb_params = {\n",
    "    'iterations' : 200,\n",
    "    'learning_rate': 0.05 ,\n",
    "    \"max_depth\": 10,\n",
    "    'eval_metric' :'AUC', #GPU 이용시 AUC말고 다른 매트릭으로 평가됨 \n",
    "    'task_type' : 'GPU', #device는 굳이 전달 안 해도 None이 디폴트로, 자동으로 지정된다.\n",
    "    'verbose': 1,\n",
    "    'random_seed' : 721,\n",
    "    'gpu_ram_part': 0.9 #gpu의 80%만 사용하라. default = 0.95 (95%)\n",
    "    #'used_ram_limit': '20gb' #cpu가 20gb만 이용하도록 함\n",
    "    }\n",
    "\n",
    "catb = CatBoostClassifier(**catb_params)\n",
    "catb.fit(train_pool, eval_set=val_pool, verbose=True)\n",
    "\n",
    "# 예측 확률 계산\n",
    "#y_pred = catb.predict_proba(X_test1)[:,1]\n",
    "\n",
    "# ROC AUC 평가\n",
    "#score = roc_auc_score(y_test1, y_pred)\n",
    "#print(score)"
   ]
  },
  {
   "cell_type": "code",
   "execution_count": null,
   "metadata": {},
   "outputs": [],
   "source": [
    "import joblib\n",
    "\n",
    "# 모델 저장 경로\n",
    "model_path = \"/home/sgh/yes/envs/DACON/models/\"\n",
    "\n",
    "# 경로가 존재하지 않으면 생성\n",
    "os.makedirs(model_path, exist_ok=True)\n",
    "\n",
    "# 모델 저장\n",
    "catb.save_model(os.path.join(model_path, \"click_ratio_catb(vanilla).pth\"))"
   ]
  },
  {
   "cell_type": "code",
   "execution_count": null,
   "metadata": {},
   "outputs": [
    {
     "name": "stdout",
     "output_type": "stream",
     "text": [
      "Index(['F02', 'F04', 'F06', 'F07', 'F08', 'F09', 'F10', 'F11', 'F12', 'F13',\n",
      "       'F14', 'F16', 'F17', 'F18', 'F19', 'F21', 'F22', 'F23', 'F24', 'F25',\n",
      "       'F28', 'F30', 'F31', 'F32', 'F33', 'F34', 'F35', 'F36', 'F37', 'F38',\n",
      "       'F39'],\n",
      "      dtype='object')\n",
      "Index(['F02', 'F04', 'F06', 'F07', 'F08', 'F09', 'F10', 'F11', 'F12', 'F13',\n",
      "       'F14', 'F16', 'F17', 'F18', 'F19', 'F21', 'F22', 'F23', 'F24', 'F25',\n",
      "       'F28', 'F30', 'F31', 'F32', 'F33', 'F34', 'F35', 'F36', 'F37', 'F38',\n",
      "       'F39'],\n",
      "      dtype='object')\n"
     ]
    }
   ],
   "source": [
    "print(X_test.columns)\n",
    "print(X_train1.columns)"
   ]
  },
  {
   "cell_type": "code",
   "execution_count": null,
   "metadata": {},
   "outputs": [],
   "source": [
    "#sample_submission = sample_submission.to_pandas()\n",
    "\n",
    "y_submission_pred2 = catb.predict_proba(X_test)[:,1]\n",
    "\n",
    "sample_submission['Click'] = y_submission_pred2\n",
    "submission = sample_submission.copy()\n",
    "\n",
    "submission.to_csv('/home/sgh/yes/envs/DACON/click_ratio(catb2).csv',index=False)"
   ]
  }
 ],
 "metadata": {
  "kernelspec": {
   "display_name": "DACON",
   "language": "python",
   "name": "python3"
  },
  "language_info": {
   "codemirror_mode": {
    "name": "ipython",
    "version": 3
   },
   "file_extension": ".py",
   "mimetype": "text/x-python",
   "name": "python",
   "nbconvert_exporter": "python",
   "pygments_lexer": "ipython3",
   "version": "3.9.18"
  }
 },
 "nbformat": 4,
 "nbformat_minor": 2
}
