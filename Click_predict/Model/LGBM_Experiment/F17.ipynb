{
 "cells": [
  {
   "cell_type": "code",
   "execution_count": 1,
   "metadata": {},
   "outputs": [],
   "source": [
    "import numpy as np\n",
    "import polars as pl\n",
    "import pandas as pd\n",
    "import matplotlib.pyplot as plt\n",
    "import seaborn as sns\n",
    "import sys\n",
    "sys.path.append(\"../..\")\n",
    "from utils import *\n",
    "import warnings\n",
    "warnings.filterwarnings(\"ignore\")\n",
    "import os\n",
    "import psutil\n",
    "\n",
    "pd.options.display.max_columns=1000\n",
    "pd.options.display.max_rows=1000\n",
    "\n",
    "import lightgbm as lgb\n",
    "import matplotlib.pyplot as plt\n",
    "import seaborn as sns\n",
    "from sklearn.model_selection import train_test_split\n",
    "from sklearn.metrics import roc_auc_score \n",
    "from catboost import CatBoostClassifier, Pool"
   ]
  },
  {
   "cell_type": "code",
   "execution_count": 2,
   "metadata": {},
   "outputs": [
    {
     "name": "stdout",
     "output_type": "stream",
     "text": [
      "---------------- Start MissingValue ----------------\n"
     ]
    },
    {
     "name": "stderr",
     "output_type": "stream",
     "text": [
      "100%|██████████| 22/22 [00:01<00:00, 17.57it/s]\n",
      "100%|██████████| 17/17 [00:22<00:00,  1.30s/it]\n"
     ]
    },
    {
     "name": "stdout",
     "output_type": "stream",
     "text": [
      "Memory usage of dataframe is 8729.67 MB\n",
      "Memory usage after optimization is: 5155.96 MB\n",
      "Decreased by 40.9%\n",
      "---------------- Start MissingValue ----------------\n"
     ]
    },
    {
     "name": "stderr",
     "output_type": "stream",
     "text": [
      "100%|██████████| 22/22 [00:00<00:00, 109.87it/s]\n",
      "100%|██████████| 17/17 [00:03<00:00,  4.94it/s]\n"
     ]
    },
    {
     "name": "stdout",
     "output_type": "stream",
     "text": [
      "Memory usage of dataframe is 1350.43 MB\n",
      "Memory usage after optimization is: 805.06 MB\n",
      "Decreased by 40.4%\n"
     ]
    }
   ],
   "source": [
    "''' Seed '''\n",
    "seed_everything(42)\n",
    "\n",
    "''' Data Load '''\n",
    "train = pd.read_csv(\"/home/workspace/DACON/Click_predict/data/train3.csv\")\n",
    "test = pd.read_csv(\"/home/workspace/DACON/Click_predict/data/test3.csv\")\n",
    "submission = pd.read_csv(\"/home/workspace/DACON/Click_predict/data/sample_submission.csv\")\n",
    "\n",
    "''' 전처리 '''\n",
    "train = preprocessing(train) \n",
    "test = preprocessing(test, True)"
   ]
  },
  {
   "cell_type": "code",
   "execution_count": 3,
   "metadata": {},
   "outputs": [
    {
     "name": "stderr",
     "output_type": "stream",
     "text": [
      "  0%|          | 0/10 [00:00<?, ?it/s]"
     ]
    },
    {
     "name": "stderr",
     "output_type": "stream",
     "text": [
      "100%|██████████| 10/10 [3:47:09<00:00, 1362.94s/it] \n"
     ]
    }
   ],
   "source": [
    "F17_values = test['F17'].value_counts().index\n",
    "\n",
    "for idx, value in enumerate(tqdm(F17_values)):\n",
    "    ''' train '''\n",
    "    sampling_train = train[train['F17'] == value]\n",
    "    sampling_train_X = sampling_train.drop(columns = [\"Click\"]) \n",
    "    sampling_train_y = sampling_train['Click']\n",
    "\n",
    "    ''' test '''\n",
    "    sampling_test = test[test['F17'] == value]\n",
    "\n",
    "    param = {'max_depth': 25,\n",
    "    'num_leaves': 306,\n",
    "    'subsample': 0.9757365622458185,\n",
    "    'subsample_freq': 8,\n",
    "    'n_estimators' : 1000,\n",
    "    'min_child_samples': 136}\n",
    "\n",
    "    model = lgb.LGBMClassifier(random_state=42, **param)\n",
    "    model.fit(sampling_train_X, sampling_train_y, eval_metric='AUC')\n",
    "\n",
    "    pred = model.predict_proba(sampling_test)\n",
    "    print(\"index\")\n",
    "    print(sampling_test.index)\n",
    "    submission.loc[sampling_test.index, 'Click'] = pred[:, 1]\n",
    "    print(submission)\n",
    "    submission.to_csv(f'{value}_submission.csv', index=False)"
   ]
  },
  {
   "cell_type": "code",
   "execution_count": 4,
   "metadata": {},
   "outputs": [
    {
     "data": {
      "text/plain": [
       "F17\n",
       "0.239624    1788184\n",
       "0.172729     626161\n",
       "0.147705     558546\n",
       "0.179443     432853\n",
       "0.249512     305183\n",
       "0.199585     271059\n",
       "0.087219     259650\n",
       "0.111572     245350\n",
       "0.091919      51542\n",
       "0.041229         13\n",
       "Name: count, dtype: int64"
      ]
     },
     "execution_count": 4,
     "metadata": {},
     "output_type": "execute_result"
    }
   ],
   "source": [
    "test['F17'].value_counts()"
   ]
  },
  {
   "cell_type": "code",
   "execution_count": 10,
   "metadata": {},
   "outputs": [],
   "source": [
    "unique_1 = pd.read_csv('/home/workspace/DACON/Click_predict/Model/LGBM_Experiment/0.24951171875_submission.csv')\n",
    "unique_2 = pd.read_csv('/home/workspace/DACON/Click_predict/Model/LGBM_Experiment/0.111572265625_submission.csv')\n",
    "unique_3 = pd.read_csv('/home/workspace/DACON/Click_predict/Model/LGBM_Experiment/0.147705078125_submission.csv')\n",
    "unique_4 = pd.read_csv('/home/workspace/DACON/Click_predict/Model/LGBM_Experiment/0.179443359375_submission.csv')\n",
    "unique_5 = pd.read_csv('/home/workspace/DACON/Click_predict/Model/LGBM_Experiment/0.0919189453125_submission.csv')\n",
    "unique_6 = pd.read_csv('/home/workspace/DACON/Click_predict/Model/LGBM_Experiment/0.1727294921875_submission.csv')\n",
    "unique_7 = pd.read_csv('/home/workspace/DACON/Click_predict/Model/LGBM_Experiment/0.1995849609375_submission.csv')\n",
    "unique_8 = pd.read_csv('/home/workspace/DACON/Click_predict/Model/LGBM_Experiment/0.2396240234375_submission.csv')\n",
    "unique_9 = pd.read_csv('/home/workspace/DACON/Click_predict/Model/LGBM_Experiment/0.08721923828125_submission.csv')\n",
    "unique_10 = pd.read_csv('/home/workspace/DACON/Click_predict/Model/LGBM_Experiment/0.041229248046875_submission.csv')"
   ]
  },
  {
   "cell_type": "code",
   "execution_count": 9,
   "metadata": {},
   "outputs": [
    {
     "data": {
      "text/html": [
       "<div>\n",
       "<style scoped>\n",
       "    .dataframe tbody tr th:only-of-type {\n",
       "        vertical-align: middle;\n",
       "    }\n",
       "\n",
       "    .dataframe tbody tr th {\n",
       "        vertical-align: top;\n",
       "    }\n",
       "\n",
       "    .dataframe thead th {\n",
       "        text-align: right;\n",
       "    }\n",
       "</style>\n",
       "<table border=\"1\" class=\"dataframe\">\n",
       "  <thead>\n",
       "    <tr style=\"text-align: right;\">\n",
       "      <th></th>\n",
       "      <th>ID</th>\n",
       "      <th>Click</th>\n",
       "    </tr>\n",
       "  </thead>\n",
       "  <tbody>\n",
       "    <tr>\n",
       "      <th>0</th>\n",
       "      <td>TEST_0000000</td>\n",
       "      <td>0.000000</td>\n",
       "    </tr>\n",
       "    <tr>\n",
       "      <th>1</th>\n",
       "      <td>TEST_0000001</td>\n",
       "      <td>0.000000</td>\n",
       "    </tr>\n",
       "    <tr>\n",
       "      <th>2</th>\n",
       "      <td>TEST_0000002</td>\n",
       "      <td>0.000000</td>\n",
       "    </tr>\n",
       "    <tr>\n",
       "      <th>3</th>\n",
       "      <td>TEST_0000003</td>\n",
       "      <td>0.356528</td>\n",
       "    </tr>\n",
       "    <tr>\n",
       "      <th>4</th>\n",
       "      <td>TEST_0000004</td>\n",
       "      <td>0.000000</td>\n",
       "    </tr>\n",
       "    <tr>\n",
       "      <th>...</th>\n",
       "      <td>...</td>\n",
       "      <td>...</td>\n",
       "    </tr>\n",
       "    <tr>\n",
       "      <th>4538536</th>\n",
       "      <td>TEST_4538536</td>\n",
       "      <td>0.000000</td>\n",
       "    </tr>\n",
       "    <tr>\n",
       "      <th>4538537</th>\n",
       "      <td>TEST_4538537</td>\n",
       "      <td>0.000000</td>\n",
       "    </tr>\n",
       "    <tr>\n",
       "      <th>4538538</th>\n",
       "      <td>TEST_4538538</td>\n",
       "      <td>0.000000</td>\n",
       "    </tr>\n",
       "    <tr>\n",
       "      <th>4538539</th>\n",
       "      <td>TEST_4538539</td>\n",
       "      <td>0.357456</td>\n",
       "    </tr>\n",
       "    <tr>\n",
       "      <th>4538540</th>\n",
       "      <td>TEST_4538540</td>\n",
       "      <td>0.248711</td>\n",
       "    </tr>\n",
       "  </tbody>\n",
       "</table>\n",
       "<p>4538541 rows × 2 columns</p>\n",
       "</div>"
      ],
      "text/plain": [
       "                   ID     Click\n",
       "0        TEST_0000000  0.000000\n",
       "1        TEST_0000001  0.000000\n",
       "2        TEST_0000002  0.000000\n",
       "3        TEST_0000003  0.356528\n",
       "4        TEST_0000004  0.000000\n",
       "...               ...       ...\n",
       "4538536  TEST_4538536  0.000000\n",
       "4538537  TEST_4538537  0.000000\n",
       "4538538  TEST_4538538  0.000000\n",
       "4538539  TEST_4538539  0.357456\n",
       "4538540  TEST_4538540  0.248711\n",
       "\n",
       "[4538541 rows x 2 columns]"
      ]
     },
     "execution_count": 9,
     "metadata": {},
     "output_type": "execute_result"
    }
   ],
   "source": [
    "final_pred = unique_1['Click']\n",
    "final_pred += unique_2['Click']\n",
    "# final_pred += unique_3['Click']\n",
    "# final_pred += unique_4['Click']\n",
    "# final_pred += unique_5['Click']\n",
    "# final_pred += unique_6['Click']\n",
    "# final_pred += unique_7['Click']\n",
    "# final_pred += unique_8['Click']\n",
    "# final_pred += unique_9['Click']\n",
    "# final_pred += unique_10['Click']"
   ]
  },
  {
   "cell_type": "code",
   "execution_count": 11,
   "metadata": {},
   "outputs": [
    {
     "data": {
      "text/plain": [
       "0          0.639164\n",
       "1          0.341768\n",
       "2          0.339905\n",
       "3          0.713056\n",
       "4          0.747928\n",
       "             ...   \n",
       "4538536    0.142693\n",
       "4538537    0.694999\n",
       "4538538    0.034625\n",
       "4538539    0.714911\n",
       "4538540    0.497422\n",
       "Name: Click, Length: 4538541, dtype: float64"
      ]
     },
     "execution_count": 11,
     "metadata": {},
     "output_type": "execute_result"
    }
   ],
   "source": [
    "final_pred = unique_1['Click']\n",
    "final_pred += unique_2['Click']\n",
    "final_pred"
   ]
  },
  {
   "cell_type": "code",
   "execution_count": 19,
   "metadata": {},
   "outputs": [
    {
     "data": {
      "text/html": [
       "<div>\n",
       "<style scoped>\n",
       "    .dataframe tbody tr th:only-of-type {\n",
       "        vertical-align: middle;\n",
       "    }\n",
       "\n",
       "    .dataframe tbody tr th {\n",
       "        vertical-align: top;\n",
       "    }\n",
       "\n",
       "    .dataframe thead th {\n",
       "        text-align: right;\n",
       "    }\n",
       "</style>\n",
       "<table border=\"1\" class=\"dataframe\">\n",
       "  <thead>\n",
       "    <tr style=\"text-align: right;\">\n",
       "      <th></th>\n",
       "      <th>ID</th>\n",
       "      <th>Click</th>\n",
       "    </tr>\n",
       "  </thead>\n",
       "  <tbody>\n",
       "    <tr>\n",
       "      <th>0</th>\n",
       "      <td>TEST_0000000</td>\n",
       "      <td>0.0</td>\n",
       "    </tr>\n",
       "    <tr>\n",
       "      <th>1</th>\n",
       "      <td>TEST_0000001</td>\n",
       "      <td>0.0</td>\n",
       "    </tr>\n",
       "    <tr>\n",
       "      <th>2</th>\n",
       "      <td>TEST_0000002</td>\n",
       "      <td>0.0</td>\n",
       "    </tr>\n",
       "    <tr>\n",
       "      <th>4</th>\n",
       "      <td>TEST_0000004</td>\n",
       "      <td>0.0</td>\n",
       "    </tr>\n",
       "    <tr>\n",
       "      <th>5</th>\n",
       "      <td>TEST_0000005</td>\n",
       "      <td>0.0</td>\n",
       "    </tr>\n",
       "    <tr>\n",
       "      <th>...</th>\n",
       "      <td>...</td>\n",
       "      <td>...</td>\n",
       "    </tr>\n",
       "    <tr>\n",
       "      <th>4538534</th>\n",
       "      <td>TEST_4538534</td>\n",
       "      <td>0.0</td>\n",
       "    </tr>\n",
       "    <tr>\n",
       "      <th>4538535</th>\n",
       "      <td>TEST_4538535</td>\n",
       "      <td>0.0</td>\n",
       "    </tr>\n",
       "    <tr>\n",
       "      <th>4538536</th>\n",
       "      <td>TEST_4538536</td>\n",
       "      <td>0.0</td>\n",
       "    </tr>\n",
       "    <tr>\n",
       "      <th>4538537</th>\n",
       "      <td>TEST_4538537</td>\n",
       "      <td>0.0</td>\n",
       "    </tr>\n",
       "    <tr>\n",
       "      <th>4538538</th>\n",
       "      <td>TEST_4538538</td>\n",
       "      <td>0.0</td>\n",
       "    </tr>\n",
       "  </tbody>\n",
       "</table>\n",
       "<p>2750357 rows × 2 columns</p>\n",
       "</div>"
      ],
      "text/plain": [
       "                   ID  Click\n",
       "0        TEST_0000000    0.0\n",
       "1        TEST_0000001    0.0\n",
       "2        TEST_0000002    0.0\n",
       "4        TEST_0000004    0.0\n",
       "5        TEST_0000005    0.0\n",
       "...               ...    ...\n",
       "4538534  TEST_4538534    0.0\n",
       "4538535  TEST_4538535    0.0\n",
       "4538536  TEST_4538536    0.0\n",
       "4538537  TEST_4538537    0.0\n",
       "4538538  TEST_4538538    0.0\n",
       "\n",
       "[2750357 rows x 2 columns]"
      ]
     },
     "execution_count": 19,
     "metadata": {},
     "output_type": "execute_result"
    }
   ],
   "source": [
    "unique_8[unique_8['Click'] == 0]"
   ]
  },
  {
   "cell_type": "code",
   "execution_count": 22,
   "metadata": {},
   "outputs": [
    {
     "data": {
      "text/plain": [
       "13"
      ]
     },
     "execution_count": 22,
     "metadata": {},
     "output_type": "execute_result"
    }
   ],
   "source": [
    "len(unique_5[unique_5['Click'] == 0])"
   ]
  },
  {
   "cell_type": "code",
   "execution_count": 20,
   "metadata": {},
   "outputs": [
    {
     "data": {
      "text/html": [
       "<div>\n",
       "<style scoped>\n",
       "    .dataframe tbody tr th:only-of-type {\n",
       "        vertical-align: middle;\n",
       "    }\n",
       "\n",
       "    .dataframe tbody tr th {\n",
       "        vertical-align: top;\n",
       "    }\n",
       "\n",
       "    .dataframe thead th {\n",
       "        text-align: right;\n",
       "    }\n",
       "</style>\n",
       "<table border=\"1\" class=\"dataframe\">\n",
       "  <thead>\n",
       "    <tr style=\"text-align: right;\">\n",
       "      <th></th>\n",
       "      <th>ID</th>\n",
       "      <th>Click</th>\n",
       "    </tr>\n",
       "  </thead>\n",
       "  <tbody>\n",
       "    <tr>\n",
       "      <th>0</th>\n",
       "      <td>TEST_0000000</td>\n",
       "      <td>0.319582</td>\n",
       "    </tr>\n",
       "    <tr>\n",
       "      <th>1</th>\n",
       "      <td>TEST_0000001</td>\n",
       "      <td>0.170884</td>\n",
       "    </tr>\n",
       "    <tr>\n",
       "      <th>2</th>\n",
       "      <td>TEST_0000002</td>\n",
       "      <td>0.169953</td>\n",
       "    </tr>\n",
       "    <tr>\n",
       "      <th>3</th>\n",
       "      <td>TEST_0000003</td>\n",
       "      <td>0.356528</td>\n",
       "    </tr>\n",
       "    <tr>\n",
       "      <th>4</th>\n",
       "      <td>TEST_0000004</td>\n",
       "      <td>0.373964</td>\n",
       "    </tr>\n",
       "    <tr>\n",
       "      <th>...</th>\n",
       "      <td>...</td>\n",
       "      <td>...</td>\n",
       "    </tr>\n",
       "    <tr>\n",
       "      <th>4538536</th>\n",
       "      <td>TEST_4538536</td>\n",
       "      <td>0.142693</td>\n",
       "    </tr>\n",
       "    <tr>\n",
       "      <th>4538537</th>\n",
       "      <td>TEST_4538537</td>\n",
       "      <td>0.347499</td>\n",
       "    </tr>\n",
       "    <tr>\n",
       "      <th>4538538</th>\n",
       "      <td>TEST_4538538</td>\n",
       "      <td>0.017313</td>\n",
       "    </tr>\n",
       "    <tr>\n",
       "      <th>4538539</th>\n",
       "      <td>TEST_4538539</td>\n",
       "      <td>0.357456</td>\n",
       "    </tr>\n",
       "    <tr>\n",
       "      <th>4538540</th>\n",
       "      <td>TEST_4538540</td>\n",
       "      <td>0.248711</td>\n",
       "    </tr>\n",
       "  </tbody>\n",
       "</table>\n",
       "<p>4538541 rows × 2 columns</p>\n",
       "</div>"
      ],
      "text/plain": [
       "                   ID     Click\n",
       "0        TEST_0000000  0.319582\n",
       "1        TEST_0000001  0.170884\n",
       "2        TEST_0000002  0.169953\n",
       "3        TEST_0000003  0.356528\n",
       "4        TEST_0000004  0.373964\n",
       "...               ...       ...\n",
       "4538536  TEST_4538536  0.142693\n",
       "4538537  TEST_4538537  0.347499\n",
       "4538538  TEST_4538538  0.017313\n",
       "4538539  TEST_4538539  0.357456\n",
       "4538540  TEST_4538540  0.248711\n",
       "\n",
       "[4538541 rows x 2 columns]"
      ]
     },
     "execution_count": 20,
     "metadata": {},
     "output_type": "execute_result"
    }
   ],
   "source": [
    "unique_10"
   ]
  },
  {
   "cell_type": "code",
   "execution_count": null,
   "metadata": {},
   "outputs": [],
   "source": []
  }
 ],
 "metadata": {
  "kernelspec": {
   "display_name": "code_sim",
   "language": "python",
   "name": "python3"
  },
  "language_info": {
   "codemirror_mode": {
    "name": "ipython",
    "version": 3
   },
   "file_extension": ".py",
   "mimetype": "text/x-python",
   "name": "python",
   "nbconvert_exporter": "python",
   "pygments_lexer": "ipython3",
   "version": "3.9.18"
  }
 },
 "nbformat": 4,
 "nbformat_minor": 2
}
