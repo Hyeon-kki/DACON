{
 "cells": [
  {
   "cell_type": "markdown",
   "metadata": {},
   "source": [
    "### Baseline"
   ]
  },
  {
   "cell_type": "code",
   "execution_count": 1,
   "metadata": {},
   "outputs": [],
   "source": [
    "import numpy as np\n",
    "import polars as pl\n",
    "import pandas as pd\n",
    "import matplotlib.pyplot as plt\n",
    "import seaborn as sns\n",
    "import sys\n",
    "sys.path.append(\"..\")\n",
    "from utils import *\n",
    "import warnings\n",
    "warnings.filterwarnings(\"ignore\")\n",
    "import os\n",
    "import psutil\n",
    "\n",
    "pd.options.display.max_columns=1000\n",
    "pd.options.display.max_rows=1000\n",
    "\n",
    "import lightgbm as lgb\n",
    "import matplotlib.pyplot as plt\n",
    "import seaborn as sns\n",
    "from sklearn.model_selection import train_test_split\n",
    "from sklearn.metrics import roc_auc_score \n",
    "from catboost import CatBoostClassifier, Pool"
   ]
  },
  {
   "cell_type": "markdown",
   "metadata": {},
   "source": [
    "### category 실험"
   ]
  },
  {
   "cell_type": "code",
   "execution_count": 2,
   "metadata": {},
   "outputs": [
    {
     "name": "stdout",
     "output_type": "stream",
     "text": [
      "---------------- Start MissingValue ----------------\n"
     ]
    },
    {
     "name": "stderr",
     "output_type": "stream",
     "text": [
      "100%|██████████| 13/13 [00:00<00:00, 13.83it/s]\n",
      "100%|██████████| 26/26 [00:33<00:00,  1.28s/it]\n"
     ]
    },
    {
     "name": "stdout",
     "output_type": "stream",
     "text": [
      "---------------- Change Dtype ----------------\n",
      "Memory usage of dataframe is 11785.06 MB\n",
      "Memory usage after optimization is: 9520.80 MB\n",
      "Decreased by 19.2%\n"
     ]
    }
   ],
   "source": [
    "# F01 category under 5 score: 0.7789633865150051\n",
    "# F02 category under 5 score: 0.7789890363505909\n",
    "\n",
    "''' Data Load '''\n",
    "train, test = load_data()\n",
    "train_new = preprocessing(train)\n",
    "\n",
    "object_cols = [ 'F03', 'F05', 'F07', 'F08', 'F09', 'F10', 'F12', 'F13',\n",
    "       'F15', 'F16', 'F17', 'F20', 'F21', 'F22', 'F23', 'F25', 'F26', 'F28',\n",
    "       'F30', 'F31', 'F34', 'F35', 'F37', 'F39']\n",
    "\n",
    "''' Seed '''\n",
    "seed_everything(42)\n"
   ]
  },
  {
   "cell_type": "code",
   "execution_count": 3,
   "metadata": {},
   "outputs": [
    {
     "name": "stderr",
     "output_type": "stream",
     "text": [
      "  0%|          | 0/24 [00:00<?, ?it/s]"
     ]
    },
    {
     "name": "stdout",
     "output_type": "stream",
     "text": [
      "---------------- Start Category ----------------\n"
     ]
    },
    {
     "name": "stderr",
     "output_type": "stream",
     "text": [
      "100%|██████████| 1/1 [00:02<00:00,  2.18s/it]\n",
      "  4%|▍         | 1/24 [04:52<1:52:18, 292.98s/it]"
     ]
    },
    {
     "name": "stdout",
     "output_type": "stream",
     "text": [
      "F03 category under 5 score: 0.7790372912643618\n",
      "---------------- Start Category ----------------\n"
     ]
    },
    {
     "name": "stderr",
     "output_type": "stream",
     "text": [
      "100%|██████████| 1/1 [00:27<00:00, 27.08s/it]\n",
      "  8%|▊         | 2/24 [10:05<1:51:32, 304.22s/it]"
     ]
    },
    {
     "name": "stdout",
     "output_type": "stream",
     "text": [
      "F05 category under 5 score: 0.779078481838597\n",
      "---------------- Start Category ----------------\n"
     ]
    },
    {
     "name": "stderr",
     "output_type": "stream",
     "text": [
      "100%|██████████| 1/1 [00:03<00:00,  3.56s/it]\n",
      " 12%|█▎        | 3/24 [15:02<1:45:26, 301.25s/it]"
     ]
    },
    {
     "name": "stdout",
     "output_type": "stream",
     "text": [
      "F07 category under 5 score: 0.778916653408638\n",
      "---------------- Start Category ----------------\n"
     ]
    },
    {
     "name": "stderr",
     "output_type": "stream",
     "text": [
      "100%|██████████| 1/1 [00:02<00:00,  2.16s/it]\n",
      " 17%|█▋        | 4/24 [19:56<1:39:24, 298.22s/it]"
     ]
    },
    {
     "name": "stdout",
     "output_type": "stream",
     "text": [
      "F08 category under 5 score: 0.778916653408638\n",
      "---------------- Start Category ----------------\n"
     ]
    },
    {
     "name": "stderr",
     "output_type": "stream",
     "text": [
      "100%|██████████| 1/1 [00:02<00:00,  2.57s/it]\n",
      " 21%|██        | 5/24 [24:51<1:34:07, 297.24s/it]"
     ]
    },
    {
     "name": "stdout",
     "output_type": "stream",
     "text": [
      "F09 category under 5 score: 0.7790728253510766\n",
      "---------------- Start Category ----------------\n"
     ]
    },
    {
     "name": "stderr",
     "output_type": "stream",
     "text": [
      "100%|██████████| 1/1 [00:09<00:00,  9.58s/it]\n",
      " 25%|██▌       | 6/24 [30:06<1:30:54, 303.02s/it]"
     ]
    },
    {
     "name": "stdout",
     "output_type": "stream",
     "text": [
      "F10 category under 5 score: 0.7790497408474678\n",
      "---------------- Start Category ----------------\n"
     ]
    },
    {
     "name": "stderr",
     "output_type": "stream",
     "text": [
      "100%|██████████| 1/1 [00:22<00:00, 22.34s/it]\n",
      " 29%|██▉       | 7/24 [35:30<1:27:48, 309.90s/it]"
     ]
    },
    {
     "name": "stdout",
     "output_type": "stream",
     "text": [
      "F12 category under 5 score: 0.7790497408474678\n",
      "---------------- Start Category ----------------\n"
     ]
    },
    {
     "name": "stderr",
     "output_type": "stream",
     "text": [
      "100%|██████████| 1/1 [00:02<00:00,  2.07s/it]\n",
      " 33%|███▎      | 8/24 [40:37<1:22:24, 309.00s/it]"
     ]
    },
    {
     "name": "stdout",
     "output_type": "stream",
     "text": [
      "F13 category under 5 score: 0.7790497408474678\n",
      "---------------- Start Category ----------------\n"
     ]
    },
    {
     "name": "stderr",
     "output_type": "stream",
     "text": [
      "100%|██████████| 1/1 [00:00<00:00,  9.78it/s]\n",
      " 38%|███▊      | 9/24 [45:48<1:17:23, 309.58s/it]"
     ]
    },
    {
     "name": "stdout",
     "output_type": "stream",
     "text": [
      "F15 category under 5 score: 0.7790497408474678\n",
      "---------------- Start Category ----------------\n"
     ]
    },
    {
     "name": "stderr",
     "output_type": "stream",
     "text": [
      "100%|██████████| 1/1 [00:02<00:00,  2.52s/it]\n",
      " 42%|████▏     | 10/24 [50:57<1:12:12, 309.47s/it]"
     ]
    },
    {
     "name": "stdout",
     "output_type": "stream",
     "text": [
      "F16 category under 5 score: 0.7790245428969089\n",
      "---------------- Start Category ----------------\n"
     ]
    },
    {
     "name": "stderr",
     "output_type": "stream",
     "text": [
      "100%|██████████| 1/1 [00:00<00:00,  9.55it/s]\n",
      " 46%|████▌     | 11/24 [56:10<1:07:17, 310.59s/it]"
     ]
    },
    {
     "name": "stdout",
     "output_type": "stream",
     "text": [
      "F17 category under 5 score: 0.7790245428969089\n",
      "---------------- Start Category ----------------\n"
     ]
    },
    {
     "name": "stderr",
     "output_type": "stream",
     "text": [
      "100%|██████████| 1/1 [00:03<00:00,  3.28s/it]\n",
      " 50%|█████     | 12/24 [1:01:28<1:02:35, 312.98s/it]"
     ]
    },
    {
     "name": "stdout",
     "output_type": "stream",
     "text": [
      "F20 category under 5 score: 0.7790251780430439\n",
      "---------------- Start Category ----------------\n"
     ]
    },
    {
     "name": "stderr",
     "output_type": "stream",
     "text": [
      "100%|██████████| 1/1 [00:00<00:00,  9.60it/s]\n",
      " 54%|█████▍    | 13/24 [1:07:01<58:28, 318.98s/it]  "
     ]
    },
    {
     "name": "stdout",
     "output_type": "stream",
     "text": [
      "F21 category under 5 score: 0.7790251780430439\n",
      "---------------- Start Category ----------------\n"
     ]
    },
    {
     "name": "stderr",
     "output_type": "stream",
     "text": [
      "100%|██████████| 1/1 [00:02<00:00,  2.21s/it]\n",
      " 58%|█████▊    | 14/24 [1:12:42<54:15, 325.59s/it]"
     ]
    },
    {
     "name": "stdout",
     "output_type": "stream",
     "text": [
      "F22 category under 5 score: 0.7790251780430439\n",
      "---------------- Start Category ----------------\n"
     ]
    },
    {
     "name": "stderr",
     "output_type": "stream",
     "text": [
      "100%|██████████| 1/1 [00:01<00:00,  1.99s/it]\n",
      " 62%|██████▎   | 15/24 [1:18:24<49:35, 330.62s/it]"
     ]
    },
    {
     "name": "stdout",
     "output_type": "stream",
     "text": [
      "F23 category under 5 score: 0.7790251780430439\n",
      "---------------- Start Category ----------------\n"
     ]
    },
    {
     "name": "stderr",
     "output_type": "stream",
     "text": [
      "100%|██████████| 1/1 [00:02<00:00,  2.32s/it]\n",
      " 67%|██████▋   | 16/24 [1:24:17<44:57, 337.20s/it]"
     ]
    },
    {
     "name": "stdout",
     "output_type": "stream",
     "text": [
      "F25 category under 5 score: 0.7790867459739631\n",
      "---------------- Start Category ----------------\n"
     ]
    },
    {
     "name": "stderr",
     "output_type": "stream",
     "text": [
      "100%|██████████| 1/1 [00:02<00:00,  2.10s/it]\n",
      " 71%|███████   | 17/24 [1:30:10<39:54, 342.02s/it]"
     ]
    },
    {
     "name": "stdout",
     "output_type": "stream",
     "text": [
      "F26 category under 5 score: 0.7790867459739631\n",
      "---------------- Start Category ----------------\n"
     ]
    },
    {
     "name": "stderr",
     "output_type": "stream",
     "text": [
      "100%|██████████| 1/1 [00:02<00:00,  2.00s/it]\n",
      " 75%|███████▌  | 18/24 [1:35:58<34:22, 343.79s/it]"
     ]
    },
    {
     "name": "stdout",
     "output_type": "stream",
     "text": [
      "F28 category under 5 score: 0.7790867459739631\n",
      "---------------- Start Category ----------------\n"
     ]
    },
    {
     "name": "stderr",
     "output_type": "stream",
     "text": [
      "100%|██████████| 1/1 [00:02<00:00,  2.25s/it]\n",
      " 79%|███████▉  | 19/24 [1:41:56<29:00, 348.18s/it]"
     ]
    },
    {
     "name": "stdout",
     "output_type": "stream",
     "text": [
      "F30 category under 5 score: 0.7790496089630798\n",
      "---------------- Start Category ----------------\n"
     ]
    },
    {
     "name": "stderr",
     "output_type": "stream",
     "text": [
      "100%|██████████| 1/1 [00:00<00:00,  9.59it/s]\n",
      " 83%|████████▎ | 20/24 [1:47:24<22:47, 341.96s/it]"
     ]
    },
    {
     "name": "stdout",
     "output_type": "stream",
     "text": [
      "F31 category under 5 score: 0.7790496089630798\n",
      "---------------- Start Category ----------------\n"
     ]
    },
    {
     "name": "stderr",
     "output_type": "stream",
     "text": [
      "100%|██████████| 1/1 [00:17<00:00, 17.36s/it]\n",
      " 88%|████████▊ | 21/24 [1:53:39<17:35, 351.81s/it]"
     ]
    },
    {
     "name": "stdout",
     "output_type": "stream",
     "text": [
      "F34 category under 5 score: 0.7791017484861495\n",
      "---------------- Start Category ----------------\n"
     ]
    },
    {
     "name": "stderr",
     "output_type": "stream",
     "text": [
      "100%|██████████| 1/1 [00:00<00:00, 10.10it/s]\n",
      " 92%|█████████▏| 22/24 [1:59:37<11:47, 353.76s/it]"
     ]
    },
    {
     "name": "stdout",
     "output_type": "stream",
     "text": [
      "F35 category under 5 score: 0.7791017484861495\n",
      "---------------- Start Category ----------------\n"
     ]
    },
    {
     "name": "stderr",
     "output_type": "stream",
     "text": [
      "100%|██████████| 1/1 [00:02<00:00,  2.25s/it]\n",
      " 96%|█████████▌| 23/24 [2:05:34<05:54, 354.85s/it]"
     ]
    },
    {
     "name": "stdout",
     "output_type": "stream",
     "text": [
      "F37 category under 5 score: 0.7790524453921888\n",
      "---------------- Start Category ----------------\n"
     ]
    },
    {
     "name": "stderr",
     "output_type": "stream",
     "text": [
      "100%|██████████| 1/1 [00:02<00:00,  2.37s/it]\n",
      "100%|██████████| 24/24 [2:11:36<00:00, 329.04s/it]"
     ]
    },
    {
     "name": "stdout",
     "output_type": "stream",
     "text": [
      "F39 category under 5 score: 0.7790524453921888\n"
     ]
    },
    {
     "name": "stderr",
     "output_type": "stream",
     "text": [
      "\n"
     ]
    }
   ],
   "source": [
    "for col in tqdm(object_cols):\n",
    "\n",
    "    print(\"---------------- Start Category ----------------\")\n",
    "\n",
    "    train_new2 = feature_category(train_new, [col], 5)\n",
    "\n",
    "    ''' Train / Vaild Split'''\n",
    "    X_train = train_new2.drop(columns = [\"Click\"]) \n",
    "    y_train = train_new2[\"Click\"]\n",
    "    X_train, X_valid, y_train, y_valid = train_test_split(X_train, y_train, test_size=0.2, stratify=y_train, random_state=42)\n",
    "\n",
    "    param = {'max_depth': 30,\n",
    "    'num_leaves': 306,\n",
    "    'subsample': 0.9757365622458185,\n",
    "    'subsample_freq': 8,\n",
    "    'min_child_samples': 136}\n",
    "\n",
    "    model = lgb.LGBMClassifier(random_state=42, **param)\n",
    "    model.fit(X_train, y_train, eval_metric='AUC')\n",
    "    pred = model.predict_proba(X_valid)\n",
    "    score = roc_auc_score(y_valid, pred[:, 1])\n",
    "    print(f'{col} category under 5 score: {score}')\n"
   ]
  },
  {
   "cell_type": "code",
   "execution_count": 4,
   "metadata": {},
   "outputs": [
    {
     "name": "stderr",
     "output_type": "stream",
     "text": [
      "  0%|          | 0/24 [00:00<?, ?it/s]"
     ]
    },
    {
     "name": "stdout",
     "output_type": "stream",
     "text": [
      "---------------- Start Category ----------------\n"
     ]
    },
    {
     "name": "stderr",
     "output_type": "stream",
     "text": [
      "100%|██████████| 1/1 [00:02<00:00,  2.11s/it]\n",
      "  4%|▍         | 1/24 [06:05<2:20:12, 365.74s/it]"
     ]
    },
    {
     "name": "stdout",
     "output_type": "stream",
     "text": [
      "F03 category under 5 score: 0.7790524453921888\n",
      "---------------- Start Category ----------------\n"
     ]
    },
    {
     "name": "stderr",
     "output_type": "stream",
     "text": [
      "100%|██████████| 1/1 [00:25<00:00, 25.59s/it]\n",
      "  8%|▊         | 2/24 [12:31<2:18:23, 377.45s/it]"
     ]
    },
    {
     "name": "stdout",
     "output_type": "stream",
     "text": [
      "F05 category under 5 score: 0.7789910942638221\n",
      "---------------- Start Category ----------------\n"
     ]
    },
    {
     "name": "stderr",
     "output_type": "stream",
     "text": [
      "100%|██████████| 1/1 [00:02<00:00,  2.99s/it]\n",
      " 12%|█▎        | 3/24 [18:33<2:09:35, 370.26s/it]"
     ]
    },
    {
     "name": "stdout",
     "output_type": "stream",
     "text": [
      "F07 category under 5 score: 0.7789047645207727\n",
      "---------------- Start Category ----------------\n"
     ]
    },
    {
     "name": "stderr",
     "output_type": "stream",
     "text": [
      "100%|██████████| 1/1 [00:02<00:00,  2.08s/it]\n",
      " 17%|█▋        | 4/24 [24:35<2:02:21, 367.10s/it]"
     ]
    },
    {
     "name": "stdout",
     "output_type": "stream",
     "text": [
      "F08 category under 5 score: 0.7789678640576454\n",
      "---------------- Start Category ----------------\n"
     ]
    },
    {
     "name": "stderr",
     "output_type": "stream",
     "text": [
      "100%|██████████| 1/1 [00:02<00:00,  2.30s/it]\n",
      " 21%|██        | 5/24 [30:37<1:55:37, 365.14s/it]"
     ]
    },
    {
     "name": "stdout",
     "output_type": "stream",
     "text": [
      "F09 category under 5 score: 0.7791396357109475\n",
      "---------------- Start Category ----------------\n"
     ]
    },
    {
     "name": "stderr",
     "output_type": "stream",
     "text": [
      "100%|██████████| 1/1 [00:08<00:00,  8.48s/it]\n",
      " 25%|██▌       | 6/24 [36:51<1:50:26, 368.15s/it]"
     ]
    },
    {
     "name": "stdout",
     "output_type": "stream",
     "text": [
      "F10 category under 5 score: 0.77898869428188\n",
      "---------------- Start Category ----------------\n"
     ]
    },
    {
     "name": "stderr",
     "output_type": "stream",
     "text": [
      "100%|██████████| 1/1 [00:20<00:00, 20.24s/it]\n",
      " 29%|██▉       | 7/24 [43:16<1:45:52, 373.67s/it]"
     ]
    },
    {
     "name": "stdout",
     "output_type": "stream",
     "text": [
      "F12 category under 5 score: 0.7791037037569059\n",
      "---------------- Start Category ----------------\n"
     ]
    },
    {
     "name": "stderr",
     "output_type": "stream",
     "text": [
      "100%|██████████| 1/1 [00:02<00:00,  2.04s/it]\n",
      " 33%|███▎      | 8/24 [49:23<1:39:06, 371.68s/it]"
     ]
    },
    {
     "name": "stdout",
     "output_type": "stream",
     "text": [
      "F13 category under 5 score: 0.7791037037569059\n",
      "---------------- Start Category ----------------\n"
     ]
    },
    {
     "name": "stderr",
     "output_type": "stream",
     "text": [
      "100%|██████████| 1/1 [00:00<00:00, 10.08it/s]\n",
      " 38%|███▊      | 9/24 [55:26<1:32:15, 369.06s/it]"
     ]
    },
    {
     "name": "stdout",
     "output_type": "stream",
     "text": [
      "F15 category under 5 score: 0.7791037037569059\n",
      "---------------- Start Category ----------------\n"
     ]
    },
    {
     "name": "stderr",
     "output_type": "stream",
     "text": [
      "100%|██████████| 1/1 [00:02<00:00,  2.37s/it]\n",
      " 42%|████▏     | 10/24 [1:01:35<1:26:05, 368.96s/it]"
     ]
    },
    {
     "name": "stdout",
     "output_type": "stream",
     "text": [
      "F16 category under 5 score: 0.7789770115484776\n",
      "---------------- Start Category ----------------\n"
     ]
    },
    {
     "name": "stderr",
     "output_type": "stream",
     "text": [
      "100%|██████████| 1/1 [00:00<00:00,  9.74it/s]\n",
      " 46%|████▌     | 11/24 [1:07:35<1:19:20, 366.22s/it]"
     ]
    },
    {
     "name": "stdout",
     "output_type": "stream",
     "text": [
      "F17 category under 5 score: 0.7789770115484776\n",
      "---------------- Start Category ----------------\n"
     ]
    },
    {
     "name": "stderr",
     "output_type": "stream",
     "text": [
      "100%|██████████| 1/1 [00:02<00:00,  2.91s/it]\n",
      " 50%|█████     | 12/24 [1:13:41<1:13:14, 366.23s/it]"
     ]
    },
    {
     "name": "stdout",
     "output_type": "stream",
     "text": [
      "F20 category under 5 score: 0.7791471974887885\n",
      "---------------- Start Category ----------------\n"
     ]
    },
    {
     "name": "stderr",
     "output_type": "stream",
     "text": [
      "100%|██████████| 1/1 [00:00<00:00,  9.73it/s]\n",
      " 54%|█████▍    | 13/24 [1:19:44<1:06:56, 365.11s/it]"
     ]
    },
    {
     "name": "stdout",
     "output_type": "stream",
     "text": [
      "F21 category under 5 score: 0.7791471974887885\n",
      "---------------- Start Category ----------------\n"
     ]
    },
    {
     "name": "stderr",
     "output_type": "stream",
     "text": [
      "100%|██████████| 1/1 [00:02<00:00,  2.15s/it]\n",
      " 58%|█████▊    | 14/24 [1:25:45<1:00:39, 363.98s/it]"
     ]
    },
    {
     "name": "stdout",
     "output_type": "stream",
     "text": [
      "F22 category under 5 score: 0.7791471974887885\n",
      "---------------- Start Category ----------------\n"
     ]
    },
    {
     "name": "stderr",
     "output_type": "stream",
     "text": [
      "100%|██████████| 1/1 [00:02<00:00,  2.31s/it]\n",
      " 62%|██████▎   | 15/24 [1:31:45<54:24, 362.77s/it]  "
     ]
    },
    {
     "name": "stdout",
     "output_type": "stream",
     "text": [
      "F23 category under 5 score: 0.7791471974887885\n",
      "---------------- Start Category ----------------\n"
     ]
    },
    {
     "name": "stderr",
     "output_type": "stream",
     "text": [
      "100%|██████████| 1/1 [00:02<00:00,  2.69s/it]\n",
      " 67%|██████▋   | 16/24 [1:37:46<48:18, 362.27s/it]"
     ]
    },
    {
     "name": "stdout",
     "output_type": "stream",
     "text": [
      "F25 category under 5 score: 0.7787849696877194\n",
      "---------------- Start Category ----------------\n"
     ]
    },
    {
     "name": "stderr",
     "output_type": "stream",
     "text": [
      "100%|██████████| 1/1 [00:02<00:00,  2.16s/it]\n",
      " 71%|███████   | 17/24 [1:43:43<42:04, 360.69s/it]"
     ]
    },
    {
     "name": "stdout",
     "output_type": "stream",
     "text": [
      "F26 category under 5 score: 0.7788761482359046\n",
      "---------------- Start Category ----------------\n"
     ]
    },
    {
     "name": "stderr",
     "output_type": "stream",
     "text": [
      "100%|██████████| 1/1 [00:02<00:00,  2.11s/it]\n",
      " 75%|███████▌  | 18/24 [1:49:43<36:02, 360.44s/it]"
     ]
    },
    {
     "name": "stdout",
     "output_type": "stream",
     "text": [
      "F28 category under 5 score: 0.7788761482359046\n",
      "---------------- Start Category ----------------\n"
     ]
    },
    {
     "name": "stderr",
     "output_type": "stream",
     "text": [
      "100%|██████████| 1/1 [00:02<00:00,  2.21s/it]\n",
      " 79%|███████▉  | 19/24 [1:55:38<29:53, 358.64s/it]"
     ]
    },
    {
     "name": "stdout",
     "output_type": "stream",
     "text": [
      "F30 category under 5 score: 0.7787922284428653\n",
      "---------------- Start Category ----------------\n"
     ]
    },
    {
     "name": "stderr",
     "output_type": "stream",
     "text": [
      "100%|██████████| 1/1 [00:00<00:00,  9.65it/s]\n",
      " 83%|████████▎ | 20/24 [2:01:30<23:46, 356.75s/it]"
     ]
    },
    {
     "name": "stdout",
     "output_type": "stream",
     "text": [
      "F31 category under 5 score: 0.7787922284428653\n",
      "---------------- Start Category ----------------\n"
     ]
    },
    {
     "name": "stderr",
     "output_type": "stream",
     "text": [
      "100%|██████████| 1/1 [00:16<00:00, 16.53s/it]\n",
      " 88%|████████▊ | 21/24 [2:07:39<18:01, 360.61s/it]"
     ]
    },
    {
     "name": "stdout",
     "output_type": "stream",
     "text": [
      "F34 category under 5 score: 0.7788484637564018\n",
      "---------------- Start Category ----------------\n"
     ]
    },
    {
     "name": "stderr",
     "output_type": "stream",
     "text": [
      "100%|██████████| 1/1 [00:00<00:00,  9.76it/s]\n",
      " 92%|█████████▏| 22/24 [2:13:33<11:57, 358.52s/it]"
     ]
    },
    {
     "name": "stdout",
     "output_type": "stream",
     "text": [
      "F35 category under 5 score: 0.7788484637564018\n",
      "---------------- Start Category ----------------\n"
     ]
    },
    {
     "name": "stderr",
     "output_type": "stream",
     "text": [
      "100%|██████████| 1/1 [00:02<00:00,  2.22s/it]\n",
      " 96%|█████████▌| 23/24 [2:19:33<05:58, 358.96s/it]"
     ]
    },
    {
     "name": "stdout",
     "output_type": "stream",
     "text": [
      "F37 category under 5 score: 0.7789533444469819\n",
      "---------------- Start Category ----------------\n"
     ]
    },
    {
     "name": "stderr",
     "output_type": "stream",
     "text": [
      "100%|██████████| 1/1 [00:02<00:00,  2.39s/it]\n",
      "100%|██████████| 24/24 [2:25:34<00:00, 363.95s/it]"
     ]
    },
    {
     "name": "stdout",
     "output_type": "stream",
     "text": [
      "F39 category under 5 score: 0.7791277675335467\n"
     ]
    },
    {
     "name": "stderr",
     "output_type": "stream",
     "text": [
      "\n"
     ]
    }
   ],
   "source": [
    "for col in tqdm(object_cols):\n",
    "\n",
    "    print(\"---------------- Start Category ----------------\")\n",
    "\n",
    "    train_new2 = feature_category(train_new, [col], 30)\n",
    "\n",
    "    ''' Train / Vaild Split'''\n",
    "    X_train = train_new2.drop(columns = [\"Click\"]) \n",
    "    y_train = train_new2[\"Click\"]\n",
    "    X_train, X_valid, y_train, y_valid = train_test_split(X_train, y_train, test_size=0.2, stratify=y_train, random_state=42)\n",
    "\n",
    "    param = {'max_depth': 30,\n",
    "    'num_leaves': 306,\n",
    "    'subsample': 0.9757365622458185,\n",
    "    'subsample_freq': 8,\n",
    "    'min_child_samples': 136}\n",
    "\n",
    "    model = lgb.LGBMClassifier(random_state=42, **param)\n",
    "    model.fit(X_train, y_train, eval_metric='AUC')\n",
    "    pred = model.predict_proba(X_valid)\n",
    "    score = roc_auc_score(y_valid, pred[:, 1])\n",
    "    print(f'{col} category under 5 score: {score}')\n"
   ]
  },
  {
   "cell_type": "code",
   "execution_count": 5,
   "metadata": {},
   "outputs": [
    {
     "name": "stderr",
     "output_type": "stream",
     "text": [
      "100%|██████████| 4/4 [00:07<00:00,  1.84s/it]\n"
     ]
    },
    {
     "name": "stdout",
     "output_type": "stream",
     "text": [
      "F39 category under 5 score: 0.7791277675335467\n"
     ]
    }
   ],
   "source": [
    "train_new2 = feature_category(train_new, ['F20', 'F21', 'F22', \"F23\"], 30)\n",
    "\n",
    "''' Train / Vaild Split'''\n",
    "X_train = train_new2.drop(columns = [\"Click\"]) \n",
    "y_train = train_new2[\"Click\"]\n",
    "X_train, X_valid, y_train, y_valid = train_test_split(X_train, y_train, test_size=0.2, stratify=y_train, random_state=42)\n",
    "\n",
    "param = {'max_depth': 30,\n",
    "'num_leaves': 306,\n",
    "'subsample': 0.9757365622458185,\n",
    "'subsample_freq': 8,\n",
    "'min_child_samples': 136}\n",
    "\n",
    "model = lgb.LGBMClassifier(random_state=42, **param)\n",
    "model.fit(X_train, y_train, eval_metric='AUC')\n",
    "pred = model.predict_proba(X_valid)\n",
    "score = roc_auc_score(y_valid, pred[:, 1])\n",
    "print(f'{col} category under 5 score: {score}')"
   ]
  },
  {
   "cell_type": "code",
   "execution_count": 9,
   "metadata": {},
   "outputs": [
    {
     "ename": "KeyboardInterrupt",
     "evalue": "",
     "output_type": "error",
     "traceback": [
      "\u001b[0;31m---------------------------------------------------------------------------\u001b[0m",
      "\u001b[0;31mKeyboardInterrupt\u001b[0m                         Traceback (most recent call last)",
      "Cell \u001b[0;32mIn[9], line 15\u001b[0m\n\u001b[1;32m      6\u001b[0m param \u001b[38;5;241m=\u001b[39m {\u001b[38;5;124m'\u001b[39m\u001b[38;5;124mmax_depth\u001b[39m\u001b[38;5;124m'\u001b[39m: \u001b[38;5;241m30\u001b[39m,\n\u001b[1;32m      7\u001b[0m \u001b[38;5;124m'\u001b[39m\u001b[38;5;124mnum_leaves\u001b[39m\u001b[38;5;124m'\u001b[39m: \u001b[38;5;241m306\u001b[39m,\n\u001b[1;32m      8\u001b[0m \u001b[38;5;124m'\u001b[39m\u001b[38;5;124msubsample\u001b[39m\u001b[38;5;124m'\u001b[39m: \u001b[38;5;241m0.9757365622458185\u001b[39m,\n\u001b[0;32m   (...)\u001b[0m\n\u001b[1;32m     11\u001b[0m \u001b[38;5;124m\"\u001b[39m\u001b[38;5;124mn_estimators\u001b[39m\u001b[38;5;124m\"\u001b[39m: \u001b[38;5;241m1000\u001b[39m\n\u001b[1;32m     12\u001b[0m }\n\u001b[1;32m     14\u001b[0m model \u001b[38;5;241m=\u001b[39m lgb\u001b[38;5;241m.\u001b[39mLGBMClassifier(random_state\u001b[38;5;241m=\u001b[39m\u001b[38;5;241m42\u001b[39m, \u001b[38;5;241m*\u001b[39m\u001b[38;5;241m*\u001b[39mparam)\n\u001b[0;32m---> 15\u001b[0m \u001b[43mmodel\u001b[49m\u001b[38;5;241;43m.\u001b[39;49m\u001b[43mfit\u001b[49m\u001b[43m(\u001b[49m\u001b[43mX_train\u001b[49m\u001b[43m,\u001b[49m\u001b[43m \u001b[49m\u001b[43my_train\u001b[49m\u001b[43m,\u001b[49m\u001b[43m \u001b[49m\u001b[43meval_metric\u001b[49m\u001b[38;5;241;43m=\u001b[39;49m\u001b[38;5;124;43m'\u001b[39;49m\u001b[38;5;124;43mAUC\u001b[39;49m\u001b[38;5;124;43m'\u001b[39;49m\u001b[43m)\u001b[49m\n\u001b[1;32m     16\u001b[0m pred \u001b[38;5;241m=\u001b[39m model\u001b[38;5;241m.\u001b[39mpredict_proba(X_valid)\n\u001b[1;32m     17\u001b[0m score \u001b[38;5;241m=\u001b[39m roc_auc_score(y_valid, pred[:, \u001b[38;5;241m1\u001b[39m])\n",
      "File \u001b[0;32m~/anaconda3/envs/code_sim/lib/python3.9/site-packages/lightgbm/sklearn.py:967\u001b[0m, in \u001b[0;36mLGBMClassifier.fit\u001b[0;34m(self, X, y, sample_weight, init_score, eval_set, eval_names, eval_sample_weight, eval_class_weight, eval_init_score, eval_metric, early_stopping_rounds, verbose, feature_name, categorical_feature, callbacks, init_model)\u001b[0m\n\u001b[1;32m    964\u001b[0m         \u001b[38;5;28;01melse\u001b[39;00m:\n\u001b[1;32m    965\u001b[0m             valid_sets[i] \u001b[38;5;241m=\u001b[39m (valid_x, \u001b[38;5;28mself\u001b[39m\u001b[38;5;241m.\u001b[39m_le\u001b[38;5;241m.\u001b[39mtransform(valid_y))\n\u001b[0;32m--> 967\u001b[0m \u001b[38;5;28;43msuper\u001b[39;49m\u001b[43m(\u001b[49m\u001b[43m)\u001b[49m\u001b[38;5;241;43m.\u001b[39;49m\u001b[43mfit\u001b[49m\u001b[43m(\u001b[49m\u001b[43mX\u001b[49m\u001b[43m,\u001b[49m\u001b[43m \u001b[49m\u001b[43m_y\u001b[49m\u001b[43m,\u001b[49m\u001b[43m \u001b[49m\u001b[43msample_weight\u001b[49m\u001b[38;5;241;43m=\u001b[39;49m\u001b[43msample_weight\u001b[49m\u001b[43m,\u001b[49m\u001b[43m \u001b[49m\u001b[43minit_score\u001b[49m\u001b[38;5;241;43m=\u001b[39;49m\u001b[43minit_score\u001b[49m\u001b[43m,\u001b[49m\u001b[43m \u001b[49m\u001b[43meval_set\u001b[49m\u001b[38;5;241;43m=\u001b[39;49m\u001b[43mvalid_sets\u001b[49m\u001b[43m,\u001b[49m\n\u001b[1;32m    968\u001b[0m \u001b[43m            \u001b[49m\u001b[43meval_names\u001b[49m\u001b[38;5;241;43m=\u001b[39;49m\u001b[43meval_names\u001b[49m\u001b[43m,\u001b[49m\u001b[43m \u001b[49m\u001b[43meval_sample_weight\u001b[49m\u001b[38;5;241;43m=\u001b[39;49m\u001b[43meval_sample_weight\u001b[49m\u001b[43m,\u001b[49m\n\u001b[1;32m    969\u001b[0m \u001b[43m            \u001b[49m\u001b[43meval_class_weight\u001b[49m\u001b[38;5;241;43m=\u001b[39;49m\u001b[43meval_class_weight\u001b[49m\u001b[43m,\u001b[49m\u001b[43m \u001b[49m\u001b[43meval_init_score\u001b[49m\u001b[38;5;241;43m=\u001b[39;49m\u001b[43meval_init_score\u001b[49m\u001b[43m,\u001b[49m\n\u001b[1;32m    970\u001b[0m \u001b[43m            \u001b[49m\u001b[43meval_metric\u001b[49m\u001b[38;5;241;43m=\u001b[39;49m\u001b[43meval_metric\u001b[49m\u001b[43m,\u001b[49m\u001b[43m \u001b[49m\u001b[43mearly_stopping_rounds\u001b[49m\u001b[38;5;241;43m=\u001b[39;49m\u001b[43mearly_stopping_rounds\u001b[49m\u001b[43m,\u001b[49m\n\u001b[1;32m    971\u001b[0m \u001b[43m            \u001b[49m\u001b[43mverbose\u001b[49m\u001b[38;5;241;43m=\u001b[39;49m\u001b[43mverbose\u001b[49m\u001b[43m,\u001b[49m\u001b[43m \u001b[49m\u001b[43mfeature_name\u001b[49m\u001b[38;5;241;43m=\u001b[39;49m\u001b[43mfeature_name\u001b[49m\u001b[43m,\u001b[49m\u001b[43m \u001b[49m\u001b[43mcategorical_feature\u001b[49m\u001b[38;5;241;43m=\u001b[39;49m\u001b[43mcategorical_feature\u001b[49m\u001b[43m,\u001b[49m\n\u001b[1;32m    972\u001b[0m \u001b[43m            \u001b[49m\u001b[43mcallbacks\u001b[49m\u001b[38;5;241;43m=\u001b[39;49m\u001b[43mcallbacks\u001b[49m\u001b[43m,\u001b[49m\u001b[43m \u001b[49m\u001b[43minit_model\u001b[49m\u001b[38;5;241;43m=\u001b[39;49m\u001b[43minit_model\u001b[49m\u001b[43m)\u001b[49m\n\u001b[1;32m    973\u001b[0m \u001b[38;5;28;01mreturn\u001b[39;00m \u001b[38;5;28mself\u001b[39m\n",
      "File \u001b[0;32m~/anaconda3/envs/code_sim/lib/python3.9/site-packages/lightgbm/sklearn.py:748\u001b[0m, in \u001b[0;36mLGBMModel.fit\u001b[0;34m(self, X, y, sample_weight, init_score, group, eval_set, eval_names, eval_sample_weight, eval_class_weight, eval_init_score, eval_group, eval_metric, early_stopping_rounds, verbose, feature_name, categorical_feature, callbacks, init_model)\u001b[0m\n\u001b[1;32m    745\u001b[0m evals_result \u001b[38;5;241m=\u001b[39m {}\n\u001b[1;32m    746\u001b[0m callbacks\u001b[38;5;241m.\u001b[39mappend(record_evaluation(evals_result))\n\u001b[0;32m--> 748\u001b[0m \u001b[38;5;28mself\u001b[39m\u001b[38;5;241m.\u001b[39m_Booster \u001b[38;5;241m=\u001b[39m \u001b[43mtrain\u001b[49m\u001b[43m(\u001b[49m\n\u001b[1;32m    749\u001b[0m \u001b[43m    \u001b[49m\u001b[43mparams\u001b[49m\u001b[38;5;241;43m=\u001b[39;49m\u001b[43mparams\u001b[49m\u001b[43m,\u001b[49m\n\u001b[1;32m    750\u001b[0m \u001b[43m    \u001b[49m\u001b[43mtrain_set\u001b[49m\u001b[38;5;241;43m=\u001b[39;49m\u001b[43mtrain_set\u001b[49m\u001b[43m,\u001b[49m\n\u001b[1;32m    751\u001b[0m \u001b[43m    \u001b[49m\u001b[43mnum_boost_round\u001b[49m\u001b[38;5;241;43m=\u001b[39;49m\u001b[38;5;28;43mself\u001b[39;49m\u001b[38;5;241;43m.\u001b[39;49m\u001b[43mn_estimators\u001b[49m\u001b[43m,\u001b[49m\n\u001b[1;32m    752\u001b[0m \u001b[43m    \u001b[49m\u001b[43mvalid_sets\u001b[49m\u001b[38;5;241;43m=\u001b[39;49m\u001b[43mvalid_sets\u001b[49m\u001b[43m,\u001b[49m\n\u001b[1;32m    753\u001b[0m \u001b[43m    \u001b[49m\u001b[43mvalid_names\u001b[49m\u001b[38;5;241;43m=\u001b[39;49m\u001b[43meval_names\u001b[49m\u001b[43m,\u001b[49m\n\u001b[1;32m    754\u001b[0m \u001b[43m    \u001b[49m\u001b[43mfobj\u001b[49m\u001b[38;5;241;43m=\u001b[39;49m\u001b[38;5;28;43mself\u001b[39;49m\u001b[38;5;241;43m.\u001b[39;49m\u001b[43m_fobj\u001b[49m\u001b[43m,\u001b[49m\n\u001b[1;32m    755\u001b[0m \u001b[43m    \u001b[49m\u001b[43mfeval\u001b[49m\u001b[38;5;241;43m=\u001b[39;49m\u001b[43meval_metrics_callable\u001b[49m\u001b[43m,\u001b[49m\n\u001b[1;32m    756\u001b[0m \u001b[43m    \u001b[49m\u001b[43minit_model\u001b[49m\u001b[38;5;241;43m=\u001b[39;49m\u001b[43minit_model\u001b[49m\u001b[43m,\u001b[49m\n\u001b[1;32m    757\u001b[0m \u001b[43m    \u001b[49m\u001b[43mfeature_name\u001b[49m\u001b[38;5;241;43m=\u001b[39;49m\u001b[43mfeature_name\u001b[49m\u001b[43m,\u001b[49m\n\u001b[1;32m    758\u001b[0m \u001b[43m    \u001b[49m\u001b[43mcallbacks\u001b[49m\u001b[38;5;241;43m=\u001b[39;49m\u001b[43mcallbacks\u001b[49m\n\u001b[1;32m    759\u001b[0m \u001b[43m\u001b[49m\u001b[43m)\u001b[49m\n\u001b[1;32m    761\u001b[0m \u001b[38;5;28;01mif\u001b[39;00m evals_result:\n\u001b[1;32m    762\u001b[0m     \u001b[38;5;28mself\u001b[39m\u001b[38;5;241m.\u001b[39m_evals_result \u001b[38;5;241m=\u001b[39m evals_result\n",
      "File \u001b[0;32m~/anaconda3/envs/code_sim/lib/python3.9/site-packages/lightgbm/engine.py:292\u001b[0m, in \u001b[0;36mtrain\u001b[0;34m(params, train_set, num_boost_round, valid_sets, valid_names, fobj, feval, init_model, feature_name, categorical_feature, early_stopping_rounds, evals_result, verbose_eval, learning_rates, keep_training_booster, callbacks)\u001b[0m\n\u001b[1;32m    284\u001b[0m \u001b[38;5;28;01mfor\u001b[39;00m cb \u001b[38;5;129;01min\u001b[39;00m callbacks_before_iter:\n\u001b[1;32m    285\u001b[0m     cb(callback\u001b[38;5;241m.\u001b[39mCallbackEnv(model\u001b[38;5;241m=\u001b[39mbooster,\n\u001b[1;32m    286\u001b[0m                             params\u001b[38;5;241m=\u001b[39mparams,\n\u001b[1;32m    287\u001b[0m                             iteration\u001b[38;5;241m=\u001b[39mi,\n\u001b[1;32m    288\u001b[0m                             begin_iteration\u001b[38;5;241m=\u001b[39minit_iteration,\n\u001b[1;32m    289\u001b[0m                             end_iteration\u001b[38;5;241m=\u001b[39minit_iteration \u001b[38;5;241m+\u001b[39m num_boost_round,\n\u001b[1;32m    290\u001b[0m                             evaluation_result_list\u001b[38;5;241m=\u001b[39m\u001b[38;5;28;01mNone\u001b[39;00m))\n\u001b[0;32m--> 292\u001b[0m \u001b[43mbooster\u001b[49m\u001b[38;5;241;43m.\u001b[39;49m\u001b[43mupdate\u001b[49m\u001b[43m(\u001b[49m\u001b[43mfobj\u001b[49m\u001b[38;5;241;43m=\u001b[39;49m\u001b[43mfobj\u001b[49m\u001b[43m)\u001b[49m\n\u001b[1;32m    294\u001b[0m evaluation_result_list \u001b[38;5;241m=\u001b[39m []\n\u001b[1;32m    295\u001b[0m \u001b[38;5;66;03m# check evaluation result.\u001b[39;00m\n",
      "File \u001b[0;32m~/anaconda3/envs/code_sim/lib/python3.9/site-packages/lightgbm/basic.py:3021\u001b[0m, in \u001b[0;36mBooster.update\u001b[0;34m(self, train_set, fobj)\u001b[0m\n\u001b[1;32m   3019\u001b[0m \u001b[38;5;28;01mif\u001b[39;00m \u001b[38;5;28mself\u001b[39m\u001b[38;5;241m.\u001b[39m__set_objective_to_none:\n\u001b[1;32m   3020\u001b[0m     \u001b[38;5;28;01mraise\u001b[39;00m LightGBMError(\u001b[38;5;124m'\u001b[39m\u001b[38;5;124mCannot update due to null objective function.\u001b[39m\u001b[38;5;124m'\u001b[39m)\n\u001b[0;32m-> 3021\u001b[0m _safe_call(\u001b[43m_LIB\u001b[49m\u001b[38;5;241;43m.\u001b[39;49m\u001b[43mLGBM_BoosterUpdateOneIter\u001b[49m\u001b[43m(\u001b[49m\n\u001b[1;32m   3022\u001b[0m \u001b[43m    \u001b[49m\u001b[38;5;28;43mself\u001b[39;49m\u001b[38;5;241;43m.\u001b[39;49m\u001b[43mhandle\u001b[49m\u001b[43m,\u001b[49m\n\u001b[1;32m   3023\u001b[0m \u001b[43m    \u001b[49m\u001b[43mctypes\u001b[49m\u001b[38;5;241;43m.\u001b[39;49m\u001b[43mbyref\u001b[49m\u001b[43m(\u001b[49m\u001b[43mis_finished\u001b[49m\u001b[43m)\u001b[49m\u001b[43m)\u001b[49m)\n\u001b[1;32m   3024\u001b[0m \u001b[38;5;28mself\u001b[39m\u001b[38;5;241m.\u001b[39m__is_predicted_cur_iter \u001b[38;5;241m=\u001b[39m [\u001b[38;5;28;01mFalse\u001b[39;00m \u001b[38;5;28;01mfor\u001b[39;00m _ \u001b[38;5;129;01min\u001b[39;00m \u001b[38;5;28mrange\u001b[39m(\u001b[38;5;28mself\u001b[39m\u001b[38;5;241m.\u001b[39m__num_dataset)]\n\u001b[1;32m   3025\u001b[0m \u001b[38;5;28;01mreturn\u001b[39;00m is_finished\u001b[38;5;241m.\u001b[39mvalue \u001b[38;5;241m==\u001b[39m \u001b[38;5;241m1\u001b[39m\n",
      "\u001b[0;31mKeyboardInterrupt\u001b[0m: "
     ]
    }
   ],
   "source": [
    "''' Train / Vaild Split'''\n",
    "X_train = train_new2.drop(columns = [\"Click\"]) \n",
    "y_train = train_new2[\"Click\"]\n",
    "X_train, X_valid, y_train, y_valid = train_test_split(X_train, y_train, test_size=0.2, stratify=y_train, random_state=42)\n",
    "\n",
    "param = {'max_depth': 30,\n",
    "'num_leaves': 306,\n",
    "'subsample': 0.9757365622458185,\n",
    "'subsample_freq': 8,\n",
    "'min_child_samples': 136,\n",
    "\"n_estimators\": 1000\n",
    "}\n",
    "\n",
    "model = lgb.LGBMClassifier(random_state=42, **param)\n",
    "model.fit(X_train, y_train, eval_metric='AUC')\n",
    "pred = model.predict_proba(X_valid)\n",
    "score = roc_auc_score(y_valid, pred[:, 1])\n",
    "print(f'{col} category under 5 score: {score}')"
   ]
  },
  {
   "cell_type": "code",
   "execution_count": 8,
   "metadata": {},
   "outputs": [
    {
     "data": {
      "text/html": [
       "<div>\n",
       "<style scoped>\n",
       "    .dataframe tbody tr th:only-of-type {\n",
       "        vertical-align: middle;\n",
       "    }\n",
       "\n",
       "    .dataframe tbody tr th {\n",
       "        vertical-align: top;\n",
       "    }\n",
       "\n",
       "    .dataframe thead th {\n",
       "        text-align: right;\n",
       "    }\n",
       "</style>\n",
       "<table border=\"1\" class=\"dataframe\">\n",
       "  <thead>\n",
       "    <tr style=\"text-align: right;\">\n",
       "      <th></th>\n",
       "      <th>F01</th>\n",
       "      <th>F02</th>\n",
       "      <th>F03</th>\n",
       "      <th>F04</th>\n",
       "      <th>F05</th>\n",
       "      <th>F06</th>\n",
       "      <th>F07</th>\n",
       "      <th>F08</th>\n",
       "      <th>F09</th>\n",
       "      <th>F10</th>\n",
       "      <th>F11</th>\n",
       "      <th>F12</th>\n",
       "      <th>F13</th>\n",
       "      <th>F14</th>\n",
       "      <th>F15</th>\n",
       "      <th>F16</th>\n",
       "      <th>F17</th>\n",
       "      <th>F18</th>\n",
       "      <th>F19</th>\n",
       "      <th>F20</th>\n",
       "      <th>F21</th>\n",
       "      <th>F22</th>\n",
       "      <th>F23</th>\n",
       "      <th>F24</th>\n",
       "      <th>F25</th>\n",
       "      <th>F26</th>\n",
       "      <th>F27</th>\n",
       "      <th>F28</th>\n",
       "      <th>F29</th>\n",
       "      <th>F30</th>\n",
       "      <th>F31</th>\n",
       "      <th>F32</th>\n",
       "      <th>F33</th>\n",
       "      <th>F34</th>\n",
       "      <th>F35</th>\n",
       "      <th>F36</th>\n",
       "      <th>F37</th>\n",
       "      <th>F38</th>\n",
       "      <th>F39</th>\n",
       "      <th>F2729_add</th>\n",
       "      <th>F03_new</th>\n",
       "      <th>F05_new</th>\n",
       "      <th>F07_new</th>\n",
       "      <th>F08_new</th>\n",
       "      <th>F09_new</th>\n",
       "      <th>F10_new</th>\n",
       "      <th>F12_new</th>\n",
       "      <th>F13_new</th>\n",
       "      <th>F15_new</th>\n",
       "      <th>F16_new</th>\n",
       "      <th>F17_new</th>\n",
       "      <th>F20_new</th>\n",
       "      <th>F21_new</th>\n",
       "      <th>F22_new</th>\n",
       "      <th>F23_new</th>\n",
       "      <th>F25_new</th>\n",
       "      <th>F26_new</th>\n",
       "      <th>F28_new</th>\n",
       "      <th>F30_new</th>\n",
       "      <th>F31_new</th>\n",
       "      <th>F34_new</th>\n",
       "      <th>F35_new</th>\n",
       "      <th>F37_new</th>\n",
       "      <th>F39_new</th>\n",
       "    </tr>\n",
       "  </thead>\n",
       "  <tbody>\n",
       "    <tr>\n",
       "      <th>13803063</th>\n",
       "      <td>HFKFYBT</td>\n",
       "      <td>WGRPKJJ</td>\n",
       "      <td>NaN</td>\n",
       "      <td>4.0</td>\n",
       "      <td>HHIVWCS</td>\n",
       "      <td>6</td>\n",
       "      <td>PQZBVMG</td>\n",
       "      <td>SODVHOK</td>\n",
       "      <td>WYGJSUC</td>\n",
       "      <td>TNCSGXT</td>\n",
       "      <td>5.0</td>\n",
       "      <td>BZIJZDQ</td>\n",
       "      <td>VEPNXII</td>\n",
       "      <td>4</td>\n",
       "      <td>NaN</td>\n",
       "      <td>MWJKXQV</td>\n",
       "      <td>QABXFTY</td>\n",
       "      <td>4.0</td>\n",
       "      <td>0.0</td>\n",
       "      <td>NaN</td>\n",
       "      <td>BUUUKVW</td>\n",
       "      <td>NJMESZA</td>\n",
       "      <td>IDHAIQQ</td>\n",
       "      <td>0.0</td>\n",
       "      <td>PRPYEAO</td>\n",
       "      <td>NaN</td>\n",
       "      <td>0.0</td>\n",
       "      <td>RSJLBWR</td>\n",
       "      <td>0.0</td>\n",
       "      <td>FGOVFJM</td>\n",
       "      <td>WHSRKIM</td>\n",
       "      <td>4000.0</td>\n",
       "      <td>0.0</td>\n",
       "      <td>CMKASDZ</td>\n",
       "      <td>IRUDRFB</td>\n",
       "      <td>4.0</td>\n",
       "      <td>ABDGSWK</td>\n",
       "      <td>0.0</td>\n",
       "      <td>NXGSDNU</td>\n",
       "      <td>0.0</td>\n",
       "      <td>NaN</td>\n",
       "      <td>HHIVWCS</td>\n",
       "      <td>PQZBVMG</td>\n",
       "      <td>SODVHOK</td>\n",
       "      <td>WYGJSUC</td>\n",
       "      <td>TNCSGXT</td>\n",
       "      <td>BZIJZDQ</td>\n",
       "      <td>VEPNXII</td>\n",
       "      <td>NaN</td>\n",
       "      <td>MWJKXQV</td>\n",
       "      <td>QABXFTY</td>\n",
       "      <td>NaN</td>\n",
       "      <td>BUUUKVW</td>\n",
       "      <td>NJMESZA</td>\n",
       "      <td>IDHAIQQ</td>\n",
       "      <td>PRPYEAO</td>\n",
       "      <td>NaN</td>\n",
       "      <td>RSJLBWR</td>\n",
       "      <td>FGOVFJM</td>\n",
       "      <td>WHSRKIM</td>\n",
       "      <td>CMKASDZ</td>\n",
       "      <td>IRUDRFB</td>\n",
       "      <td>ABDGSWK</td>\n",
       "      <td>NXGSDNU</td>\n",
       "    </tr>\n",
       "    <tr>\n",
       "      <th>3478273</th>\n",
       "      <td>PNTDISF</td>\n",
       "      <td>DJDKEYH</td>\n",
       "      <td>NaN</td>\n",
       "      <td>1.0</td>\n",
       "      <td>MLMWAUM</td>\n",
       "      <td>3</td>\n",
       "      <td>GTCBZMF</td>\n",
       "      <td>VAWXMCR</td>\n",
       "      <td>QVWMWUT</td>\n",
       "      <td>ZKSZGMV</td>\n",
       "      <td>62.0</td>\n",
       "      <td>NHBSGOB</td>\n",
       "      <td>OYLJLYE</td>\n",
       "      <td>1</td>\n",
       "      <td>NaN</td>\n",
       "      <td>ZQEGITQ</td>\n",
       "      <td>QANMWXR</td>\n",
       "      <td>1.0</td>\n",
       "      <td>0.0</td>\n",
       "      <td>NaN</td>\n",
       "      <td>YBGYGNW</td>\n",
       "      <td>NXBZHKD</td>\n",
       "      <td>MZNWJWI</td>\n",
       "      <td>6.0</td>\n",
       "      <td>XARTBUB</td>\n",
       "      <td>NaN</td>\n",
       "      <td>2.0</td>\n",
       "      <td>YYEFTXW</td>\n",
       "      <td>1.0</td>\n",
       "      <td>NZGEZLW</td>\n",
       "      <td>GTISJWW</td>\n",
       "      <td>8428.0</td>\n",
       "      <td>0.0</td>\n",
       "      <td>BIMGSNJ</td>\n",
       "      <td>IRUDRFB</td>\n",
       "      <td>1.0</td>\n",
       "      <td>CEKWPPW</td>\n",
       "      <td>0.0</td>\n",
       "      <td>TKKNKPZ</td>\n",
       "      <td>3.0</td>\n",
       "      <td>NaN</td>\n",
       "      <td>MLMWAUM</td>\n",
       "      <td>GTCBZMF</td>\n",
       "      <td>VAWXMCR</td>\n",
       "      <td>QVWMWUT</td>\n",
       "      <td>ZKSZGMV</td>\n",
       "      <td>NHBSGOB</td>\n",
       "      <td>OYLJLYE</td>\n",
       "      <td>NaN</td>\n",
       "      <td>ZQEGITQ</td>\n",
       "      <td>QANMWXR</td>\n",
       "      <td>NaN</td>\n",
       "      <td>YBGYGNW</td>\n",
       "      <td>NXBZHKD</td>\n",
       "      <td>MZNWJWI</td>\n",
       "      <td>XARTBUB</td>\n",
       "      <td>NaN</td>\n",
       "      <td>YYEFTXW</td>\n",
       "      <td>NZGEZLW</td>\n",
       "      <td>GTISJWW</td>\n",
       "      <td>BIMGSNJ</td>\n",
       "      <td>IRUDRFB</td>\n",
       "      <td>CEKWPPW</td>\n",
       "      <td>TKKNKPZ</td>\n",
       "    </tr>\n",
       "    <tr>\n",
       "      <th>10164014</th>\n",
       "      <td>LLKAVMO</td>\n",
       "      <td>EKJSVRG</td>\n",
       "      <td>NaN</td>\n",
       "      <td>5.0</td>\n",
       "      <td>YKHABYT</td>\n",
       "      <td>0</td>\n",
       "      <td>MTPBIET</td>\n",
       "      <td>LPYPUNA</td>\n",
       "      <td>PSBJDMA</td>\n",
       "      <td>MTOLQPU</td>\n",
       "      <td>1.0</td>\n",
       "      <td>RDDXPRS</td>\n",
       "      <td>DBXROKY</td>\n",
       "      <td>33</td>\n",
       "      <td>NaN</td>\n",
       "      <td>DBABTTS</td>\n",
       "      <td>TEHYADQ</td>\n",
       "      <td>23.0</td>\n",
       "      <td>1.0</td>\n",
       "      <td>NaN</td>\n",
       "      <td>PZZCPEK</td>\n",
       "      <td>SNDDHSM</td>\n",
       "      <td>VTYMMMX</td>\n",
       "      <td>42.0</td>\n",
       "      <td>UWUHPCV</td>\n",
       "      <td>NaN</td>\n",
       "      <td>0.0</td>\n",
       "      <td>YYEFTXW</td>\n",
       "      <td>0.0</td>\n",
       "      <td>NZGEZLW</td>\n",
       "      <td>CNEYHMW</td>\n",
       "      <td>413.0</td>\n",
       "      <td>1.0</td>\n",
       "      <td>ABEHJLN</td>\n",
       "      <td>IRUDRFB</td>\n",
       "      <td>23.0</td>\n",
       "      <td>ZIRTYOB</td>\n",
       "      <td>0.0</td>\n",
       "      <td>ZHVURWN</td>\n",
       "      <td>0.0</td>\n",
       "      <td>NaN</td>\n",
       "      <td>YKHABYT</td>\n",
       "      <td>MTPBIET</td>\n",
       "      <td>LPYPUNA</td>\n",
       "      <td>PSBJDMA</td>\n",
       "      <td>MTOLQPU</td>\n",
       "      <td>RDDXPRS</td>\n",
       "      <td>DBXROKY</td>\n",
       "      <td>NaN</td>\n",
       "      <td>DBABTTS</td>\n",
       "      <td>TEHYADQ</td>\n",
       "      <td>NaN</td>\n",
       "      <td>PZZCPEK</td>\n",
       "      <td>SNDDHSM</td>\n",
       "      <td>VTYMMMX</td>\n",
       "      <td>UWUHPCV</td>\n",
       "      <td>NaN</td>\n",
       "      <td>YYEFTXW</td>\n",
       "      <td>NZGEZLW</td>\n",
       "      <td>CNEYHMW</td>\n",
       "      <td>ABEHJLN</td>\n",
       "      <td>IRUDRFB</td>\n",
       "      <td>ZIRTYOB</td>\n",
       "      <td>ZHVURWN</td>\n",
       "    </tr>\n",
       "    <tr>\n",
       "      <th>27771629</th>\n",
       "      <td>BQJMZDP</td>\n",
       "      <td>RGOJRWX</td>\n",
       "      <td>PCCSJYL</td>\n",
       "      <td>7.0</td>\n",
       "      <td>EIASQKQ</td>\n",
       "      <td>0</td>\n",
       "      <td>BYLWVLT</td>\n",
       "      <td>FTPHMPQ</td>\n",
       "      <td>HJHKOLU</td>\n",
       "      <td>XPSTDMS</td>\n",
       "      <td>57.0</td>\n",
       "      <td>XSAXBVD</td>\n",
       "      <td>ZYXNIFT</td>\n",
       "      <td>0</td>\n",
       "      <td>ZNLREKK</td>\n",
       "      <td>FLSTJON</td>\n",
       "      <td>ORHLUGM</td>\n",
       "      <td>0.0</td>\n",
       "      <td>1.0</td>\n",
       "      <td>FMJVSAF</td>\n",
       "      <td>BUUUKVW</td>\n",
       "      <td>SNDDHSM</td>\n",
       "      <td>SOIJWKV</td>\n",
       "      <td>0.0</td>\n",
       "      <td>VIJZRJT</td>\n",
       "      <td>YYQVFBZ</td>\n",
       "      <td>0.0</td>\n",
       "      <td>MAVCFCM</td>\n",
       "      <td>0.0</td>\n",
       "      <td>UAPELIR</td>\n",
       "      <td>GTISJWW</td>\n",
       "      <td>2.0</td>\n",
       "      <td>4.0</td>\n",
       "      <td>VMKJQCF</td>\n",
       "      <td>IRUDRFB</td>\n",
       "      <td>0.0</td>\n",
       "      <td>NNSGHCV</td>\n",
       "      <td>0.0</td>\n",
       "      <td>PBXEJNH</td>\n",
       "      <td>0.0</td>\n",
       "      <td>PCCSJYL</td>\n",
       "      <td>EIASQKQ</td>\n",
       "      <td>BYLWVLT</td>\n",
       "      <td>FTPHMPQ</td>\n",
       "      <td>HJHKOLU</td>\n",
       "      <td>XPSTDMS</td>\n",
       "      <td>XSAXBVD</td>\n",
       "      <td>ZYXNIFT</td>\n",
       "      <td>ZNLREKK</td>\n",
       "      <td>FLSTJON</td>\n",
       "      <td>ORHLUGM</td>\n",
       "      <td>FMJVSAF</td>\n",
       "      <td>BUUUKVW</td>\n",
       "      <td>SNDDHSM</td>\n",
       "      <td>SOIJWKV</td>\n",
       "      <td>VIJZRJT</td>\n",
       "      <td>YYQVFBZ</td>\n",
       "      <td>MAVCFCM</td>\n",
       "      <td>UAPELIR</td>\n",
       "      <td>GTISJWW</td>\n",
       "      <td>VMKJQCF</td>\n",
       "      <td>IRUDRFB</td>\n",
       "      <td>NNSGHCV</td>\n",
       "      <td>PBXEJNH</td>\n",
       "    </tr>\n",
       "    <tr>\n",
       "      <th>11550137</th>\n",
       "      <td>NaN</td>\n",
       "      <td>NaN</td>\n",
       "      <td>NaN</td>\n",
       "      <td>6.0</td>\n",
       "      <td>NaN</td>\n",
       "      <td>1</td>\n",
       "      <td>SUIATQN</td>\n",
       "      <td>MIGYEEG</td>\n",
       "      <td>WCAAYEJ</td>\n",
       "      <td>NaN</td>\n",
       "      <td>499.0</td>\n",
       "      <td>NaN</td>\n",
       "      <td>NXHSLVD</td>\n",
       "      <td>7</td>\n",
       "      <td>NaN</td>\n",
       "      <td>PKIUOUL</td>\n",
       "      <td>QANMWXR</td>\n",
       "      <td>6.0</td>\n",
       "      <td>0.0</td>\n",
       "      <td>NaN</td>\n",
       "      <td>BJAYVHN</td>\n",
       "      <td>MQBFEMR</td>\n",
       "      <td>VTYMMMX</td>\n",
       "      <td>234.0</td>\n",
       "      <td>IJINYWB</td>\n",
       "      <td>NaN</td>\n",
       "      <td>3.0</td>\n",
       "      <td>IYZTLFQ</td>\n",
       "      <td>1.0</td>\n",
       "      <td>NZGEZLW</td>\n",
       "      <td>GTISJWW</td>\n",
       "      <td>11554.0</td>\n",
       "      <td>0.0</td>\n",
       "      <td>NaN</td>\n",
       "      <td>IRUDRFB</td>\n",
       "      <td>6.0</td>\n",
       "      <td>LFJKFHO</td>\n",
       "      <td>0.0</td>\n",
       "      <td>EFVRMLF</td>\n",
       "      <td>4.0</td>\n",
       "      <td>NaN</td>\n",
       "      <td>NaN</td>\n",
       "      <td>SUIATQN</td>\n",
       "      <td>MIGYEEG</td>\n",
       "      <td>WCAAYEJ</td>\n",
       "      <td>NaN</td>\n",
       "      <td>NaN</td>\n",
       "      <td>NXHSLVD</td>\n",
       "      <td>NaN</td>\n",
       "      <td>PKIUOUL</td>\n",
       "      <td>QANMWXR</td>\n",
       "      <td>NaN</td>\n",
       "      <td>BJAYVHN</td>\n",
       "      <td>MQBFEMR</td>\n",
       "      <td>VTYMMMX</td>\n",
       "      <td>IJINYWB</td>\n",
       "      <td>NaN</td>\n",
       "      <td>IYZTLFQ</td>\n",
       "      <td>NZGEZLW</td>\n",
       "      <td>GTISJWW</td>\n",
       "      <td>NaN</td>\n",
       "      <td>IRUDRFB</td>\n",
       "      <td>LFJKFHO</td>\n",
       "      <td>EFVRMLF</td>\n",
       "    </tr>\n",
       "    <tr>\n",
       "      <th>...</th>\n",
       "      <td>...</td>\n",
       "      <td>...</td>\n",
       "      <td>...</td>\n",
       "      <td>...</td>\n",
       "      <td>...</td>\n",
       "      <td>...</td>\n",
       "      <td>...</td>\n",
       "      <td>...</td>\n",
       "      <td>...</td>\n",
       "      <td>...</td>\n",
       "      <td>...</td>\n",
       "      <td>...</td>\n",
       "      <td>...</td>\n",
       "      <td>...</td>\n",
       "      <td>...</td>\n",
       "      <td>...</td>\n",
       "      <td>...</td>\n",
       "      <td>...</td>\n",
       "      <td>...</td>\n",
       "      <td>...</td>\n",
       "      <td>...</td>\n",
       "      <td>...</td>\n",
       "      <td>...</td>\n",
       "      <td>...</td>\n",
       "      <td>...</td>\n",
       "      <td>...</td>\n",
       "      <td>...</td>\n",
       "      <td>...</td>\n",
       "      <td>...</td>\n",
       "      <td>...</td>\n",
       "      <td>...</td>\n",
       "      <td>...</td>\n",
       "      <td>...</td>\n",
       "      <td>...</td>\n",
       "      <td>...</td>\n",
       "      <td>...</td>\n",
       "      <td>...</td>\n",
       "      <td>...</td>\n",
       "      <td>...</td>\n",
       "      <td>...</td>\n",
       "      <td>...</td>\n",
       "      <td>...</td>\n",
       "      <td>...</td>\n",
       "      <td>...</td>\n",
       "      <td>...</td>\n",
       "      <td>...</td>\n",
       "      <td>...</td>\n",
       "      <td>...</td>\n",
       "      <td>...</td>\n",
       "      <td>...</td>\n",
       "      <td>...</td>\n",
       "      <td>...</td>\n",
       "      <td>...</td>\n",
       "      <td>...</td>\n",
       "      <td>...</td>\n",
       "      <td>...</td>\n",
       "      <td>...</td>\n",
       "      <td>...</td>\n",
       "      <td>...</td>\n",
       "      <td>...</td>\n",
       "      <td>...</td>\n",
       "      <td>...</td>\n",
       "      <td>...</td>\n",
       "      <td>...</td>\n",
       "    </tr>\n",
       "    <tr>\n",
       "      <th>2295020</th>\n",
       "      <td>TVWQYKH</td>\n",
       "      <td>ZAYPPJH</td>\n",
       "      <td>IAGJDOH</td>\n",
       "      <td>3.0</td>\n",
       "      <td>FCGUWGL</td>\n",
       "      <td>9</td>\n",
       "      <td>PQZBVMG</td>\n",
       "      <td>FTPHMPQ</td>\n",
       "      <td>CCYWRAP</td>\n",
       "      <td>ZFLNWRA</td>\n",
       "      <td>867.0</td>\n",
       "      <td>NZAANFB</td>\n",
       "      <td>OQNZJHK</td>\n",
       "      <td>17</td>\n",
       "      <td>ZNLREKK</td>\n",
       "      <td>LMUYGSE</td>\n",
       "      <td>QANMWXR</td>\n",
       "      <td>6.0</td>\n",
       "      <td>0.0</td>\n",
       "      <td>WTQNFUQ</td>\n",
       "      <td>YBGYGNW</td>\n",
       "      <td>SNDDHSM</td>\n",
       "      <td>IDHAIQQ</td>\n",
       "      <td>115.0</td>\n",
       "      <td>VZERVFK</td>\n",
       "      <td>WVRHGBC</td>\n",
       "      <td>22.0</td>\n",
       "      <td>YBZKRWS</td>\n",
       "      <td>8.0</td>\n",
       "      <td>NZGEZLW</td>\n",
       "      <td>GTISJWW</td>\n",
       "      <td>14698.0</td>\n",
       "      <td>0.0</td>\n",
       "      <td>WBRNLYI</td>\n",
       "      <td>IRUDRFB</td>\n",
       "      <td>17.0</td>\n",
       "      <td>RTZZYBQ</td>\n",
       "      <td>0.0</td>\n",
       "      <td>OJJPIAS</td>\n",
       "      <td>30.0</td>\n",
       "      <td>IAGJDOH</td>\n",
       "      <td>FCGUWGL</td>\n",
       "      <td>PQZBVMG</td>\n",
       "      <td>FTPHMPQ</td>\n",
       "      <td>CCYWRAP</td>\n",
       "      <td>ZFLNWRA</td>\n",
       "      <td>NZAANFB</td>\n",
       "      <td>OQNZJHK</td>\n",
       "      <td>ZNLREKK</td>\n",
       "      <td>LMUYGSE</td>\n",
       "      <td>QANMWXR</td>\n",
       "      <td>WTQNFUQ</td>\n",
       "      <td>YBGYGNW</td>\n",
       "      <td>SNDDHSM</td>\n",
       "      <td>IDHAIQQ</td>\n",
       "      <td>VZERVFK</td>\n",
       "      <td>WVRHGBC</td>\n",
       "      <td>YBZKRWS</td>\n",
       "      <td>NZGEZLW</td>\n",
       "      <td>GTISJWW</td>\n",
       "      <td>WBRNLYI</td>\n",
       "      <td>IRUDRFB</td>\n",
       "      <td>RTZZYBQ</td>\n",
       "      <td>OJJPIAS</td>\n",
       "    </tr>\n",
       "    <tr>\n",
       "      <th>996962</th>\n",
       "      <td>LLKAVMO</td>\n",
       "      <td>EKJSVRG</td>\n",
       "      <td>NaN</td>\n",
       "      <td>0.0</td>\n",
       "      <td>YKHABYT</td>\n",
       "      <td>12</td>\n",
       "      <td>KKMYOTL</td>\n",
       "      <td>LPYPUNA</td>\n",
       "      <td>AFRHAWT</td>\n",
       "      <td>MTOLQPU</td>\n",
       "      <td>261.0</td>\n",
       "      <td>RDDXPRS</td>\n",
       "      <td>DBXROKY</td>\n",
       "      <td>2</td>\n",
       "      <td>NaN</td>\n",
       "      <td>BTMTAHB</td>\n",
       "      <td>ORHLUGM</td>\n",
       "      <td>2.0</td>\n",
       "      <td>1.0</td>\n",
       "      <td>NaN</td>\n",
       "      <td>PZZCPEK</td>\n",
       "      <td>RGDWSBL</td>\n",
       "      <td>IDHAIQQ</td>\n",
       "      <td>2.0</td>\n",
       "      <td>VURYQFB</td>\n",
       "      <td>NaN</td>\n",
       "      <td>0.0</td>\n",
       "      <td>STJSBJK</td>\n",
       "      <td>0.0</td>\n",
       "      <td>VNUTGDW</td>\n",
       "      <td>CNEYHMW</td>\n",
       "      <td>17.0</td>\n",
       "      <td>2.0</td>\n",
       "      <td>ABEHJLN</td>\n",
       "      <td>IRUDRFB</td>\n",
       "      <td>2.0</td>\n",
       "      <td>ZIRTYOB</td>\n",
       "      <td>0.0</td>\n",
       "      <td>RZJQFRG</td>\n",
       "      <td>0.0</td>\n",
       "      <td>NaN</td>\n",
       "      <td>YKHABYT</td>\n",
       "      <td>KKMYOTL</td>\n",
       "      <td>LPYPUNA</td>\n",
       "      <td>AFRHAWT</td>\n",
       "      <td>MTOLQPU</td>\n",
       "      <td>RDDXPRS</td>\n",
       "      <td>DBXROKY</td>\n",
       "      <td>NaN</td>\n",
       "      <td>BTMTAHB</td>\n",
       "      <td>ORHLUGM</td>\n",
       "      <td>NaN</td>\n",
       "      <td>PZZCPEK</td>\n",
       "      <td>RGDWSBL</td>\n",
       "      <td>IDHAIQQ</td>\n",
       "      <td>VURYQFB</td>\n",
       "      <td>NaN</td>\n",
       "      <td>STJSBJK</td>\n",
       "      <td>VNUTGDW</td>\n",
       "      <td>CNEYHMW</td>\n",
       "      <td>ABEHJLN</td>\n",
       "      <td>IRUDRFB</td>\n",
       "      <td>ZIRTYOB</td>\n",
       "      <td>RZJQFRG</td>\n",
       "    </tr>\n",
       "    <tr>\n",
       "      <th>13650257</th>\n",
       "      <td>VHLLSXG</td>\n",
       "      <td>DJDKEYH</td>\n",
       "      <td>NaN</td>\n",
       "      <td>0.0</td>\n",
       "      <td>BJMUDNF</td>\n",
       "      <td>2</td>\n",
       "      <td>PQZBVMG</td>\n",
       "      <td>FTPHMPQ</td>\n",
       "      <td>XDPOJYJ</td>\n",
       "      <td>ZKSZGMV</td>\n",
       "      <td>0.0</td>\n",
       "      <td>UXONYAK</td>\n",
       "      <td>HFEPSLZ</td>\n",
       "      <td>5</td>\n",
       "      <td>NaN</td>\n",
       "      <td>NJWWIGX</td>\n",
       "      <td>QABXFTY</td>\n",
       "      <td>5.0</td>\n",
       "      <td>0.0</td>\n",
       "      <td>NaN</td>\n",
       "      <td>BUUUKVW</td>\n",
       "      <td>XLJQWYS</td>\n",
       "      <td>IDHAIQQ</td>\n",
       "      <td>0.0</td>\n",
       "      <td>RMWXTFL</td>\n",
       "      <td>NaN</td>\n",
       "      <td>0.0</td>\n",
       "      <td>YYEFTXW</td>\n",
       "      <td>0.0</td>\n",
       "      <td>WVTRIIE</td>\n",
       "      <td>GTISJWW</td>\n",
       "      <td>41.0</td>\n",
       "      <td>0.0</td>\n",
       "      <td>VXXUNFA</td>\n",
       "      <td>IRUDRFB</td>\n",
       "      <td>5.0</td>\n",
       "      <td>KYQTBXN</td>\n",
       "      <td>0.0</td>\n",
       "      <td>VSCAKME</td>\n",
       "      <td>0.0</td>\n",
       "      <td>NaN</td>\n",
       "      <td>BJMUDNF</td>\n",
       "      <td>PQZBVMG</td>\n",
       "      <td>FTPHMPQ</td>\n",
       "      <td>XDPOJYJ</td>\n",
       "      <td>ZKSZGMV</td>\n",
       "      <td>UXONYAK</td>\n",
       "      <td>HFEPSLZ</td>\n",
       "      <td>NaN</td>\n",
       "      <td>NJWWIGX</td>\n",
       "      <td>QABXFTY</td>\n",
       "      <td>NaN</td>\n",
       "      <td>BUUUKVW</td>\n",
       "      <td>XLJQWYS</td>\n",
       "      <td>IDHAIQQ</td>\n",
       "      <td>RMWXTFL</td>\n",
       "      <td>NaN</td>\n",
       "      <td>YYEFTXW</td>\n",
       "      <td>WVTRIIE</td>\n",
       "      <td>GTISJWW</td>\n",
       "      <td>VXXUNFA</td>\n",
       "      <td>IRUDRFB</td>\n",
       "      <td>KYQTBXN</td>\n",
       "      <td>VSCAKME</td>\n",
       "    </tr>\n",
       "    <tr>\n",
       "      <th>9074937</th>\n",
       "      <td>JCDXFYU</td>\n",
       "      <td>PILDDJU</td>\n",
       "      <td>IAGJDOH</td>\n",
       "      <td>1.0</td>\n",
       "      <td>LFPUEOV</td>\n",
       "      <td>0</td>\n",
       "      <td>BCNRWPA</td>\n",
       "      <td>FTPHMPQ</td>\n",
       "      <td>CEEUKXR</td>\n",
       "      <td>YLKUVQA</td>\n",
       "      <td>623.0</td>\n",
       "      <td>MGRUYII</td>\n",
       "      <td>GTQXVZY</td>\n",
       "      <td>3</td>\n",
       "      <td>ZNLREKK</td>\n",
       "      <td>QOCOQZK</td>\n",
       "      <td>ORHLUGM</td>\n",
       "      <td>1.0</td>\n",
       "      <td>0.0</td>\n",
       "      <td>TGVLSYT</td>\n",
       "      <td>LUBUFOT</td>\n",
       "      <td>SNDDHSM</td>\n",
       "      <td>WADCLQA</td>\n",
       "      <td>0.0</td>\n",
       "      <td>JEISAYE</td>\n",
       "      <td>WVRHGBC</td>\n",
       "      <td>22.0</td>\n",
       "      <td>YYEFTXW</td>\n",
       "      <td>3.0</td>\n",
       "      <td>GSKQQNY</td>\n",
       "      <td>KHZNEZF</td>\n",
       "      <td>2867.0</td>\n",
       "      <td>0.0</td>\n",
       "      <td>QMOULXS</td>\n",
       "      <td>IRUDRFB</td>\n",
       "      <td>1.0</td>\n",
       "      <td>LJWUPTR</td>\n",
       "      <td>0.0</td>\n",
       "      <td>YINTNCW</td>\n",
       "      <td>25.0</td>\n",
       "      <td>IAGJDOH</td>\n",
       "      <td>LFPUEOV</td>\n",
       "      <td>BCNRWPA</td>\n",
       "      <td>FTPHMPQ</td>\n",
       "      <td>CEEUKXR</td>\n",
       "      <td>YLKUVQA</td>\n",
       "      <td>MGRUYII</td>\n",
       "      <td>GTQXVZY</td>\n",
       "      <td>ZNLREKK</td>\n",
       "      <td>QOCOQZK</td>\n",
       "      <td>ORHLUGM</td>\n",
       "      <td>TGVLSYT</td>\n",
       "      <td>LUBUFOT</td>\n",
       "      <td>SNDDHSM</td>\n",
       "      <td>WADCLQA</td>\n",
       "      <td>JEISAYE</td>\n",
       "      <td>WVRHGBC</td>\n",
       "      <td>YYEFTXW</td>\n",
       "      <td>GSKQQNY</td>\n",
       "      <td>KHZNEZF</td>\n",
       "      <td>QMOULXS</td>\n",
       "      <td>IRUDRFB</td>\n",
       "      <td>LJWUPTR</td>\n",
       "      <td>YINTNCW</td>\n",
       "    </tr>\n",
       "    <tr>\n",
       "      <th>6118378</th>\n",
       "      <td>JCDXFYU</td>\n",
       "      <td>PILDDJU</td>\n",
       "      <td>IAGJDOH</td>\n",
       "      <td>54.0</td>\n",
       "      <td>LFPUEOV</td>\n",
       "      <td>1</td>\n",
       "      <td>HXINZCO</td>\n",
       "      <td>VAWXMCR</td>\n",
       "      <td>BEZTQIO</td>\n",
       "      <td>YLKUVQA</td>\n",
       "      <td>632.0</td>\n",
       "      <td>MGRUYII</td>\n",
       "      <td>KGJACUM</td>\n",
       "      <td>10</td>\n",
       "      <td>ZNLREKK</td>\n",
       "      <td>ABSGHDE</td>\n",
       "      <td>ORHLUGM</td>\n",
       "      <td>11.0</td>\n",
       "      <td>0.0</td>\n",
       "      <td>TGVLSYT</td>\n",
       "      <td>FUZMWEL</td>\n",
       "      <td>GMEQSYW</td>\n",
       "      <td>VTYMMMX</td>\n",
       "      <td>0.0</td>\n",
       "      <td>TBJLIAF</td>\n",
       "      <td>WVRHGBC</td>\n",
       "      <td>29.0</td>\n",
       "      <td>YYEFTXW</td>\n",
       "      <td>10.0</td>\n",
       "      <td>SHTAFXE</td>\n",
       "      <td>KHZNEZF</td>\n",
       "      <td>2.0</td>\n",
       "      <td>0.0</td>\n",
       "      <td>QMOULXS</td>\n",
       "      <td>IRUDRFB</td>\n",
       "      <td>11.0</td>\n",
       "      <td>ZVSTLNM</td>\n",
       "      <td>0.0</td>\n",
       "      <td>AOCQXCK</td>\n",
       "      <td>39.0</td>\n",
       "      <td>IAGJDOH</td>\n",
       "      <td>LFPUEOV</td>\n",
       "      <td>HXINZCO</td>\n",
       "      <td>VAWXMCR</td>\n",
       "      <td>BEZTQIO</td>\n",
       "      <td>YLKUVQA</td>\n",
       "      <td>MGRUYII</td>\n",
       "      <td>KGJACUM</td>\n",
       "      <td>ZNLREKK</td>\n",
       "      <td>ABSGHDE</td>\n",
       "      <td>ORHLUGM</td>\n",
       "      <td>TGVLSYT</td>\n",
       "      <td>FUZMWEL</td>\n",
       "      <td>GMEQSYW</td>\n",
       "      <td>VTYMMMX</td>\n",
       "      <td>TBJLIAF</td>\n",
       "      <td>WVRHGBC</td>\n",
       "      <td>YYEFTXW</td>\n",
       "      <td>SHTAFXE</td>\n",
       "      <td>KHZNEZF</td>\n",
       "      <td>QMOULXS</td>\n",
       "      <td>IRUDRFB</td>\n",
       "      <td>ZVSTLNM</td>\n",
       "      <td>AOCQXCK</td>\n",
       "    </tr>\n",
       "  </tbody>\n",
       "</table>\n",
       "<p>22884312 rows × 64 columns</p>\n",
       "</div>"
      ],
      "text/plain": [
       "              F01      F02      F03   F04      F05  F06      F07      F08  \\\n",
       "13803063  HFKFYBT  WGRPKJJ      NaN   4.0  HHIVWCS    6  PQZBVMG  SODVHOK   \n",
       "3478273   PNTDISF  DJDKEYH      NaN   1.0  MLMWAUM    3  GTCBZMF  VAWXMCR   \n",
       "10164014  LLKAVMO  EKJSVRG      NaN   5.0  YKHABYT    0  MTPBIET  LPYPUNA   \n",
       "27771629  BQJMZDP  RGOJRWX  PCCSJYL   7.0  EIASQKQ    0  BYLWVLT  FTPHMPQ   \n",
       "11550137      NaN      NaN      NaN   6.0      NaN    1  SUIATQN  MIGYEEG   \n",
       "...           ...      ...      ...   ...      ...  ...      ...      ...   \n",
       "2295020   TVWQYKH  ZAYPPJH  IAGJDOH   3.0  FCGUWGL    9  PQZBVMG  FTPHMPQ   \n",
       "996962    LLKAVMO  EKJSVRG      NaN   0.0  YKHABYT   12  KKMYOTL  LPYPUNA   \n",
       "13650257  VHLLSXG  DJDKEYH      NaN   0.0  BJMUDNF    2  PQZBVMG  FTPHMPQ   \n",
       "9074937   JCDXFYU  PILDDJU  IAGJDOH   1.0  LFPUEOV    0  BCNRWPA  FTPHMPQ   \n",
       "6118378   JCDXFYU  PILDDJU  IAGJDOH  54.0  LFPUEOV    1  HXINZCO  VAWXMCR   \n",
       "\n",
       "              F09      F10    F11      F12      F13  F14      F15      F16  \\\n",
       "13803063  WYGJSUC  TNCSGXT    5.0  BZIJZDQ  VEPNXII    4      NaN  MWJKXQV   \n",
       "3478273   QVWMWUT  ZKSZGMV   62.0  NHBSGOB  OYLJLYE    1      NaN  ZQEGITQ   \n",
       "10164014  PSBJDMA  MTOLQPU    1.0  RDDXPRS  DBXROKY   33      NaN  DBABTTS   \n",
       "27771629  HJHKOLU  XPSTDMS   57.0  XSAXBVD  ZYXNIFT    0  ZNLREKK  FLSTJON   \n",
       "11550137  WCAAYEJ      NaN  499.0      NaN  NXHSLVD    7      NaN  PKIUOUL   \n",
       "...           ...      ...    ...      ...      ...  ...      ...      ...   \n",
       "2295020   CCYWRAP  ZFLNWRA  867.0  NZAANFB  OQNZJHK   17  ZNLREKK  LMUYGSE   \n",
       "996962    AFRHAWT  MTOLQPU  261.0  RDDXPRS  DBXROKY    2      NaN  BTMTAHB   \n",
       "13650257  XDPOJYJ  ZKSZGMV    0.0  UXONYAK  HFEPSLZ    5      NaN  NJWWIGX   \n",
       "9074937   CEEUKXR  YLKUVQA  623.0  MGRUYII  GTQXVZY    3  ZNLREKK  QOCOQZK   \n",
       "6118378   BEZTQIO  YLKUVQA  632.0  MGRUYII  KGJACUM   10  ZNLREKK  ABSGHDE   \n",
       "\n",
       "              F17   F18  F19      F20      F21      F22      F23    F24  \\\n",
       "13803063  QABXFTY   4.0  0.0      NaN  BUUUKVW  NJMESZA  IDHAIQQ    0.0   \n",
       "3478273   QANMWXR   1.0  0.0      NaN  YBGYGNW  NXBZHKD  MZNWJWI    6.0   \n",
       "10164014  TEHYADQ  23.0  1.0      NaN  PZZCPEK  SNDDHSM  VTYMMMX   42.0   \n",
       "27771629  ORHLUGM   0.0  1.0  FMJVSAF  BUUUKVW  SNDDHSM  SOIJWKV    0.0   \n",
       "11550137  QANMWXR   6.0  0.0      NaN  BJAYVHN  MQBFEMR  VTYMMMX  234.0   \n",
       "...           ...   ...  ...      ...      ...      ...      ...    ...   \n",
       "2295020   QANMWXR   6.0  0.0  WTQNFUQ  YBGYGNW  SNDDHSM  IDHAIQQ  115.0   \n",
       "996962    ORHLUGM   2.0  1.0      NaN  PZZCPEK  RGDWSBL  IDHAIQQ    2.0   \n",
       "13650257  QABXFTY   5.0  0.0      NaN  BUUUKVW  XLJQWYS  IDHAIQQ    0.0   \n",
       "9074937   ORHLUGM   1.0  0.0  TGVLSYT  LUBUFOT  SNDDHSM  WADCLQA    0.0   \n",
       "6118378   ORHLUGM  11.0  0.0  TGVLSYT  FUZMWEL  GMEQSYW  VTYMMMX    0.0   \n",
       "\n",
       "              F25      F26   F27      F28   F29      F30      F31      F32  \\\n",
       "13803063  PRPYEAO      NaN   0.0  RSJLBWR   0.0  FGOVFJM  WHSRKIM   4000.0   \n",
       "3478273   XARTBUB      NaN   2.0  YYEFTXW   1.0  NZGEZLW  GTISJWW   8428.0   \n",
       "10164014  UWUHPCV      NaN   0.0  YYEFTXW   0.0  NZGEZLW  CNEYHMW    413.0   \n",
       "27771629  VIJZRJT  YYQVFBZ   0.0  MAVCFCM   0.0  UAPELIR  GTISJWW      2.0   \n",
       "11550137  IJINYWB      NaN   3.0  IYZTLFQ   1.0  NZGEZLW  GTISJWW  11554.0   \n",
       "...           ...      ...   ...      ...   ...      ...      ...      ...   \n",
       "2295020   VZERVFK  WVRHGBC  22.0  YBZKRWS   8.0  NZGEZLW  GTISJWW  14698.0   \n",
       "996962    VURYQFB      NaN   0.0  STJSBJK   0.0  VNUTGDW  CNEYHMW     17.0   \n",
       "13650257  RMWXTFL      NaN   0.0  YYEFTXW   0.0  WVTRIIE  GTISJWW     41.0   \n",
       "9074937   JEISAYE  WVRHGBC  22.0  YYEFTXW   3.0  GSKQQNY  KHZNEZF   2867.0   \n",
       "6118378   TBJLIAF  WVRHGBC  29.0  YYEFTXW  10.0  SHTAFXE  KHZNEZF      2.0   \n",
       "\n",
       "          F33      F34      F35   F36      F37  F38      F39  F2729_add  \\\n",
       "13803063  0.0  CMKASDZ  IRUDRFB   4.0  ABDGSWK  0.0  NXGSDNU        0.0   \n",
       "3478273   0.0  BIMGSNJ  IRUDRFB   1.0  CEKWPPW  0.0  TKKNKPZ        3.0   \n",
       "10164014  1.0  ABEHJLN  IRUDRFB  23.0  ZIRTYOB  0.0  ZHVURWN        0.0   \n",
       "27771629  4.0  VMKJQCF  IRUDRFB   0.0  NNSGHCV  0.0  PBXEJNH        0.0   \n",
       "11550137  0.0      NaN  IRUDRFB   6.0  LFJKFHO  0.0  EFVRMLF        4.0   \n",
       "...       ...      ...      ...   ...      ...  ...      ...        ...   \n",
       "2295020   0.0  WBRNLYI  IRUDRFB  17.0  RTZZYBQ  0.0  OJJPIAS       30.0   \n",
       "996962    2.0  ABEHJLN  IRUDRFB   2.0  ZIRTYOB  0.0  RZJQFRG        0.0   \n",
       "13650257  0.0  VXXUNFA  IRUDRFB   5.0  KYQTBXN  0.0  VSCAKME        0.0   \n",
       "9074937   0.0  QMOULXS  IRUDRFB   1.0  LJWUPTR  0.0  YINTNCW       25.0   \n",
       "6118378   0.0  QMOULXS  IRUDRFB  11.0  ZVSTLNM  0.0  AOCQXCK       39.0   \n",
       "\n",
       "          F03_new  F05_new  F07_new  F08_new  F09_new  F10_new  F12_new  \\\n",
       "13803063      NaN  HHIVWCS  PQZBVMG  SODVHOK  WYGJSUC  TNCSGXT  BZIJZDQ   \n",
       "3478273       NaN  MLMWAUM  GTCBZMF  VAWXMCR  QVWMWUT  ZKSZGMV  NHBSGOB   \n",
       "10164014      NaN  YKHABYT  MTPBIET  LPYPUNA  PSBJDMA  MTOLQPU  RDDXPRS   \n",
       "27771629  PCCSJYL  EIASQKQ  BYLWVLT  FTPHMPQ  HJHKOLU  XPSTDMS  XSAXBVD   \n",
       "11550137      NaN      NaN  SUIATQN  MIGYEEG  WCAAYEJ      NaN      NaN   \n",
       "...           ...      ...      ...      ...      ...      ...      ...   \n",
       "2295020   IAGJDOH  FCGUWGL  PQZBVMG  FTPHMPQ  CCYWRAP  ZFLNWRA  NZAANFB   \n",
       "996962        NaN  YKHABYT  KKMYOTL  LPYPUNA  AFRHAWT  MTOLQPU  RDDXPRS   \n",
       "13650257      NaN  BJMUDNF  PQZBVMG  FTPHMPQ  XDPOJYJ  ZKSZGMV  UXONYAK   \n",
       "9074937   IAGJDOH  LFPUEOV  BCNRWPA  FTPHMPQ  CEEUKXR  YLKUVQA  MGRUYII   \n",
       "6118378   IAGJDOH  LFPUEOV  HXINZCO  VAWXMCR  BEZTQIO  YLKUVQA  MGRUYII   \n",
       "\n",
       "          F13_new  F15_new  F16_new  F17_new  F20_new  F21_new  F22_new  \\\n",
       "13803063  VEPNXII      NaN  MWJKXQV  QABXFTY      NaN  BUUUKVW  NJMESZA   \n",
       "3478273   OYLJLYE      NaN  ZQEGITQ  QANMWXR      NaN  YBGYGNW  NXBZHKD   \n",
       "10164014  DBXROKY      NaN  DBABTTS  TEHYADQ      NaN  PZZCPEK  SNDDHSM   \n",
       "27771629  ZYXNIFT  ZNLREKK  FLSTJON  ORHLUGM  FMJVSAF  BUUUKVW  SNDDHSM   \n",
       "11550137  NXHSLVD      NaN  PKIUOUL  QANMWXR      NaN  BJAYVHN  MQBFEMR   \n",
       "...           ...      ...      ...      ...      ...      ...      ...   \n",
       "2295020   OQNZJHK  ZNLREKK  LMUYGSE  QANMWXR  WTQNFUQ  YBGYGNW  SNDDHSM   \n",
       "996962    DBXROKY      NaN  BTMTAHB  ORHLUGM      NaN  PZZCPEK  RGDWSBL   \n",
       "13650257  HFEPSLZ      NaN  NJWWIGX  QABXFTY      NaN  BUUUKVW  XLJQWYS   \n",
       "9074937   GTQXVZY  ZNLREKK  QOCOQZK  ORHLUGM  TGVLSYT  LUBUFOT  SNDDHSM   \n",
       "6118378   KGJACUM  ZNLREKK  ABSGHDE  ORHLUGM  TGVLSYT  FUZMWEL  GMEQSYW   \n",
       "\n",
       "          F23_new  F25_new  F26_new  F28_new  F30_new  F31_new  F34_new  \\\n",
       "13803063  IDHAIQQ  PRPYEAO      NaN  RSJLBWR  FGOVFJM  WHSRKIM  CMKASDZ   \n",
       "3478273   MZNWJWI  XARTBUB      NaN  YYEFTXW  NZGEZLW  GTISJWW  BIMGSNJ   \n",
       "10164014  VTYMMMX  UWUHPCV      NaN  YYEFTXW  NZGEZLW  CNEYHMW  ABEHJLN   \n",
       "27771629  SOIJWKV  VIJZRJT  YYQVFBZ  MAVCFCM  UAPELIR  GTISJWW  VMKJQCF   \n",
       "11550137  VTYMMMX  IJINYWB      NaN  IYZTLFQ  NZGEZLW  GTISJWW      NaN   \n",
       "...           ...      ...      ...      ...      ...      ...      ...   \n",
       "2295020   IDHAIQQ  VZERVFK  WVRHGBC  YBZKRWS  NZGEZLW  GTISJWW  WBRNLYI   \n",
       "996962    IDHAIQQ  VURYQFB      NaN  STJSBJK  VNUTGDW  CNEYHMW  ABEHJLN   \n",
       "13650257  IDHAIQQ  RMWXTFL      NaN  YYEFTXW  WVTRIIE  GTISJWW  VXXUNFA   \n",
       "9074937   WADCLQA  JEISAYE  WVRHGBC  YYEFTXW  GSKQQNY  KHZNEZF  QMOULXS   \n",
       "6118378   VTYMMMX  TBJLIAF  WVRHGBC  YYEFTXW  SHTAFXE  KHZNEZF  QMOULXS   \n",
       "\n",
       "          F35_new  F37_new  F39_new  \n",
       "13803063  IRUDRFB  ABDGSWK  NXGSDNU  \n",
       "3478273   IRUDRFB  CEKWPPW  TKKNKPZ  \n",
       "10164014  IRUDRFB  ZIRTYOB  ZHVURWN  \n",
       "27771629  IRUDRFB  NNSGHCV  PBXEJNH  \n",
       "11550137  IRUDRFB  LFJKFHO  EFVRMLF  \n",
       "...           ...      ...      ...  \n",
       "2295020   IRUDRFB  RTZZYBQ  OJJPIAS  \n",
       "996962    IRUDRFB  ZIRTYOB  RZJQFRG  \n",
       "13650257  IRUDRFB  KYQTBXN  VSCAKME  \n",
       "9074937   IRUDRFB  LJWUPTR  YINTNCW  \n",
       "6118378   IRUDRFB  ZVSTLNM  AOCQXCK  \n",
       "\n",
       "[22884312 rows x 64 columns]"
      ]
     },
     "execution_count": 8,
     "metadata": {},
     "output_type": "execute_result"
    }
   ],
   "source": [
    "X_train"
   ]
  },
  {
   "cell_type": "code",
   "execution_count": null,
   "metadata": {},
   "outputs": [],
   "source": []
  }
 ],
 "metadata": {
  "kernelspec": {
   "display_name": "code_sim",
   "language": "python",
   "name": "python3"
  },
  "language_info": {
   "codemirror_mode": {
    "name": "ipython",
    "version": 3
   },
   "file_extension": ".py",
   "mimetype": "text/x-python",
   "name": "python",
   "nbconvert_exporter": "python",
   "pygments_lexer": "ipython3",
   "version": "3.9.18"
  }
 },
 "nbformat": 4,
 "nbformat_minor": 2
}
