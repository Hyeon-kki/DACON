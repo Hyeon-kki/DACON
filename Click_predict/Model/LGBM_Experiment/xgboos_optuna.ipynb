{
 "cells": [
  {
   "cell_type": "code",
   "execution_count": null,
   "metadata": {},
   "outputs": [],
   "source": [
    "import numpy as np\n",
    "import polars as pl\n",
    "import pandas as pd\n",
    "import matplotlib.pyplot as plt\n",
    "import seaborn as sns\n",
    "import sys\n",
    "sys.path.append(\"..\")\n",
    "from utils import *\n",
    "import warnings\n",
    "warnings.filterwarnings(\"ignore\")\n",
    "import os\n",
    "import psutil\n",
    "\n",
    "pd.options.display.max_columns=1000\n",
    "pd.options.display.max_rows=1000\n",
    "\n",
    "import lightgbm as lgb\n",
    "import matplotlib.pyplot as plt\n",
    "import seaborn as sns\n",
    "from sklearn.model_selection import train_test_split\n",
    "from sklearn.metrics import roc_auc_score \n",
    "import optuna\n",
    "from optuna import Trial\n",
    "from optuna.samplers import TPESampler\n"
   ]
  },
  {
   "cell_type": "code",
   "execution_count": null,
   "metadata": {},
   "outputs": [],
   "source": [
    "''' Seed '''\n",
    "seed_everything(42)\n",
    "\n",
    "''' Data Load '''\n",
    "train, test, sample_submission = load_data()\n",
    "\n",
    "''' Train / Vaild Split'''\n",
    "X_train = train.drop(columns = [\"Click\"]) \n",
    "y_train = train[\"Click\"]\n",
    "X_train, X_valid, y_train, y_valid = train_test_split(X_train, y_train, test_size=0.2, stratify=y_train, random_state=42)\n",
    "\n",
    "''' preprocessing '''\n",
    "train_fre, test_fre = preprocessing(X_train, X_valid, test) "
   ]
  },
  {
   "cell_type": "code",
   "execution_count": null,
   "metadata": {},
   "outputs": [],
   "source": [
    "def objective(trial, t_X, t_y, v_X, v_y):\n",
    "  param = {\"n_estimators\": trial.suggest_int(\"n_estimators:\", 100, 1000),\n",
    "           \"max_depth\": trial.suggest_int(\"max_depth\", 6, 30),\n",
    "           \"subsample\": trial.suggest_float(\"subsample\", 0.3, 1.0),\n",
    "           \"learning_rate\":  trial.suggest_float(\"learning_rate\", 0.01, 0.3),\n",
    "           'lambda': trial.suggest_float('lambda', 1e-3, 0.1),\n",
    "           'alpha': trial.suggest_float('alpha', 1e-3, 1.0),\n",
    "           'min_child_weight': trial.suggest_int('min_child_weight', 2, 50)}\n",
    "\n",
    "  model = lgb.LGBMClassifier(random_state=42, **param)\n",
    "\n",
    "  model.fit(t_X, t_y, eval_metric='AUC')\n",
    "  pred = model.predict_proba(v_X)\n",
    "  score = roc_auc_score(v_y, pred[:, 1])\n",
    "\n",
    "  return score"
   ]
  },
  {
   "cell_type": "code",
   "execution_count": null,
   "metadata": {},
   "outputs": [],
   "source": [
    "study = optuna.create_study(study_name='XCClassifier', direction='maximize', sampler=TPESampler(seed=42))\n",
    "study.optimize(lambda trial: objective(trial, X_train, y_train, X_valid, y_valid), n_trials=20)\n",
    "\n",
    "print(\"Best Score:\", study.best_value)\n",
    "print(\"Best trial:\", study.best_trial.params)"
   ]
  }
 ],
 "metadata": {
  "language_info": {
   "name": "python"
  }
 },
 "nbformat": 4,
 "nbformat_minor": 2
}
