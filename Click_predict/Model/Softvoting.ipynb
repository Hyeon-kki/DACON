{
 "cells": [
  {
   "cell_type": "code",
   "execution_count": 2,
   "metadata": {},
   "outputs": [],
   "source": [
    "import numpy as np\n",
    "import polars as pl\n",
    "import pandas as pd\n",
    "import matplotlib.pyplot as plt\n",
    "import seaborn as sns\n",
    "import sys\n",
    "sys.path.append(\"..\")\n",
    "from utils import *\n",
    "import warnings\n",
    "warnings.filterwarnings(\"ignore\")\n",
    "import os\n",
    "import psutil\n",
    "\n",
    "pd.options.display.max_columns=1000\n",
    "pd.options.display.max_rows=1000\n",
    "\n",
    "import lightgbm as lgb\n",
    "import matplotlib.pyplot as plt\n",
    "import seaborn as sns\n",
    "from sklearn.model_selection import train_test_split\n",
    "from sklearn.metrics import roc_auc_score \n",
    "from catboost import CatBoostClassifier, Pool"
   ]
  },
  {
   "cell_type": "code",
   "execution_count": 3,
   "metadata": {},
   "outputs": [
    {
     "ename": "",
     "evalue": "",
     "output_type": "error",
     "traceback": [
      "\u001b[1;31m현재 셀 또는 이전 셀에서 코드를 실행하는 동안 Kernel이 충돌했습니다. \n",
      "\u001b[1;31m셀의 코드를 검토하여 가능한 오류 원인을 식별하세요. \n",
      "\u001b[1;31m자세한 내용을 보려면 <a href='https://aka.ms/vscodeJupyterKernelCrash'>여기</a>를 클릭하세요. \n",
      "\u001b[1;31m자세한 내용은 Jupyter <a href='command:jupyter.viewOutput'>로그</a>를 참조하세요."
     ]
    }
   ],
   "source": [
    "''' Seed '''\n",
    "seed_everything(42)\n",
    "\n",
    "''' Data Load '''\n",
    "train = pd.read_csv(\"/home/workspace/DACON/Click_predict/data/train3.csv\")\n",
    "test = pd.read_csv(\"/home/workspace/DACON/Click_predict/data/test3.csv\")\n",
    "# train = preprocessing(train)\n",
    "# test = preprocessing(test, is_test = True)\n",
    "\n",
    "''' Train / Vaild Split'''\n",
    "param = {'max_depth': 30,\n",
    " 'num_leaves': 306,\n",
    " 'subsample': 0.9757365622458185,\n",
    " 'subsample_freq': 8,\n",
    " \"n_estimators\" : 1000,\n",
    " 'min_child_samples': 136}\n",
    "\n",
    "X_train = train.drop(columns = [\"Click\"]) \n",
    "y_train = train[\"Click\"]\n",
    "\n",
    "''' Model '''\n",
    "model = lgb.LGBMClassifier(random_state=42, **param)\n",
    "\n",
    "''' K-Fold '''\n",
    "valid_array, test_array, voting = Kfold(model, 7, X_train, y_train, test, True)"
   ]
  },
  {
   "cell_type": "code",
   "execution_count": null,
   "metadata": {},
   "outputs": [],
   "source": []
  }
 ],
 "metadata": {
  "kernelspec": {
   "display_name": "code_sim",
   "language": "python",
   "name": "python3"
  },
  "language_info": {
   "codemirror_mode": {
    "name": "ipython",
    "version": 3
   },
   "file_extension": ".py",
   "mimetype": "text/x-python",
   "name": "python",
   "nbconvert_exporter": "python",
   "pygments_lexer": "ipython3",
   "version": "3.9.18"
  }
 },
 "nbformat": 4,
 "nbformat_minor": 2
}
