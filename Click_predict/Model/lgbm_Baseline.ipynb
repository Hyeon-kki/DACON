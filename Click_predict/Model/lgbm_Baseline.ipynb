{
 "cells": [
  {
   "cell_type": "code",
   "execution_count": 1,
   "metadata": {},
   "outputs": [],
   "source": [
    "import pandas as pd \n",
    "import numpy as np \n",
    "from sklearn.preprocessing import LabelEncoder\n",
    "from sklearn.metrics import roc_auc_score\n",
    "import sys\n",
    "sys.path.append(\"..\")\n",
    "from utils import *\n",
    "import warnings\n",
    "warnings.filterwarnings(\"ignore\")\n",
    "\n",
    "import lightgbm as lgb"
   ]
  },
  {
   "cell_type": "code",
   "execution_count": 2,
   "metadata": {},
   "outputs": [],
   "source": [
    "''' Data Load '''\n",
    "train, test = load_data()\n",
    "\n",
    "''' Seed '''\n",
    "seed_everything(42)\n",
    "\n",
    "''' Data Load '''\n",
    "train = preprocessing(train)\n",
    "test = preprocessing(test, is_test = True)"
   ]
  },
  {
   "cell_type": "code",
   "execution_count": 3,
   "metadata": {},
   "outputs": [
    {
     "name": "stdout",
     "output_type": "stream",
     "text": [
      "---------------- 0 fold의 Acc: 0.7634894029807717 ----------------\n",
      "---------------- 1 fold의 Acc: 0.7628595988535454 ----------------\n",
      "---------------- 2 fold의 Acc: 0.7628177795916435 ----------------\n",
      "---------------- Aver Acc: 0.7630555938086535 ----------------\n"
     ]
    },
    {
     "ename": "TypeError",
     "evalue": "unsupported operand type(s) for /: 'list' and 'int'",
     "output_type": "error",
     "traceback": [
      "\u001b[0;31m---------------------------------------------------------------------------\u001b[0m",
      "\u001b[0;31mTypeError\u001b[0m                                 Traceback (most recent call last)",
      "Cell \u001b[0;32mIn[3], line 6\u001b[0m\n\u001b[1;32m      4\u001b[0m lgbm \u001b[38;5;241m=\u001b[39m lgb\u001b[38;5;241m.\u001b[39mLGBMClassifier(objective\u001b[38;5;241m=\u001b[39m\u001b[38;5;124m'\u001b[39m\u001b[38;5;124mbinary\u001b[39m\u001b[38;5;124m'\u001b[39m)\n\u001b[1;32m      5\u001b[0m pred_list, k \u001b[38;5;241m=\u001b[39m Kfold(lgbm, \u001b[38;5;241m3\u001b[39m, X_train, y_train)\n\u001b[0;32m----> 6\u001b[0m voting_pred \u001b[38;5;241m=\u001b[39m \u001b[43mpred_list\u001b[49m\u001b[38;5;241;43m/\u001b[39;49m\u001b[43mk\u001b[49m\n",
      "\u001b[0;31mTypeError\u001b[0m: unsupported operand type(s) for /: 'list' and 'int'"
     ]
    }
   ],
   "source": [
    "''' K-Fold '''\n",
    "X_train = train.drop(columns=['Click'])\n",
    "y_train = train['Click']\n",
    "lgbm = lgb.LGBMClassifier(objective='binary')\n",
    "pred_list, Score_list, k = Kfold(lgbm, 3, X_train, y_train)\n",
    "pred = sum(pred_list)/k"
   ]
  },
  {
   "cell_type": "code",
   "execution_count": null,
   "metadata": {},
   "outputs": [],
   "source": [
    "''' Submission '''\n",
    "sample_submission = pd.read_csv('/home/workspace/DACON/Click_predict/data/sample_submission.csv')\n",
    "sample_submission['Click'] = pred\n",
    "sample_submission.to_csv('lgbm_predict_proba.csv', index=False)"
   ]
  }
 ],
 "metadata": {
  "kernelspec": {
   "display_name": "code_sim",
   "language": "python",
   "name": "python3"
  },
  "language_info": {
   "codemirror_mode": {
    "name": "ipython",
    "version": 3
   },
   "file_extension": ".py",
   "mimetype": "text/x-python",
   "name": "python",
   "nbconvert_exporter": "python",
   "pygments_lexer": "ipython3",
   "version": "3.9.18"
  }
 },
 "nbformat": 4,
 "nbformat_minor": 2
}
