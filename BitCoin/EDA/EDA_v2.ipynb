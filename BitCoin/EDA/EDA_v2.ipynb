{
 "cells": [
  {
   "cell_type": "code",
   "execution_count": 2,
   "metadata": {},
   "outputs": [],
   "source": [
    "import pandas as pd \n",
    "import numpy as np \n",
    "from tqdm import tqdm\n",
    "from sklearn.preprocessing import LabelEncoder\n",
    "from sklearn.metrics import roc_auc_score\n",
    "import sys\n",
    "sys.path.append(\"..\")\n",
    "from TimeSeries_utils import *\n",
    "import warnings\n",
    "warnings.filterwarnings(\"ignore\")"
   ]
  },
  {
   "cell_type": "code",
   "execution_count": 4,
   "metadata": {},
   "outputs": [
    {
     "name": "stdout",
     "output_type": "stream",
     "text": [
      "train 데이터 기간 : 2018-01-01 00:00:00 ~ 2024-03-28 23:00:00\n",
      "test 데이터 기간 : 2024-03-29 00:00:00 ~ 2024-05-30 23:00:00\n"
     ]
    }
   ],
   "source": [
    "train = pd.read_csv('/home/workspace/DACON/BitCoin/data/train.csv')\n",
    "test = pd.read_csv('/home/workspace/DACON/BitCoin/data/sample_submission.csv')\n",
    "''' 기간 확인 '''\n",
    "Check_data(train, test, 'Time')"
   ]
  },
  {
   "cell_type": "code",
   "execution_count": null,
   "metadata": {},
   "outputs": [],
   "source": []
  },
  {
   "cell_type": "markdown",
   "metadata": {},
   "source": [
    "train.csv[파일]   \n",
    "\n",
    "\n",
    "데이콘 거래소에서 거래된 비트코인과 관련된 데이터   \n",
    "\n",
    "\n",
    "\n",
    "Time : 거래시간   \n",
    "\n",
    "\n",
    "\n",
    "Open : 시작가(단위:USD)   \n",
    "\n",
    "\n",
    "\n",
    "High : 고가(단위:USD)   \n",
    "\n",
    "\n",
    "\n",
    "Low : 저가(단위:USD)   \n",
    "\n",
    "\n",
    "\n",
    "Close : 종가(단위:USD)   \n",
    "\n",
    "\n",
    "\n",
    "Volume : 거래량   \n",
    "\n",
    "\n",
    "\n",
    "quote_av : 지정된 시간 동안 발생한 거래에서 달러(USD)로 측정된 총 거래 금액   \n",
    "\n",
    "\n",
    "\n",
    "trades : 거래수   \n",
    "\n",
    "\n",
    "\n",
    "tb_base_av : 테이커 거래자들이 해당 기간동안 구매한 비트코인(BTC)의 총량   \n",
    "\n",
    "\n",
    "\n",
    "tb_quote_av : 테이커가 비트코인을 구매할 때 사용한 달러의 총   \n",
    "\n",
    "\n",
    "\n",
    "\n",
    "\n",
    "sample_submission.csv[파일] - 제출 양식   \n",
    "\n",
    "\n",
    "\n",
    "제출양식으로 특정 기간동안의 비트코인 가격(Close) 예측   \n",
    "\n",
    "\n",
    "\n",
    "Time : 거래시간   \n",
    "\n",
    "\n",
    "\n",
    "Close : 종가(단위:USD)"
   ]
  },
  {
   "cell_type": "code",
   "execution_count": 9,
   "metadata": {},
   "outputs": [
    {
     "data": {
      "text/plain": [
       "Open    High    Low     Close   Volume       quote_av      trades  tb_base_av   tb_quote_av    Y     M   D   Day_name  hour\n",
       "31.73   31.92   31.64   31.89   1672.509908  5.317809e+04  6654    1012.089167  32180.389814   2018  12  15  Saturday  16      1\n",
       "288.86  290.19  288.86  290.01  604.376850   1.749709e+05  19649   294.907920   85385.119277   2022  5   28  Saturday  18      1\n",
       "288.90  289.36  288.51  289.14  1102.170870  3.185175e+05  33016   599.735310   173324.718997  2023  5   7   Sunday    6       1\n",
       "288.93  288.98  287.16  288.20  3355.806340  9.675471e+05  62295   1607.909860  463600.580586  2023  4   20  Thursday  13      1\n",
       "        290.88  288.93  289.25  2454.482810  7.105858e+05  48790   1292.420230  374169.393399  2023  4   20  Thursday  6       1\n",
       "                                                                                                                              ..\n",
       "96.19   96.87   95.91   96.73   5040.983746  4.860945e+05  40615   2456.856878  236913.475245  2020  5   19  Tuesday   13      1\n",
       "96.21   96.21   95.31   96.00   3848.067760  3.691641e+05  37792   1544.686786  148192.300490  2020  6   6   Saturday  0       1\n",
       "        96.25   95.78   95.84   534.622729   5.133986e+04  7578    290.325664   27882.187223   2019  8   30  Friday    21      1\n",
       "        96.39   96.02   96.11   358.968949   3.453137e+04  6091    221.737927   21332.136362   2019  8   31  Saturday  3       1\n",
       "735.77  737.76  730.99  732.23  2060.245156  1.512645e+06  115200  1044.727496  767063.653472  2024  3   14  Thursday  7       1\n",
       "Name: count, Length: 54574, dtype: int64"
      ]
     },
     "execution_count": 9,
     "metadata": {},
     "output_type": "execute_result"
    }
   ],
   "source": [
    "df.value_counts()"
   ]
  },
  {
   "cell_type": "code",
   "execution_count": 15,
   "metadata": {},
   "outputs": [
    {
     "data": {
      "text/plain": [
       "Time                 Close\n",
       "2024-03-29 00:00:00  0        1\n",
       "2024-05-09 20:00:00  0        1\n",
       "2024-05-10 05:00:00  0        1\n",
       "2024-05-10 04:00:00  0        1\n",
       "2024-05-10 03:00:00  0        1\n",
       "                             ..\n",
       "2024-04-18 22:00:00  0        1\n",
       "2024-04-18 21:00:00  0        1\n",
       "2024-04-18 20:00:00  0        1\n",
       "2024-04-18 19:00:00  0        1\n",
       "2024-05-30 23:00:00  0        1\n",
       "Name: count, Length: 1512, dtype: int64"
      ]
     },
     "execution_count": 15,
     "metadata": {},
     "output_type": "execute_result"
    }
   ],
   "source": [
    "sub.value_counts()"
   ]
  },
  {
   "cell_type": "code",
   "execution_count": null,
   "metadata": {},
   "outputs": [],
   "source": [
    "# 어떻게 구상할 지 생각하기 \n",
    "# X_train, y_train\n",
    "# X_test, y_test\n"
   ]
  },
  {
   "cell_type": "code",
   "execution_count": null,
   "metadata": {},
   "outputs": [],
   "source": [
    "# 63일을 예측해야함 "
   ]
  }
 ],
 "metadata": {
  "kernelspec": {
   "display_name": "code_sim",
   "language": "python",
   "name": "python3"
  },
  "language_info": {
   "codemirror_mode": {
    "name": "ipython",
    "version": 3
   },
   "file_extension": ".py",
   "mimetype": "text/x-python",
   "name": "python",
   "nbconvert_exporter": "python",
   "pygments_lexer": "ipython3",
   "version": "3.9.18"
  }
 },
 "nbformat": 4,
 "nbformat_minor": 2
}
