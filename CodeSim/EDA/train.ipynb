{
 "cells": [
  {
   "cell_type": "code",
   "execution_count": 18,
   "metadata": {},
   "outputs": [],
   "source": [
    "import pandas as pd\n",
    "import numpy as np\n",
    "import glob\n",
    "from sklearn.feature_extraction.text import CountVectorizer\n",
    "from sklearn.metrics.pairwise import cosine_similarity\n",
    "from tqdm import tqdm\n",
    "import os"
   ]
  },
  {
   "cell_type": "code",
   "execution_count": 11,
   "metadata": {},
   "outputs": [
    {
     "data": {
      "text/plain": [
       "'/home/workspace/DACON/CodeSim/EDA'"
      ]
     },
     "execution_count": 11,
     "metadata": {},
     "output_type": "execute_result"
    }
   ],
   "source": [
    "os.getcwd()"
   ]
  },
  {
   "cell_type": "code",
   "execution_count": 20,
   "metadata": {},
   "outputs": [],
   "source": [
    "val = pd.read_csv(\"../Dataset/sample_train.csv\")"
   ]
  },
  {
   "cell_type": "code",
   "execution_count": 21,
   "metadata": {},
   "outputs": [],
   "source": [
    "test = pd.read_csv(\"../Dataset/test.csv\")"
   ]
  },
  {
   "cell_type": "code",
   "execution_count": 22,
   "metadata": {},
   "outputs": [
    {
     "data": {
      "text/html": [
       "<div>\n",
       "<style scoped>\n",
       "    .dataframe tbody tr th:only-of-type {\n",
       "        vertical-align: middle;\n",
       "    }\n",
       "\n",
       "    .dataframe tbody tr th {\n",
       "        vertical-align: top;\n",
       "    }\n",
       "\n",
       "    .dataframe thead th {\n",
       "        text-align: right;\n",
       "    }\n",
       "</style>\n",
       "<table border=\"1\" class=\"dataframe\">\n",
       "  <thead>\n",
       "    <tr style=\"text-align: right;\">\n",
       "      <th></th>\n",
       "      <th>code1_path</th>\n",
       "      <th>code2_path</th>\n",
       "      <th>code1</th>\n",
       "      <th>code2</th>\n",
       "      <th>similar</th>\n",
       "    </tr>\n",
       "  </thead>\n",
       "  <tbody>\n",
       "    <tr>\n",
       "      <th>0</th>\n",
       "      <td>./train_code/problem393/problem393_19.cpp</td>\n",
       "      <td>./train_code/problem033/problem033_439.cpp</td>\n",
       "      <td>#include &lt;bits/stdc++.h&gt;\\n\\nusing namespace st...</td>\n",
       "      <td>#include &lt;algorithm&gt;\\n#include &lt;bitset&gt;\\n#incl...</td>\n",
       "      <td>0</td>\n",
       "    </tr>\n",
       "    <tr>\n",
       "      <th>1</th>\n",
       "      <td>./train_code/problem019/problem019_210.cpp</td>\n",
       "      <td>./train_code/problem019/problem019_63.cpp</td>\n",
       "      <td>#include &lt;iostream&gt;\\n\\nusing namespace std;\\n\\...</td>\n",
       "      <td>#include &lt;iostream&gt;\\n#include &lt;string&gt;\\nusing ...</td>\n",
       "      <td>1</td>\n",
       "    </tr>\n",
       "    <tr>\n",
       "      <th>2</th>\n",
       "      <td>./train_code/problem107/problem107_486.cpp</td>\n",
       "      <td>./train_code/problem107/problem107_340.cpp</td>\n",
       "      <td>#include &lt;iostream&gt;\\n#include &lt;vector&gt;\\nusing ...</td>\n",
       "      <td>#include &lt;cstdio&gt;\\n#include &lt;cstdlib&gt;\\n#includ...</td>\n",
       "      <td>1</td>\n",
       "    </tr>\n",
       "    <tr>\n",
       "      <th>3</th>\n",
       "      <td>./train_code/problem187/problem187_257.cpp</td>\n",
       "      <td>./train_code/problem403/problem403_135.cpp</td>\n",
       "      <td>#include &lt;bits/stdc++.h&gt;\\n#include &lt;unordered_...</td>\n",
       "      <td>#include &lt;bits/stdc++.h&gt;\\nusing namespace std;...</td>\n",
       "      <td>0</td>\n",
       "    </tr>\n",
       "    <tr>\n",
       "      <th>4</th>\n",
       "      <td>./train_code/problem173/problem173_490.cpp</td>\n",
       "      <td>./train_code/problem173/problem173_345.cpp</td>\n",
       "      <td>#include &lt;bits/stdc++.h&gt;\\ntypedef long long ll...</td>\n",
       "      <td>#include \"bits/stdc++.h\"\\n#define rep(i,n) for...</td>\n",
       "      <td>1</td>\n",
       "    </tr>\n",
       "  </tbody>\n",
       "</table>\n",
       "</div>"
      ],
      "text/plain": [
       "                                   code1_path  \\\n",
       "0   ./train_code/problem393/problem393_19.cpp   \n",
       "1  ./train_code/problem019/problem019_210.cpp   \n",
       "2  ./train_code/problem107/problem107_486.cpp   \n",
       "3  ./train_code/problem187/problem187_257.cpp   \n",
       "4  ./train_code/problem173/problem173_490.cpp   \n",
       "\n",
       "                                   code2_path  \\\n",
       "0  ./train_code/problem033/problem033_439.cpp   \n",
       "1   ./train_code/problem019/problem019_63.cpp   \n",
       "2  ./train_code/problem107/problem107_340.cpp   \n",
       "3  ./train_code/problem403/problem403_135.cpp   \n",
       "4  ./train_code/problem173/problem173_345.cpp   \n",
       "\n",
       "                                               code1  \\\n",
       "0  #include <bits/stdc++.h>\\n\\nusing namespace st...   \n",
       "1  #include <iostream>\\n\\nusing namespace std;\\n\\...   \n",
       "2  #include <iostream>\\n#include <vector>\\nusing ...   \n",
       "3  #include <bits/stdc++.h>\\n#include <unordered_...   \n",
       "4  #include <bits/stdc++.h>\\ntypedef long long ll...   \n",
       "\n",
       "                                               code2  similar  \n",
       "0  #include <algorithm>\\n#include <bitset>\\n#incl...        0  \n",
       "1  #include <iostream>\\n#include <string>\\nusing ...        1  \n",
       "2  #include <cstdio>\\n#include <cstdlib>\\n#includ...        1  \n",
       "3  #include <bits/stdc++.h>\\nusing namespace std;...        0  \n",
       "4  #include \"bits/stdc++.h\"\\n#define rep(i,n) for...        1  "
      ]
     },
     "execution_count": 22,
     "metadata": {},
     "output_type": "execute_result"
    }
   ],
   "source": [
    "val.head()"
   ]
  },
  {
   "cell_type": "code",
   "execution_count": 14,
   "metadata": {},
   "outputs": [
    {
     "data": {
      "text/html": [
       "<div>\n",
       "<style scoped>\n",
       "    .dataframe tbody tr th:only-of-type {\n",
       "        vertical-align: middle;\n",
       "    }\n",
       "\n",
       "    .dataframe tbody tr th {\n",
       "        vertical-align: top;\n",
       "    }\n",
       "\n",
       "    .dataframe thead th {\n",
       "        text-align: right;\n",
       "    }\n",
       "</style>\n",
       "<table border=\"1\" class=\"dataframe\">\n",
       "  <thead>\n",
       "    <tr style=\"text-align: right;\">\n",
       "      <th></th>\n",
       "      <th>pair_id</th>\n",
       "      <th>code1</th>\n",
       "      <th>code2</th>\n",
       "    </tr>\n",
       "  </thead>\n",
       "  <tbody>\n",
       "    <tr>\n",
       "      <th>0</th>\n",
       "      <td>TEST_000000</td>\n",
       "      <td>#include &lt;bits/stdc++.h&gt;\\nusing namespace std;...</td>\n",
       "      <td>#include &lt;bits/stdc++.h&gt;\\n#define rep(i, n) fo...</td>\n",
       "    </tr>\n",
       "    <tr>\n",
       "      <th>1</th>\n",
       "      <td>TEST_000001</td>\n",
       "      <td>#include&lt;bits/stdc++.h&gt;\\n#define rep(i,n)for(i...</td>\n",
       "      <td>// //bitset操作\\n// #include &lt;iostream&gt;\\n// #inc...</td>\n",
       "    </tr>\n",
       "    <tr>\n",
       "      <th>2</th>\n",
       "      <td>TEST_000002</td>\n",
       "      <td>#include &lt;bits/stdc++.h&gt;\\nusing namespace std;...</td>\n",
       "      <td>#include &lt;bits/stdc++.h&gt;\\n#include &lt;ext/pb_ds/...</td>\n",
       "    </tr>\n",
       "    <tr>\n",
       "      <th>3</th>\n",
       "      <td>TEST_000003</td>\n",
       "      <td>#include &lt;bits/stdc++.h&gt;\\nusing namespace std;...</td>\n",
       "      <td>#include &lt;bits/stdc++.h&gt;\\nusing namespace std;...</td>\n",
       "    </tr>\n",
       "    <tr>\n",
       "      <th>4</th>\n",
       "      <td>TEST_000004</td>\n",
       "      <td>#include&lt;bits/stdc++.h&gt;\\nusing namespace std;\\...</td>\n",
       "      <td>#include&lt;iostream&gt;\\n#include&lt;algorithm&gt;\\n#incl...</td>\n",
       "    </tr>\n",
       "  </tbody>\n",
       "</table>\n",
       "</div>"
      ],
      "text/plain": [
       "       pair_id                                              code1  \\\n",
       "0  TEST_000000  #include <bits/stdc++.h>\\nusing namespace std;...   \n",
       "1  TEST_000001  #include<bits/stdc++.h>\\n#define rep(i,n)for(i...   \n",
       "2  TEST_000002  #include <bits/stdc++.h>\\nusing namespace std;...   \n",
       "3  TEST_000003  #include <bits/stdc++.h>\\nusing namespace std;...   \n",
       "4  TEST_000004  #include<bits/stdc++.h>\\nusing namespace std;\\...   \n",
       "\n",
       "                                               code2  \n",
       "0  #include <bits/stdc++.h>\\n#define rep(i, n) fo...  \n",
       "1  // //bitset操作\\n// #include <iostream>\\n// #inc...  \n",
       "2  #include <bits/stdc++.h>\\n#include <ext/pb_ds/...  \n",
       "3  #include <bits/stdc++.h>\\nusing namespace std;...  \n",
       "4  #include<iostream>\\n#include<algorithm>\\n#incl...  "
      ]
     },
     "execution_count": 14,
     "metadata": {},
     "output_type": "execute_result"
    }
   ],
   "source": [
    "test.head()"
   ]
  },
  {
   "cell_type": "code",
   "execution_count": 15,
   "metadata": {},
   "outputs": [
    {
     "data": {
      "text/plain": [
       "595000"
      ]
     },
     "execution_count": 15,
     "metadata": {},
     "output_type": "execute_result"
    }
   ],
   "source": [
    "len(test)"
   ]
  },
  {
   "cell_type": "code",
   "execution_count": 1,
   "metadata": {},
   "outputs": [],
   "source": [
    "from sklearn.feature_extraction.text import CountVectorizer\n",
    "from sklearn.metrics.pairwise import cosine_similarity\n",
    "import numpy as np\n",
    "import pandas as pd\n",
    "import glob\n",
    "from tqdm import tqdm\n",
    "\n",
    "\n",
    "class BaselineModel():\n",
    "    def __init__(self, threshold = 0.5) -> None:\n",
    "        super(BaselineModel, self).__init__() # 이름 정의하는 것이다. \n",
    "        self.threshold = threshold\n",
    "        self.vocabulary = set()\n",
    "        self.vectorizer = None\n",
    "\n",
    "    def get_vectorizer(self) -> CountVectorizer:\n",
    "        return CountVectorizer(vocabulary=list(self.vocabulary))\n",
    "\n",
    "    def fit(self, code):\n",
    "        temp_vectorizer = CountVectorizer()\n",
    "        temp_vectorizer.fit(code)\n",
    "        # print(temp_vectorizer.get_feature_names_out())\n",
    "        self.vocabulary.update(temp_vectorizer.get_feature_names_out())\n",
    "        self.vectorizer = self.get_vectorizer()\n",
    "    \n",
    "    def predict_prob(self, code1, code2) -> np.array:\n",
    "        code1_vectors = self.vectorizer.transform(code1)\n",
    "        code2_vectors = self.vectorizer.transform(code2)\n",
    "\n",
    "        preds = []\n",
    "\n",
    "        for code1_vec, code2_vec in tqdm(zip(code1_vectors ,code2_vectors)):\n",
    "            preds.append(cosine_similarity(code1_vec, code2_vec))\n",
    "        \n",
    "        preds = np.reshape(preds, len(preds))\n",
    "\n",
    "        return preds\n",
    "    \n",
    "    def predict(self, code1, code2) -> np.array:\n",
    "        preds = self.predict_proba(code1, code2) # 유사도 계산합니다.\n",
    "        preds = np.where(preds>self.threshold, 1, 0) # threshold를 기준으로 판별합니다.\n",
    "        return preds\n",
    "\n",
    "def read_cpp_code(file_path): \n",
    "    with open(file_path, 'r', encoding='utf-8') as file:\n",
    "        return file.read()\n",
    "\n",
    "def get_accuracy(gt, preds): # 모델의 정확도 측정을 위한 함수입니다.\n",
    "    return (gt == preds).mean()"
   ]
  },
  {
   "cell_type": "code",
   "execution_count": null,
   "metadata": {},
   "outputs": [],
   "source": [
    "val = pd.read_csv(\"../Dataset/sample_train.csv\")\n",
    "test = pd.read_csv(\"../Dataset/test.csv\")\n",
    "train_code_paths = glob.glob('../Dataset/train_code/*/*.cpp')\n",
    "\n",
    "model = BaselineModel(threshold=0.5)\n",
    "\n",
    "for path in tqdm(train_code_paths):\n",
    "    code = read_cpp_code(path)\n",
    "    model.fit([code]) # 읽어온 코드를 리스트로 묶어 모델에 학습시킵니다\n",
    "\n",
    "val_preds = model.predict(val['code1'], val['code2'])\n",
    "print(get_accuracy(val['similar'].values, val_preds))\n",
    "\n",
    "# 모델 추론\n",
    "preds = model.predict(test['code1'], test['code2'])\n",
    "\n",
    "# 제출\n",
    "submission = pd.read_csv('./sample_submission.csv')\n",
    "submission['similar'] = preds\n",
    "submission.to_csv('./base_submit.csv', index=False)"
   ]
  }
 ],
 "metadata": {
  "kernelspec": {
   "display_name": "code_sim",
   "language": "python",
   "name": "python3"
  },
  "language_info": {
   "codemirror_mode": {
    "name": "ipython",
    "version": 3
   },
   "file_extension": ".py",
   "mimetype": "text/x-python",
   "name": "python",
   "nbconvert_exporter": "python",
   "pygments_lexer": "ipython3",
   "version": "3.9.18"
  }
 },
 "nbformat": 4,
 "nbformat_minor": 2
}
