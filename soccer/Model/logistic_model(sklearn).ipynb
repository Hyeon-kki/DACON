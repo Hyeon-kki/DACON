{
 "cells": [
  {
   "cell_type": "code",
   "execution_count": 1,
   "metadata": {},
   "outputs": [],
   "source": [
    "import pandas as pd\n",
    "import numpy as np\n",
    "import random\n",
    "import os\n",
    "\n",
    "import statsmodels.api as sm\n",
    "from sklearn.linear_model import LogisticRegression\n",
    "from sklearn.metrics import log_loss\n",
    "\n",
    "import sys\n",
    "sys.path.append(\"..\")\n",
    "from utils import *\n",
    "from preprocessing_utils import *\n",
    "import warnings\n",
    "warnings.filterwarnings(\"ignore\")\n",
    "\n",
    "def seed_everything(seed):\n",
    "    random.seed(seed)\n",
    "    os.environ['PYTHONHASHSEED'] = str(seed)\n",
    "    np.random.seed(seed)\n",
    "\n",
    "seed_everything(42)"
   ]
  },
  {
   "cell_type": "code",
   "execution_count": 2,
   "metadata": {},
   "outputs": [
    {
     "name": "stdout",
     "output_type": "stream",
     "text": [
      "0.9330367863405794\n"
     ]
    }
   ],
   "source": [
    "train, valid = load_train_valid()\n",
    "train_x, train_y, valid_x, valid_y = preprocessing(train, valid, is_test=False)\n",
    "lec = LabelEncoder()\n",
    "train_y = lec.fit_transform(train_y)\n",
    "valid_y = lec.transform(valid_y)\n",
    "\n",
    "# sklearn\n",
    "model = LogisticRegression(max_iter=100,\n",
    "                        penalty='l2',\n",
    "                        C=1.0)\n",
    "model.fit(train_x, train_y) \n",
    "\n",
    "prediction = model.predict_proba(valid_x)\n",
    "multi_loloss = log_loss(valid_y, prediction)\n",
    "print(multi_loloss)"
   ]
  },
  {
   "cell_type": "code",
   "execution_count": 4,
   "metadata": {},
   "outputs": [],
   "source": [
    "train, test = load_train_test()\n",
    "train_x, train_y, test= preprocessing(train, test,  is_test=True)\n",
    "\n",
    "lec = LabelEncoder()\n",
    "train_y = lec.fit_transform(train_y)\n",
    "\n",
    "# sklearn \n",
    "model = LogisticRegression(max_iter=100,\n",
    "                        penalty='l2',\n",
    "                        C=1.0)\n",
    "model.fit(train_x, train_y) \n",
    "\n",
    "prediction = model.predict_proba(test)\n",
    "sample_submission = pd.read_csv('/home/workspace/DACON/soccer/Data/sample_submission.csv')\n",
    "sample_submission.iloc[:,1:] = prediction\n",
    "sample_submission.to_csv('sample_submission_best_min.csv', index= False)"
   ]
  },
  {
   "cell_type": "code",
   "execution_count": null,
   "metadata": {},
   "outputs": [],
   "source": []
  }
 ],
 "metadata": {
  "kernelspec": {
   "display_name": "code_sim",
   "language": "python",
   "name": "python3"
  },
  "language_info": {
   "codemirror_mode": {
    "name": "ipython",
    "version": 3
   },
   "file_extension": ".py",
   "mimetype": "text/x-python",
   "name": "python",
   "nbconvert_exporter": "python",
   "pygments_lexer": "ipython3",
   "version": "3.9.18"
  }
 },
 "nbformat": 4,
 "nbformat_minor": 2
}
