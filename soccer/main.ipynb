{
 "cells": [
  {
   "cell_type": "code",
   "execution_count": 4,
   "metadata": {},
   "outputs": [],
   "source": [
    "import pandas as pd\n",
    "import numpy as np\n",
    "import random\n",
    "import os\n",
    "from sklearn.linear_model import LogisticRegression\n",
    "from sklearn.metrics import log_loss\n",
    "from utils import *\n",
    "from preprocessing_utils import *\n",
    "import warnings\n",
    "warnings.filterwarnings(\"ignore\")\n",
    "\n",
    "def seed_everything(seed):\n",
    "    random.seed(seed)\n",
    "    os.environ['PYTHONHASHSEED'] = str(seed)\n",
    "    np.random.seed(seed)\n",
    "\n",
    "seed_everything(42)"
   ]
  },
  {
   "cell_type": "code",
   "execution_count": 6,
   "metadata": {},
   "outputs": [
    {
     "name": "stdout",
     "output_type": "stream",
     "text": [
      "1.0428031102985622\n"
     ]
    }
   ],
   "source": [
    "train_x, train_y, valid_x, valid_y = load_train_valid()\n",
    "train_x, valid_x= preprocessing(train_x, valid_x)\n",
    "\n",
    "model = LogisticRegression(max_iter=100,\n",
    "                           penalty='l2',\n",
    "                           C=1.0)\n",
    "\n",
    "model.fit(train_x, train_y) \n",
    "prediction = model.predict_proba(valid_x)\n",
    "multi_loloss = log_loss(valid_y, prediction)\n",
    "print(multi_loloss)\n",
    "\n",
    "sample_submission = pd.read_csv('/home/workspace/DACON/soccer/Data/sample_submission.csv')\n",
    "sample_submission.iloc[:,1:] = prediction\n",
    "sample_submission.to_csv('baseline_submission_1.0428.csv', index=False)"
   ]
  },
  {
   "cell_type": "code",
   "execution_count": null,
   "metadata": {},
   "outputs": [],
   "source": []
  }
 ],
 "metadata": {
  "kernelspec": {
   "display_name": "code_sim",
   "language": "python",
   "name": "python3"
  },
  "language_info": {
   "codemirror_mode": {
    "name": "ipython",
    "version": 3
   },
   "file_extension": ".py",
   "mimetype": "text/x-python",
   "name": "python",
   "nbconvert_exporter": "python",
   "pygments_lexer": "ipython3",
   "version": "3.9.18"
  }
 },
 "nbformat": 4,
 "nbformat_minor": 2
}
