{
 "cells": [
  {
   "cell_type": "code",
   "execution_count": 1,
   "metadata": {},
   "outputs": [],
   "source": [
    "import pandas as pd\n",
    "import numpy as np\n",
    "import random\n",
    "import os\n",
    "from sklearn.linear_model import LogisticRegression\n",
    "from sklearn.metrics import log_loss\n",
    "from utils import *\n",
    "from preprocessing_utils import *\n",
    "import warnings\n",
    "warnings.filterwarnings(\"ignore\")\n",
    "\n",
    "def seed_everything(seed):\n",
    "    random.seed(seed)\n",
    "    os.environ['PYTHONHASHSEED'] = str(seed)\n",
    "    np.random.seed(seed)\n",
    "\n",
    "seed_everything(42)"
   ]
  },
  {
   "cell_type": "code",
   "execution_count": 2,
   "metadata": {},
   "outputs": [
    {
     "name": "stdout",
     "output_type": "stream",
     "text": [
      "1.0386930397361838\n"
     ]
    }
   ],
   "source": [
    "train_x, train_y, valid_x, valid_y = load_train_valid()\n",
    "train_x, valid_x= preprocessing(train_x, valid_x)\n",
    "\n",
    "model = LogisticRegression(max_iter=100,\n",
    "                        penalty='l2',\n",
    "                        C=1.0)\n",
    "\n",
    "model.fit(train_x, train_y) \n",
    "prediction = model.predict_proba(valid_x)\n",
    "multi_loloss = log_loss(valid_y, prediction)\n",
    "print(multi_loloss)"
   ]
  },
  {
   "cell_type": "code",
   "execution_count": 3,
   "metadata": {},
   "outputs": [],
   "source": [
    "sample_submission = pd.read_csv('/home/workspace/DACON/soccer/Data/sample_submission.csv')\n",
    "sample_submission.iloc[:,1:] = prediction\n",
    "sample_submission.to_csv('baseline_submission_1.03869.csv', index=False)"
   ]
  },
  {
   "cell_type": "code",
   "execution_count": null,
   "metadata": {},
   "outputs": [],
   "source": []
  },
  {
   "cell_type": "code",
   "execution_count": 9,
   "metadata": {},
   "outputs": [
    {
     "name": "stdout",
     "output_type": "stream",
     "text": [
      "1.0428031102985622\n",
      "1.0431914624098098\n",
      "1.0650379825862843\n",
      "1.0575858978597097\n",
      "1.0593347427234419\n",
      "1.0565014537491515\n",
      "1.0538346631589712\n",
      "1.0545490140694609\n",
      "1.0523365350188418\n",
      "1.0502191657600557\n",
      "1.0494087969462564\n",
      "1.0470706078805796\n",
      "1.0455536157004404\n",
      "1.0446862880361203\n",
      "1.0440733168967582\n",
      "1.0423921575362405\n",
      "1.0432448393872098\n",
      "1.0443252161583338\n",
      "1.0426716664308613\n",
      "1.0434118070669376\n",
      "1.042762210305061\n",
      "1.0422306634499494\n",
      "1.0427947313051262\n",
      "1.0386930397361838\n"
     ]
    }
   ],
   "source": [
    "# date_list = [200001, 200102, 202223, 202122, 202021, 201920, 201819, 201718, 201617,\n",
    "#        201516, 201415, 201314, 201213, 201112, 201011, 200910, 200809, 200708,\n",
    "#        200607, 200506, 200405, 200304, 200203, 202324]\n",
    "# for date in date_list:\n",
    "#     train_x, train_y, valid_x, valid_y = load_train_valid()\n",
    "#     train_x, valid_x= preprocessing(train_x, valid_x, date)\n",
    "\n",
    "#     model = LogisticRegression(max_iter=100,\n",
    "#                             penalty='l2',\n",
    "#                             C=1.0)\n",
    "\n",
    "#     model.fit(train_x, train_y) \n",
    "#     prediction = model.predict_proba(valid_x)\n",
    "#     multi_loloss = log_loss(valid_y, prediction)\n",
    "#     print(multi_loloss)\n",
    "\n",
    "#     # sample_submission = pd.read_csv('/home/workspace/DACON/soccer/Data/sample_submission.csv')\n",
    "#     # sample_submission.iloc[:,1:] = prediction\n"
   ]
  }
 ],
 "metadata": {
  "kernelspec": {
   "display_name": "code_sim",
   "language": "python",
   "name": "python3"
  },
  "language_info": {
   "codemirror_mode": {
    "name": "ipython",
    "version": 3
   },
   "file_extension": ".py",
   "mimetype": "text/x-python",
   "name": "python",
   "nbconvert_exporter": "python",
   "pygments_lexer": "ipython3",
   "version": "3.9.18"
  }
 },
 "nbformat": 4,
 "nbformat_minor": 2
}
